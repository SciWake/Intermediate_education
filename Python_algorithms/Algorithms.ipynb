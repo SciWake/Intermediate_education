{
 "cells": [
  {
   "cell_type": "markdown",
   "id": "09ea3c42",
   "metadata": {},
   "source": [
    "<h1 style=\"color:black\" align=\"center\">1. Сложность алгоритмов</h1>\n",
    "\n",
    "<h1 style=\"color:black\" align=\"center\">1.1 Базовые понятия</h1>\n",
    "\n",
    "<h1 style=\"color:#008B8B\">Задача</h1>\n",
    "\n",
    "**Задача** — это соответствие, определяющее зависимость выхода (слова) от входа (слова). \n",
    "\n",
    "Что означает выход слова и вход слова? Это означает что все задачи в теории алгоритмов рассматриваются как задачи над некоторыми словами.\n",
    "\n",
    "$\\Sigma$ — алфавит (произвольное конечное множество, элементы которого интерпретируются как символы). Другими словами, имеется произвольное конечное множество и будем определять это множество как алфавит, а элементы этого множества мы будем трактовать как символ.\n",
    "\n",
    "$\\Sigma^*$ — множество всех слов из букв алфавита $\\Sigma$. \n",
    "\n",
    "$\\rho\\subset\\Sigma^*\\times\\Sigma^*$ — бинарное отношение, определяющее задачу. Пара $(x,y)\\in\\rho(x,y)$ показывает, что $y$ является допустимым выходом для входа $x$."
   ]
  },
  {
   "cell_type": "markdown",
   "id": "fb8c9615",
   "metadata": {},
   "source": [
    "<h1 style=\"color:#008B8B\">Алгоритм</h1>\n",
    "\n",
    "**Алгоритм** — это последовательность элементарных операций, обрабатывающая входную строку $x$ для получения выходной строки $y$ такой, что $(x,y)\\in\\rho(x,y)$\n",
    "\n",
    "Под элементарной операцией в этом курсе мы будем понимать операции, исполняющиеся непосредственно на процессоре: сложение чисел, умножение и т.д.\n",
    "\n",
    "**Программа** — это алгоритм, выраженный на некотором языке, который может быть транслирован в элементарные операции\n",
    "\n",
    "\n",
    "<h1 style=\"color:#008B8B\">Сложность алгоритма</h1>\n",
    "\n",
    "**Временная сложность алгоритма** — это функция $f(n)$, $f:N\\rightarrow N$, показывающая точную верхнюю границу количества элементарных операций, необходимых для завершения работы алгоритма, в зависимости от количества символов во входе\n",
    "\n",
    "**Емкостная сложность алгоритма** — аналогичная оценка для **дополнительной** памяти, необходимой для анализа входа. Память, использующаяся для хранения входа, не учитывается."
   ]
  },
  {
   "cell_type": "markdown",
   "id": "eedf7fbc",
   "metadata": {},
   "source": [
    "<h1 style=\"color:black\" align=\"center\">1.2 O-нотация</h1>\n",
    "\n",
    "Для оценки сложности инженеры обычно пользуются так называемой О-нотацией. Например, говорят «сложность этого алгоритма O(n²) (произносится: о от эн квадрат), а этого Θ(n log(n)) (произносится: тэта от эн лог эн).\n",
    "\n",
    "Если очень кратко — O(n²) означает, что самое быстро растущее слагаемое в функции сложности — это n в степени не более 2, а Θ(n²) — что степень в точности 2."
   ]
  },
  {
   "cell_type": "markdown",
   "id": "1a10a68b",
   "metadata": {},
   "source": [
    "<h1 style=\"color:#008B8B\">o-малое</h1>\n",
    "\n",
    "$$\\large f(n)=o(g(n)) \\Leftrightarrow$$\n",
    "\n",
    "Для любого $C$ больше нуля существует $n_0$ такое что, для любого $n$ больше $n_0$, функция $f(n)$ меньше чем $C \\cdot g(n)$. Другими словами существует точка $n_0$ после которой для всех $n > n_0$ будет выполняться что $f(n)<C\\cdot g(n)$ и такую точку можно найти для любого $C > 0$, в том числе для любого сколь угодно маленького $C$.\n",
    "\n",
    "$$\\large \\displaystyle \\forall C>0, \\exists n_0 : \\forall n > n_0 \\to f(n)<C\\cdot g(n) \\Leftrightarrow$$\n",
    "\n",
    "$\\exists n_0\\ \\forall n > n_0$ - эта часть означает, что для достаточно больших $n$.\n",
    "\n",
    "Пусть $f(n) = 5n$, а $g(n) = n^2$. В некоторых моментах $f(n) > g(n)$, но начиная с некоторой точки $g(n)$ будет больше, чем $f(n)$. То есть, найдется $n_0$, что для любого $n > n_0$ функция $g(n)$ будет больше чем $f(n)$. \n",
    "\n",
    "$f(n)<C\\cdot g(n)$ для любого $\\displaystyle \\forall C>0$, в том числе и для достаточно малого. Функция $g(n)$ растет на столько быстро, что какое бы маленькое $C$ мы бы не взяли, обязательно найдется точка $n_0$ после которой фукнция $C \\cdot g(n)$ будет больше чем $f(n)$.\n",
    "\n",
    "Именно поэтому умножение на константу не имеет значение.\n",
    "\n",
    "$\\large \\displaystyle \\lim_{n\\rightarrow \\infty} \\frac{f(n)}{g(n)}=0$\n",
    "\n",
    "$\\large \\displaystyle f(n)\\prec g(n))$"
   ]
  },
  {
   "cell_type": "markdown",
   "id": "db449a80",
   "metadata": {},
   "source": [
    "<h1 style=\"color:#008B8B\">O-большое</h1>\n",
    "\n",
    "$$\\large \\displaystyle f(n)=O(g(n)) \\Leftrightarrow$$\n",
    "\n",
    "$$\\large \\displaystyle \\exists C>0, \\exists n_0 : \\forall n>n_0 \\to f(n)< C\\cdot g(n) \\Leftarrow$$\n",
    "\n",
    "$\\large \\displaystyle \\lim_{n\\rightarrow \\infty} \\frac{f(n)}{g(n)}<\\infty$\n",
    "\n",
    "$\\large \\displaystyle f(n)\\preceq g(n)$\n",
    "\n",
    "Предел может не существовать, поэтому импликация только в одну сторону."
   ]
  },
  {
   "cell_type": "markdown",
   "id": "54777b11",
   "metadata": {},
   "source": [
    "<h1 style=\"color:#008B8B\">$\\Theta$-большое</h1>\n",
    "\n",
    "\n",
    "$$\\large \\displaystyle f(n)=\\Theta(g(n)) \\Leftrightarrow$$\n",
    "\n",
    "$$\\large \\displaystyle \\exists k_1, k_2 > 0\\ \\exists n_{0}: \\forall n>n_{0} \\to  k_1\\cdot g(n)<f(n)<k_2 \\cdot g(n) \\Leftarrow$$\n",
    "\n",
    "$\\large \\displaystyle \\Leftarrow \\lim_{n\\rightarrow \\infty} \\frac{f(n)}{g(n)}=c>0$\n",
    "\n",
    "$\\large \\displaystyle f(n) \\approx g(n)$\n",
    "\n",
    "Предел может не существовать, поэтому импликация только в одну сторону."
   ]
  },
  {
   "cell_type": "code",
   "execution_count": null,
   "id": "f915142f",
   "metadata": {},
   "outputs": [],
   "source": []
  }
 ],
 "metadata": {
  "kernelspec": {
   "display_name": "Python 3 (ipykernel)",
   "language": "python",
   "name": "python3"
  },
  "language_info": {
   "codemirror_mode": {
    "name": "ipython",
    "version": 3
   },
   "file_extension": ".py",
   "mimetype": "text/x-python",
   "name": "python",
   "nbconvert_exporter": "python",
   "pygments_lexer": "ipython3",
   "version": "3.9.7"
  },
  "varInspector": {
   "cols": {
    "lenName": 16,
    "lenType": 16,
    "lenVar": 40
   },
   "kernels_config": {
    "python": {
     "delete_cmd_postfix": "",
     "delete_cmd_prefix": "del ",
     "library": "var_list.py",
     "varRefreshCmd": "print(var_dic_list())"
    },
    "r": {
     "delete_cmd_postfix": ") ",
     "delete_cmd_prefix": "rm(",
     "library": "var_list.r",
     "varRefreshCmd": "cat(var_dic_list()) "
    }
   },
   "types_to_exclude": [
    "module",
    "function",
    "builtin_function_or_method",
    "instance",
    "_Feature"
   ],
   "window_display": false
  }
 },
 "nbformat": 4,
 "nbformat_minor": 5
}
