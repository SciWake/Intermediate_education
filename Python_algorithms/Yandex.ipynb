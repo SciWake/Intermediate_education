{
 "cells": [
  {
   "cell_type": "markdown",
   "id": "bf34c5d5",
   "metadata": {},
   "source": [
    "<h1 align=\"center\">Тренировки по алгоритмам 1.0</h1>\n",
    "\n",
    "https://yandex.ru/yaintern/algorithm-training_1/\n",
    "\n",
    "<h1 align=\"center\">Лекция 1</h1>"
   ]
  },
  {
   "cell_type": "markdown",
   "id": "0216f99a",
   "metadata": {},
   "source": [
    "<h3 style=\"color:#2E8B57\">Задача № 1</h3>\n",
    "\n",
    "Дана строка (в кодировке UTF-8). Найти самый часто встречающийся в ней символ. Если несколько символов встречаются одинаково часто, то можно вывести любой.\n",
    "\n",
    "<h4 align='center'>Решение:</h4>"
   ]
  },
  {
   "cell_type": "code",
   "execution_count": 2,
   "id": "9e1a96c9",
   "metadata": {},
   "outputs": [
    {
     "name": "stdout",
     "output_type": "stream",
     "text": [
      "f\n"
     ]
    }
   ],
   "source": [
    "s = 'fasdfsdf'\n",
    "\n",
    "anscnt = 0\n",
    "symcnt = {}\n",
    "ans = ''\n",
    "\n",
    "for now in s:\n",
    "    if now not in symcnt:\n",
    "        symcnt[now] = 0\n",
    "    symcnt[now] += 1\n",
    "    if symcnt[now] > anscnt:\n",
    "        ans = now\n",
    "        anscnt = symcnt[now]\n",
    "print(ans)"
   ]
  },
  {
   "cell_type": "markdown",
   "id": "b752a690",
   "metadata": {},
   "source": [
    "<h1 align=\"center\">Яндекс. Тренировки по алгоритмам июнь 2021, занятие 1</h1>\n",
    "\n",
    "https://contest.yandex.ru/contest/27393"
   ]
  },
  {
   "cell_type": "markdown",
   "id": "3b6665f3",
   "metadata": {},
   "source": [
    "<h3 style=\"color:#2E8B57\">I. Узник замка Иф</h3>\n",
    "\n",
    "За многие годы заточения узник замка Иф проделал в стене прямоугольное отверстие размером D × E. Замок Иф сложен из кирпичей, размером A × B × C. Определите, сможет ли узник выбрасывать кирпичи в море через это отверстие, если стороны кирпича должны быть параллельны сторонам отверстия.\n",
    "\n",
    "**Формат ввода**\n",
    "\n",
    "Программа получает на вход числа A, B, C, D, E.\n",
    "\n",
    "**Формат вывода**\n",
    "\n",
    "Программа должна вывести слово YES или NO.\n",
    "\n",
    "<h4 align='center'>Решение:</h4>"
   ]
  },
  {
   "cell_type": "code",
   "execution_count": 19,
   "id": "e9b6eb11",
   "metadata": {},
   "outputs": [
    {
     "name": "stdout",
     "output_type": "stream",
     "text": [
      "1\n",
      "2\n",
      "3\n",
      "4\n",
      "5\n",
      "YES\n"
     ]
    }
   ],
   "source": [
    "def sort2(first, second):\n",
    "    if first < second:\n",
    "        return (first, second)\n",
    "    return (second, first)\n",
    "\n",
    "a = int(input())\n",
    "b = int(input())\n",
    "c = int(input())\n",
    "d = int(input())\n",
    "e = int(input())\n",
    "\n",
    "a, b = sort2(a, b)\n",
    "b, c = sort2(b, c)\n",
    "a, b = sort2(a, b)\n",
    "d, e = sort2(d, e)\n",
    "\n",
    "if a <= d and b <= e:\n",
    "    print('YES')\n",
    "else:\n",
    "    print('NO')"
   ]
  },
  {
   "cell_type": "markdown",
   "id": "b571d63d",
   "metadata": {},
   "source": [
    "<h3 style=\"color:#2E8B57\">H. Метро</h3>\n",
    "\n",
    "На некоторых кросс-платформенных станциях метро (как, например, «Третьяковская») на разные стороны платформы приходят поезда разных направлений. Таня договорилась встретиться с подругой на такой станции, но поскольку подруга приехала из другого часового пояса, то из-за джетлага сильно проспала, и Тане пришлось долго её ждать. Поезда всегда ходят точно по расписанию, и Таня знает, что поезд стоит на платформе ровно одну минуту, а интервал между поездами (время, в течение которого поезда у платформы нет) составляет a минут для поездов на первом пути и b минут для поездов на втором пути. То есть на первый путь приезжает поезд и стоит одну минуту, затем в течение a минут поезда у платформы нет, затем в течение одной минуты у платформы стоит следующий поезд и т. д.\n",
    "\n",
    "Пока Таня стояла на платформе, она насчитала n поездов на первом пути и m поездов на втором пути. Определите минимальное и максимальное время, которое Таня могла провести на платформе, или сообщите, что она точно сбилась со счёта.\n",
    "\n",
    "Все поезда, которые видела Таня, она наблюдала в течение всей минуты, то есть Таня не приходит и не уходит с платформы посередине той минуты, когда поезд стоит на платформе.\n",
    "\n",
    "**Формат ввода**\n",
    "\n",
    "Первая строка входных данных содержит число a — интервал между поездами на первом пути. Вторая строка содержит число b — интервал между поездами на втором пути. Третья строка содержит число n — количество поездов на первом пути, которые увидела Таня. Четвёртая строка содержит число m — количество поездов на втором пути, которые увидела Таня. Все числа — целые, от 1 до 1000.\n",
    "\n",
    "**Формат вывода**\n",
    "\n",
    "Программа должна вывести два числа: минимальное и максимальное время в минутах, которое Таня могла стоять на платформе, или одно число -1, если Таня точно ошиблась."
   ]
  },
  {
   "cell_type": "code",
   "execution_count": 20,
   "id": "2a9bca5a",
   "metadata": {},
   "outputs": [
    {
     "name": "stdout",
     "output_type": "stream",
     "text": [
      "1\n",
      "3\n",
      "3\n",
      "2\n",
      "5 7\n"
     ]
    }
   ],
   "source": [
    "a = int(input())\n",
    "b = int(input())\n",
    "n = int(input())\n",
    "m = int(input())\n",
    "\n",
    "min_a = a * (n - 1) + n \n",
    "max_a = a * (n + 1) + n\n",
    "min_b = b * (m - 1) + m \n",
    "max_b = b * (m + 1) + m\n",
    "\n",
    "left = max(min_a, min_b)\n",
    "right = min(max_a, max_b)\n",
    "\n",
    "if left > right:\n",
    "    print(-1)\n",
    "else:\n",
    "    print(left, right)"
   ]
  },
  {
   "cell_type": "markdown",
   "id": "8cf0ac8b-efb9-4ef6-9201-9777af97ec0b",
   "metadata": {},
   "source": [
    "<h1 align=\"center\">Лекция 2</h1>"
   ]
  },
  {
   "cell_type": "markdown",
   "id": "db0a71a8-e641-4f7d-85f4-232f670d6405",
   "metadata": {},
   "source": [
    "<h3 style=\"color:#2E8B57\">Задача № 1</h3>\n",
    "\n",
    "Дана последовательность чисел диной N (N > 0). Найти максимальное число в последовательности.\n",
    "\n",
    "<h4 align='center'>Решение:</h4>"
   ]
  },
  {
   "cell_type": "code",
   "execution_count": 9,
   "id": "443e5453-e626-4f62-9b73-cf6ed892e34e",
   "metadata": {},
   "outputs": [],
   "source": [
    "def find_max(seq):\n",
    "    ans = seq[0]\n",
    "    for i in range(1, len(seq)):\n",
    "        if seq[i] > ans:\n",
    "            ans = seq[i]\n",
    "    return ans"
   ]
  },
  {
   "cell_type": "code",
   "execution_count": null,
   "id": "cab76a8a-4361-4898-875c-0eec7ff254f8",
   "metadata": {},
   "outputs": [],
   "source": []
  }
 ],
 "metadata": {
  "kernelspec": {
   "display_name": "Python 3 (ipykernel)",
   "language": "python",
   "name": "python3"
  },
  "language_info": {
   "codemirror_mode": {
    "name": "ipython",
    "version": 3
   },
   "file_extension": ".py",
   "mimetype": "text/x-python",
   "name": "python",
   "nbconvert_exporter": "python",
   "pygments_lexer": "ipython3",
   "version": "3.9.7"
  },
  "varInspector": {
   "cols": {
    "lenName": 16,
    "lenType": 16,
    "lenVar": 40
   },
   "kernels_config": {
    "python": {
     "delete_cmd_postfix": "",
     "delete_cmd_prefix": "del ",
     "library": "var_list.py",
     "varRefreshCmd": "print(var_dic_list())"
    },
    "r": {
     "delete_cmd_postfix": ") ",
     "delete_cmd_prefix": "rm(",
     "library": "var_list.r",
     "varRefreshCmd": "cat(var_dic_list()) "
    }
   },
   "types_to_exclude": [
    "module",
    "function",
    "builtin_function_or_method",
    "instance",
    "_Feature"
   ],
   "window_display": false
  }
 },
 "nbformat": 4,
 "nbformat_minor": 5
}
