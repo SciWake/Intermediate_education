{
 "cells": [
  {
   "cell_type": "markdown",
   "id": "a3a74e80",
   "metadata": {},
   "source": [
    "<h1 style=\"color:black\" align=\"center\">Тренировки по алгоритмам 1.0</h1>\n",
    "\n",
    "https://yandex.ru/yaintern/algorithm-training_1/\n",
    "\n",
    "<h1 style=\"color:black\" align=\"center\">Лекция 1</h1>"
   ]
  },
  {
   "cell_type": "markdown",
   "id": "1fcf3a75",
   "metadata": {},
   "source": [
    "<h3 style=\"color:#2E8B57\">Задача № 1</h3>\n",
    "\n",
    "Дана строка (в кодировке UTF-8). Найти самый часто встречающийся в ней символ. Если несколько символов встречаются одинаково часто, то можно вывести любой.\n",
    "\n",
    "<h4 align='center'>Решение:</h4>"
   ]
  },
  {
   "cell_type": "code",
   "execution_count": 2,
   "id": "7070e2c9",
   "metadata": {},
   "outputs": [
    {
     "name": "stdout",
     "output_type": "stream",
     "text": [
      "f\n"
     ]
    }
   ],
   "source": [
    "s = 'fasdfsdf'\n",
    "\n",
    "anscnt = 0\n",
    "symcnt = {}\n",
    "ans = ''\n",
    "\n",
    "for now in s:\n",
    "    if now not in symcnt:\n",
    "        symcnt[now] = 0\n",
    "    symcnt[now] += 1\n",
    "    if symcnt[now] > anscnt:\n",
    "        ans = now\n",
    "        anscnt = symcnt[now]\n",
    "print(ans)"
   ]
  },
  {
   "cell_type": "markdown",
   "id": "3f3b972e",
   "metadata": {},
   "source": [
    "<h1 style=\"color:black\" align=\"center\">Яндекс. Тренировки по алгоритмам июнь 2021, занятие 1</h1>\n",
    "\n",
    "https://contest.yandex.ru/contest/27393"
   ]
  },
  {
   "cell_type": "markdown",
   "id": "2e2b53dc",
   "metadata": {},
   "source": [
    "<h3 style=\"color:#2E8B57\">I. Узник замка Иф</h3>\n",
    "\n",
    "За многие годы заточения узник замка Иф проделал в стене прямоугольное отверстие размером D × E. Замок Иф сложен из кирпичей, размером A × B × C. Определите, сможет ли узник выбрасывать кирпичи в море через это отверстие, если стороны кирпича должны быть параллельны сторонам отверстия.\n",
    "\n",
    "**Формат ввода**\n",
    "\n",
    "Программа получает на вход числа A, B, C, D, E.\n",
    "\n",
    "**Формат вывода**\n",
    "\n",
    "Программа должна вывести слово YES или NO.\n",
    "\n",
    "<h4 align='center'>Решение:</h4>"
   ]
  },
  {
   "cell_type": "code",
   "execution_count": 16,
   "id": "427ef3b2",
   "metadata": {},
   "outputs": [
    {
     "name": "stdout",
     "output_type": "stream",
     "text": [
      "YES\n"
     ]
    }
   ],
   "source": [
    "def sort2(first, second):\n",
    "    if first < second:\n",
    "        return (first, second)\n",
    "    return (second, first)\n",
    "\n",
    "a, b, c, d, e = 1, 2, 3, 4, 5\n",
    "\n",
    "a, b = sort2(a, b)\n",
    "b, c = sort2(b, c)\n",
    "a, b = sort2(a, b)\n",
    "d, e = sort2(d, e)\n",
    "\n",
    "if a <= d and b <= e:\n",
    "    print('YES')\n",
    "else:\n",
    "    print('NO')"
   ]
  },
  {
   "cell_type": "code",
   "execution_count": null,
   "id": "619535f5",
   "metadata": {},
   "outputs": [],
   "source": []
  }
 ],
 "metadata": {
  "kernelspec": {
   "display_name": "Python 3 (ipykernel)",
   "language": "python",
   "name": "python3"
  },
  "language_info": {
   "codemirror_mode": {
    "name": "ipython",
    "version": 3
   },
   "file_extension": ".py",
   "mimetype": "text/x-python",
   "name": "python",
   "nbconvert_exporter": "python",
   "pygments_lexer": "ipython3",
   "version": "3.9.7"
  },
  "varInspector": {
   "cols": {
    "lenName": 16,
    "lenType": 16,
    "lenVar": 40
   },
   "kernels_config": {
    "python": {
     "delete_cmd_postfix": "",
     "delete_cmd_prefix": "del ",
     "library": "var_list.py",
     "varRefreshCmd": "print(var_dic_list())"
    },
    "r": {
     "delete_cmd_postfix": ") ",
     "delete_cmd_prefix": "rm(",
     "library": "var_list.r",
     "varRefreshCmd": "cat(var_dic_list()) "
    }
   },
   "types_to_exclude": [
    "module",
    "function",
    "builtin_function_or_method",
    "instance",
    "_Feature"
   ],
   "window_display": false
  }
 },
 "nbformat": 4,
 "nbformat_minor": 5
}
