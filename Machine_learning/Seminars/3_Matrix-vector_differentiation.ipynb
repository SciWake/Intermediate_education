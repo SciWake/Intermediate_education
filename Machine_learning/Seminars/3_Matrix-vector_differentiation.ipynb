{
 "cells": [
  {
   "cell_type": "markdown",
   "metadata": {},
   "source": [
    "<h1 style=\"color:black\" align=\"center\">Матрично-векторное дифференцирование</h1>\n",
    "\n",
    "Всюду в дальнейшем будут использоваться следующие стандартные обозначения:\n",
    "1. $\\mathbb{R}$ обозначает множество вещественных чисел;\n",
    "\n",
    "2. $\\mathbb{R}^n$ обозначает множество всех n-мерных вещественных вектор-столбцов;\n",
    "\n",
    "3. $\\mathbb{R}^{m \\times n}$ обозначает множество всех вещественных матриц с $m$ строками и $n$ столбцами;\n",
    "\n",
    "4. $\\mathbb{S}^n$ обозначает множество всех $n \\times n$ вещественных симметричных матриц.\n",
    "\n",
    "5. $\\mathbb{S}_{+}^n$ и $\\mathbb{S}_{++}^n$ обозначают множество всех $n \\times n$ вещественных симметричных положительно полуопределенных и положительно определенных матриц соответственно;\n",
    "\n",
    "6. $I_n$ обозначает единичную матрицу размера $n$.\n",
    "\n",
    "Заметим, что под векторами из $\\mathbb{R}^n$ всюду будут подразумеваться именно вектор-столбцы (а не, например, вектор-строки); таким образом, $\\mathbb{R}^n = \\mathbb{R}^{n \\times 1}$, но $\\mathbb{R}^n \\ne \\mathbb{R}^{1 \\times n}$. Напомним, что $\\mathbb{R}, \\mathbb{R}^n, \\mathbb{R}^{m \\times n}$ и $\\mathbb{S}^n$ являются вещественными векторными пространствами (со стандартными операциями сложения и\n",
    "умножения на число). \n",
    "\n",
    "Для матрицы $A \\in \\mathbb{R}^{n \\times n}$ символ $Tr(A) := \\sum\\limits_{i=1}^n a_{ii}$ обозначает ее след.\n",
    "\n",
    "Здесь и далее вектора будут обозначаться $x, y, \\ldots$,  а матрицы – заглавными\n",
    "буквами $A, B, \\ldots$ При этом под вектором всегда будет пониматься вектор-столбец $x = [x_1, \\ldots , x_d]^T$, индекс T обозначает транспонирование. "
   ]
  },
  {
   "cell_type": "markdown",
   "metadata": {},
   "source": [
    "\n",
    "<h1 style=\"color:#008B8B\">1. Линейные модели</h1>\n",
    "\n",
    "При отображении вектора в число $f(x): R^n \\to R$         \n",
    "\n",
    "$\\large \\nabla_x f(x) = \\bigg[\\frac{\\partial f}{\\partial x_1}, \\dots, \\frac{\\partial f}{\\partial x_n} \\bigg]^T$\n",
    "\n",
    "При отображении матрицы в число $f(A): R^{n \\times m} \\to R$\n",
    "\n",
    "$\\large \\nabla_A f(A) = \\bigg(\\frac{\\partial f}{\\partial A_{ij}} \\bigg)_{i,j=1}^{n,m}$"
   ]
  },
  {
   "cell_type": "markdown",
   "metadata": {},
   "source": [
    "\n"
   ]
  }
 ],
 "metadata": {
  "kernelspec": {
   "display_name": "Python 3",
   "language": "python",
   "name": "python3"
  },
  "language_info": {
   "codemirror_mode": {
    "name": "ipython",
    "version": 3
   },
   "file_extension": ".py",
   "mimetype": "text/x-python",
   "name": "python",
   "nbconvert_exporter": "python",
   "pygments_lexer": "ipython3",
   "version": "3.8.5"
  }
 },
 "nbformat": 4,
 "nbformat_minor": 4
}
