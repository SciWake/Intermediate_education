{
 "cells": [
  {
   "cell_type": "markdown",
   "id": "b55e52ed",
   "metadata": {},
   "source": [
    "<h1 style=\"color:black\" align=\"center\">Семинар №9</h1>\n",
    "\n",
    "<h1 style=\"color:#008B8B\">1. Градиентный бустинг</h1>\n",
    "\n",
    "На лекциях обсуждался градиентный бустинг - один из самых мощных методов в машинном обучении. Он позволяет воспользоваться выразительной силой решающих деревьев и при этом контролировать их переобучение. Ниже мы пройдём по основным блокам градиентного бустинга и поймём, почему они устроены именно так.\n",
    "\n",
    "Для начала вспомним основные принципы градиентного бустинга. Будем искать алгоритм, оптимизирующий некоторую дифференцируемую функцию потерь $L(y, z)$, в виде взвешенной суммы базовых алгоритмов:\n",
    "\n",
    "$\\large a_N(x)\n",
    "=\n",
    "\\sum\\limits_{n = 0}^{N}\n",
    "    \\gamma_n b_n(x).$\n",
    "\n",
    "Как правило, веса $\\gamma_n$ не подбираются и полагаются равными единице (поскольку, как правило, в деревьях всё равно потом тщательно подбираются прогнозы в листьях), но пока будет рассматривать общий случай.\n",
    "\n",
    "Идея бустинга заключается в последовательном построении алгоритмов, каждый из которых учитывает ошибки построенной до сих пор композиции:\n",
    "\n",
    "$\\large \\sum\\limits_{i = 1}^{\\ell}\n",
    "    L(y_i, a_{N - 1}(x_i) + \\gamma_N b_N(x_i))\n",
    "\\to\n",
    "\\underset{b_N, \\gamma_N}{\\text{min}}$\n",
    "\n",
    "\n",
    "После выбора каких-нибудь простых $\\gamma_0$ и $b_0(x)$ (например, для задачи регрессии можно положить $\\gamma_0 = 1$ и $b_0(x) = \\frac 1\\ell \\sum\\limits_{i=1}^\\ell y_i$) все последующие базовые алгоритмы стараются приблизить антиградиент функционала ошибки, взятый в точках $z = a_{N - 1}(x_i)$:\n",
    "\n",
    "$\\large s_i\n",
    "=\n",
    "-\n",
    "\\left.\n",
    "\\frac{\\partial L(y_i, z)}{\\partial z}\n",
    "\\right|_{z = a_{N - 1}(x_i)}$\n",
    "\n",
    "\n",
    "При этом приближается антиградиент с точки зрения квадратичной функции потерь:\n",
    "\n",
    "$\\large b_N(x)\n",
    "=\n",
    "\\underset{b \\in \\mathbb{A}}{\\text{argmin}}\n",
    "    \\sum\\limits_{i = 1}^{\\ell}\n",
    "        \\left(\n",
    "            b(x_i) - s_i\n",
    "        \\right)^2$\n",
    "\n",
    "\n",
    "Подбор коэффициентов производится просто через задачу одномерной оптимизации:\n",
    "\n",
    "$\\large \\gamma_N\n",
    "=\n",
    "\\underset{\\gamma \\in \\mathbb{R}}{\\text{argmin}}\n",
    "\\sum\\limits_{i=1}^{\\ell}\n",
    "L(y_i, a_{N-1}(x_i) + \\gamma b_N (x_i))$\n",
    "\n",
    "\n",
    "Обсудим теперь подробнее некоторые моменты."
   ]
  },
  {
   "cell_type": "markdown",
   "id": "fa6858c2",
   "metadata": {},
   "source": [
    "<h2 style=\"color:#008B8B\">1.1 Почему градиентный бустинг устроен именно так?</h2>"
   ]
  },
  {
   "cell_type": "code",
   "execution_count": null,
   "id": "637875a4",
   "metadata": {},
   "outputs": [],
   "source": []
  }
 ],
 "metadata": {
  "kernelspec": {
   "display_name": "Python 3 (ipykernel)",
   "language": "python",
   "name": "python3"
  },
  "language_info": {
   "codemirror_mode": {
    "name": "ipython",
    "version": 3
   },
   "file_extension": ".py",
   "mimetype": "text/x-python",
   "name": "python",
   "nbconvert_exporter": "python",
   "pygments_lexer": "ipython3",
   "version": "3.9.7"
  },
  "varInspector": {
   "cols": {
    "lenName": 16,
    "lenType": 16,
    "lenVar": 40
   },
   "kernels_config": {
    "python": {
     "delete_cmd_postfix": "",
     "delete_cmd_prefix": "del ",
     "library": "var_list.py",
     "varRefreshCmd": "print(var_dic_list())"
    },
    "r": {
     "delete_cmd_postfix": ") ",
     "delete_cmd_prefix": "rm(",
     "library": "var_list.r",
     "varRefreshCmd": "cat(var_dic_list()) "
    }
   },
   "types_to_exclude": [
    "module",
    "function",
    "builtin_function_or_method",
    "instance",
    "_Feature"
   ],
   "window_display": false
  }
 },
 "nbformat": 4,
 "nbformat_minor": 5
}
