{
 "cells": [
  {
   "cell_type": "markdown",
   "metadata": {},
   "source": [
    "<h1 style=\"color:black\" align=\"center\">Линейная регрессия</h1>\n",
    "\n",
    "<h2 style=\"color:#008B8B\">1. Линейные модели</h2>"
   ]
  },
  {
   "cell_type": "markdown",
   "metadata": {},
   "source": [
    "Такие модели сводятся к суммированию значений признаков с некоторыми весами:\n",
    "\n",
    "$\\large a(x) = w_0 + \\sum\\limits_{j=1}^d w_j x_j$\n",
    "\n",
    "Параметрами модели являются веса или коэффициенты $w_j$. Вес $w_0$ также называется\n",
    "свободным коэффициентом или сдвигом (bias).\n",
    "\n",
    "Добавим фиктивный признак равный $1$, тогда запись можно упросить до следующего вида:\n",
    "\n",
    "$\\large a(x) = \\sum\\limits_{j=0}^d w_j x_j$\n",
    "\n",
    "$\\large a(x) = \\langle w, x \\rangle$"
   ]
  },
  {
   "cell_type": "markdown",
   "metadata": {},
   "source": [
    "<h2 style=\"color:#008B8B\">2. Область применимости линейных моедлей</h2>\n",
    "\n",
    "Сформулируем задачу: \n",
    "\n",
    "$x$ - кваритра в Москве;\n",
    "\n",
    "$y$ - рычночная стоимость.\n",
    "\n",
    "$\\large a(x) = w_0 + w_1$(площадь) $\\large + w_2$(количество комнат)  $\\large + w_2$(расстояние до метро)\n",
    "\n",
    "Проблема модели заключается в том, что признаки независимо влияют на стоимость квартиры. Если увеличиваетя площадь квартиры, то цена увеличивается только засчёт площади квартиры в линейном виде, при этом растрояние до метро и все остальные признаки не оказывают влияния.\n",
    "Например, если квартира расположена близко от метро, то цена должна увеличиваться быстрее при росте площади."
   ]
  },
  {
   "cell_type": "markdown",
   "metadata": {},
   "source": [
    "### 1) Категориальные признаки"
   ]
  },
  {
   "cell_type": "code",
   "execution_count": null,
   "metadata": {},
   "outputs": [],
   "source": []
  }
 ],
 "metadata": {
  "kernelspec": {
   "display_name": "Python 3",
   "language": "python",
   "name": "python3"
  },
  "language_info": {
   "codemirror_mode": {
    "name": "ipython",
    "version": 3
   },
   "file_extension": ".py",
   "mimetype": "text/x-python",
   "name": "python",
   "nbconvert_exporter": "python",
   "pygments_lexer": "ipython3",
   "version": "3.8.5"
  }
 },
 "nbformat": 4,
 "nbformat_minor": 4
}
