{
 "cells": [
  {
   "cell_type": "markdown",
   "metadata": {},
   "source": [
    "# Машинное обучение, ФКН ВШЭ\n",
    "\n",
    "## Практическое задание 4. Классификация. \n",
    "\n",
    "### Общая информация\n",
    "Дата выдачи: 29.10.2021\n",
    "\n",
    "Мягкий дедлайн: 23:59MSK 10.11.2021 (за каждый день просрочки снимается 1 балл)\n",
    "\n",
    "Жесткий дедлайн: 23:59MSK 13.11.2021"
   ]
  },
  {
   "cell_type": "markdown",
   "metadata": {},
   "source": [
    "### О задании\n",
    "\n",
    "В этом задании вы:\n",
    "- ознакомитесь с тем, что происходит \"внутри\" метода опорных векторов и логистической регрессии\n",
    "- познакомитесь с калибровкой вероятности\n",
    "- изучите методы трансформации переменных и методы отбора признаков\n",
    "- попробуете оценить экономический эффект модели\n",
    "\n",
    "\n",
    "### Оценивание и штрафы\n",
    "Каждая из задач имеет определенную «стоимость» (указана в скобках около задачи). Максимально допустимая оценка за работу — 10 баллов.\n",
    "\n",
    "Сдавать задание после указанного срока сдачи нельзя. При выставлении неполного балла за задание в связи с наличием ошибок на усмотрение проверяющего предусмотрена возможность исправить работу на указанных в ответном письме условиях.\n",
    "\n",
    "Задание выполняется самостоятельно. «Похожие» решения считаются плагиатом и все задействованные студенты (в том числе те, у кого списали) не могут получить за него больше 0 баллов (подробнее о плагиате см. на странице курса). Если вы нашли решение какого-то из заданий (или его часть) в открытом источнике, необходимо указать ссылку на этот источник в отдельном блоке в конце вашей работы (скорее всего вы будете не единственным, кто это нашел, поэтому чтобы исключить подозрение в плагиате, необходима ссылка на источник).\n",
    "\n",
    "Неэффективная реализация кода может негативно отразиться на оценке.\n",
    "\n",
    "\n",
    "### Формат сдачи\n",
    "Для сдачи задания переименуйте получившийся файл *.ipynb в соответствии со следующим форматом: homework-practice-04-classification-Username.ipynb, где Username — ваша фамилия и имя на латинице именно в таком порядке (например, homework-practice-04-classification-IvanovIvan.ipynb).\n",
    "\n",
    "Для удобства проверки самостоятельно посчитайте свою максимальную оценку (исходя из набора решенных задач) и укажите ниже.\n",
    "\n",
    "**Оценка**: "
   ]
  },
  {
   "cell_type": "code",
   "execution_count": 1,
   "metadata": {},
   "outputs": [],
   "source": [
    "import numpy as np\n",
    "import pandas as pd\n",
    "import matplotlib.pyplot as plt\n",
    "import seaborn as sns\n",
    "%matplotlib inline\n",
    "\n",
    "sns.set_style('whitegrid')\n",
    "plt.rcParams.update({'font.size': 14})\n",
    "\n",
    "pd.set_option('display.max_rows', 100)\n",
    "pd.set_option('display.max_columns', 100)"
   ]
  },
  {
   "cell_type": "markdown",
   "metadata": {},
   "source": [
    "# Часть 0. SVM, LR и калибровка вероятностей. "
   ]
  },
  {
   "cell_type": "markdown",
   "metadata": {},
   "source": [
    "Сгенерируем синтетические данные."
   ]
  },
  {
   "cell_type": "code",
   "execution_count": 2,
   "metadata": {},
   "outputs": [],
   "source": [
    "from sklearn.datasets import make_classification\n",
    "from sklearn.model_selection import train_test_split\n",
    "\n",
    "X, y = make_classification(\n",
    "    n_samples=10000, n_features=10, n_informative=5, n_redundant=5,\n",
    "    random_state=42)\n",
    "\n",
    "X_train, X_test, y_train, y_test = train_test_split(\n",
    "    X, y, test_size=0.3, random_state=42)"
   ]
  },
  {
   "cell_type": "markdown",
   "metadata": {},
   "source": [
    "__Задание 1.__ Обучение и применение метода опорных векторов и логистической регрессии.\n",
    "\n",
    "__(1 балл)__\n",
    "\n",
    "Обучите метод опорных векторов. На занятиях мы проходили линейный вариант без ядрового перехода, что соответствует линейному ядру (`LinearSVC` или же `SVC(kernel='linear')` в `sklearn.svm`). Подберите параметр регуляризации `C` (можете воспользоваться кросс-валидацией или отделить валидационную выборку от обучающей). __Здесь и далее, если не сказано иначе, подбирайте оптимальные гиперпараметры с точки зрения AUC-PR.__"
   ]
  },
  {
   "cell_type": "code",
   "execution_count": 3,
   "metadata": {},
   "outputs": [],
   "source": [
    "from sklearn.preprocessing import StandardScaler\n",
    "from sklearn.svm import LinearSVC\n",
    "from sklearn.model_selection import cross_val_score, KFold\n",
    "from sklearn.metrics import precision_recall_curve, auc, roc_curve, roc_auc_score\n",
    "from sklearn.metrics import make_scorer"
   ]
  },
  {
   "cell_type": "code",
   "execution_count": 4,
   "metadata": {},
   "outputs": [],
   "source": [
    "scaler = StandardScaler().fit(X_train, y_train)\n",
    "X_train = scaler.transform(X_train)\n",
    "X_test = scaler.transform(X_test)"
   ]
  },
  {
   "cell_type": "code",
   "execution_count": 5,
   "metadata": {},
   "outputs": [],
   "source": [
    "def pr_auc_score(y_true, y_pred):\n",
    "    precision, recall, thr = precision_recall_curve(y_true, y_pred)\n",
    "    return auc(recall, precision)\n",
    "\n",
    "# Создадим скор функции, чтобы использовать ее в подборе параметра\n",
    "pr_auc_scorer = make_scorer(pr_auc_score, greater_is_better=True)"
   ]
  },
  {
   "cell_type": "code",
   "execution_count": 6,
   "metadata": {},
   "outputs": [
    {
     "name": "stdout",
     "output_type": "stream",
     "text": [
      "0) C=0.000001,        AUC-PR=0.808187\n",
      "1) C=0.000005,        AUC-PR=0.811887\n",
      "2) C=0.000022,        AUC-PR=0.820834\n",
      "3) C=0.000100,        AUC-PR=0.829981\n",
      "4) C=0.000464,        AUC-PR=0.831933\n",
      "5) C=0.002154,        AUC-PR=0.833241\n",
      "6) C=0.010000,        AUC-PR=0.833897\n",
      "7) C=0.046416,        AUC-PR=0.833677\n",
      "8) C=0.215443,        AUC-PR=0.833677\n",
      "9) C=1.000000,        AUC-PR=0.833677\n"
     ]
    }
   ],
   "source": [
    "for i, c_ in enumerate(np.logspace(-6, 0, 10)):\n",
    "    svc = LinearSVC(max_iter=100000, C=c_) #.fit(X_train, y_train)\n",
    "    \n",
    "    result = np.mean(cross_val_score(svc,\n",
    "                                     X=X_train,\n",
    "                                     y=y_train,\n",
    "                                     cv=KFold(n_splits=5),\n",
    "                                     scoring=pr_auc_scorer))\n",
    "    \n",
    "    print(f'{i}) C={c_:6f},        AUC-PR={result:6f}')"
   ]
  },
  {
   "cell_type": "markdown",
   "metadata": {},
   "source": [
    "На тестовой части постройте ROC и PR кривые, а также посчитайте AUC-ROC, AUC-PR с точностью до 5 знаков. Сравните AUC-ROC и AUC-PR для вашей модели с этими же метриками для случайного классификатора (который на каждом объекте выдаёт один из двух классов с равными вероятностями)."
   ]
  },
  {
   "cell_type": "code",
   "execution_count": 7,
   "metadata": {},
   "outputs": [],
   "source": [
    "### Обучим на стандартном C, так как он один из самых лучших\n",
    "svc = LinearSVC(max_iter=100000).fit(X_train, y_train)\n",
    "\n",
    "y_test_pred_svc = svc.decision_function(X_test)"
   ]
  },
  {
   "cell_type": "markdown",
   "metadata": {},
   "source": [
    "#### Визуализация графиков"
   ]
  },
  {
   "cell_type": "code",
   "execution_count": 8,
   "metadata": {},
   "outputs": [
    {
     "data": {
      "image/png": "[encoded data removed]",
      "text/plain": [
       "<Figure size 720x504 with 1 Axes>"
      ]
     },
     "metadata": {},
     "output_type": "display_data"
    }
   ],
   "source": [
    "precision, recall, thr = precision_recall_curve(y_test, y_test_pred_svc)\n",
    "\n",
    "plt.figure(figsize=(10, 7))\n",
    "plt.plot(recall, precision, label=f'{pr_auc_score(y_test, y_test_pred_svc):.5f}')\n",
    "\n",
    "# plt.ylim(0, 1)\n",
    "\n",
    "plt.title('Precision-Recall Curce')\n",
    "plt.ylabel('Precision')\n",
    "plt.xlabel('Recall')\n",
    "plt.legend(title='AUC-ROC')\n",
    "\n",
    "plt.show()"
   ]
  },
  {
   "cell_type": "code",
   "execution_count": 9,
   "metadata": {},
   "outputs": [
    {
     "data": {
      "image/png": "[encoded data removed]",
      "text/plain": [
       "<Figure size 720x504 with 1 Axes>"
      ]
     },
     "metadata": {},
     "output_type": "display_data"
    }
   ],
   "source": [
    "fpr, tpr, thr_roc = roc_curve(y_test, y_test_pred_svc)\n",
    "\n",
    "plt.figure(figsize=(10, 7))\n",
    "plt.plot(fpr, tpr, label=f'{roc_auc_score(y_test, y_test_pred_svc):.5f}')\n",
    "plt.plot([0, 1], label='BaseLine', ls='--', c='g')\n",
    "\n",
    "plt.title('Receiver Operating Characteristic')\n",
    "plt.ylabel('TPR')\n",
    "plt.xlabel('FPR')\n",
    "plt.legend(title='AUC-ROC')\n",
    "\n",
    "plt.show()"
   ]
  },
  {
   "cell_type": "markdown",
   "metadata": {},
   "source": [
    "А теперь проделайте все то же самое для логистической регрессии (LR) — обучение, подбор параметра регуляризации (используйте L2-регуляризацию), вычисление всех метрик и построение кривых. Сравните результаты LR и SVM с точки зрения всех вычисленных критериев качества, объясните различия (если они есть)."
   ]
  },
  {
   "cell_type": "code",
   "execution_count": 10,
   "metadata": {},
   "outputs": [],
   "source": [
    "from sklearn.linear_model import LogisticRegression"
   ]
  },
  {
   "cell_type": "code",
   "execution_count": 11,
   "metadata": {},
   "outputs": [
    {
     "name": "stdout",
     "output_type": "stream",
     "text": [
      "0) C=0.000001,        AUC-PR=0.748048\n",
      "1) C=0.000005,        AUC-PR=0.767183\n",
      "2) C=0.000022,        AUC-PR=0.807377\n",
      "3) C=0.000100,        AUC-PR=0.816872\n",
      "4) C=0.000464,        AUC-PR=0.827216\n",
      "5) C=0.002154,        AUC-PR=0.831298\n",
      "6) C=0.010000,        AUC-PR=0.833259\n",
      "7) C=0.046416,        AUC-PR=0.833989\n",
      "8) C=0.215443,        AUC-PR=0.834107\n",
      "9) C=1.000000,        AUC-PR=0.834107\n"
     ]
    }
   ],
   "source": [
    "for i, c_ in enumerate(np.logspace(-6, 0, 10)):\n",
    "    log_lr = LogisticRegression(max_iter=100000, C=c_) #.fit(X_train, y_train)\n",
    "    \n",
    "    result = np.mean(cross_val_score(log_lr,\n",
    "                                     X=X_train,\n",
    "                                     y=y_train,\n",
    "                                     cv=KFold(n_splits=5),\n",
    "                                     scoring=pr_auc_scorer))\n",
    "    \n",
    "    print(f'{i}) C={c_:6f},        AUC-PR={result:6f}')"
   ]
  },
  {
   "cell_type": "code",
   "execution_count": 12,
   "metadata": {},
   "outputs": [],
   "source": [
    "log_lr = LogisticRegression(max_iter=100000).fit(X_train, y_train)\n",
    "\n",
    "y_test_pred_log_lr = log_lr.decision_function(X_test)"
   ]
  },
  {
   "cell_type": "markdown",
   "metadata": {},
   "source": [
    "#### Визуализация графиков"
   ]
  },
  {
   "cell_type": "code",
   "execution_count": 13,
   "metadata": {},
   "outputs": [
    {
     "data": {
      "image/png": "[encoded data removed]",
      "text/plain": [
       "<Figure size 1080x504 with 2 Axes>"
      ]
     },
     "metadata": {},
     "output_type": "display_data"
    }
   ],
   "source": [
    "fig, axs = plt.subplots(1, 2, figsize=(15, 7))\n",
    "\n",
    "# PR curve\n",
    "precision, recall, thr = precision_recall_curve(y_test, y_test_pred_svc)\n",
    "axs[0].plot(recall, precision, label=f'SVC {pr_auc_score(y_test, y_test_pred_svc):.5f}')\n",
    "\n",
    "precision, recall, thr = precision_recall_curve(y_test, y_test_pred_log_lr)\n",
    "axs[0].plot(recall, precision, label=f'log {pr_auc_score(y_test, y_test_pred_svc):.5f}')\n",
    "\n",
    "axs[0].set_xlabel('Recall')\n",
    "axs[0].set_ylabel('Presision')\n",
    "axs[0].set_title('PR curve')\n",
    "axs[0].legend(title='AUC-PR')\n",
    "\n",
    "\n",
    "# ROC curve\n",
    "fpr, tpr, thr_roc = roc_curve(y_test, y_test_pred_svc)\n",
    "axs[1].plot(fpr, tpr, label=f'SVC {roc_auc_score(y_test, y_test_pred_svc):.5f}')\n",
    "\n",
    "fpr, tpr, thr_roc = roc_curve(y_test, y_test_pred_log_lr)\n",
    "axs[1].plot(fpr, tpr, label=f'log {roc_auc_score(y_test, y_test_pred_svc):.5f}')\n",
    "\n",
    "axs[1].plot([0, 1], label='BaseLine', ls='--', c='g')\n",
    "\n",
    "axs[1].set_xlabel('FPR')\n",
    "axs[1].set_ylabel('TPR')\n",
    "axs[1].set_title('ROC curve')\n",
    "axs[1].legend(title='AUC-ROC')\n",
    "\n",
    "plt.show()"
   ]
  },
  {
   "cell_type": "markdown",
   "metadata": {},
   "source": [
    "Различий нет."
   ]
  },
  {
   "cell_type": "markdown",
   "metadata": {},
   "source": [
    "В названии метода опорных векторов присутствуют некоторые \"опорные векторы\". Сгенерируйте синтетические данные с помощью `make_classification` с 2 признаками, обучите на нём метод опорных векторов. Визуализируйте разделяющую прямую, все объекты и выделите опорные векторы (атрибут `support_vectors_`). В этот раз, если необходимо, вместо `LinearSVC` воспользуйтесь `SVC(kernel='linear')`, так как только в нём есть информация об опорных векторах."
   ]
  },
  {
   "cell_type": "code",
   "execution_count": 14,
   "metadata": {},
   "outputs": [],
   "source": [
    "from sklearn.svm import SVC"
   ]
  },
  {
   "cell_type": "code",
   "execution_count": 15,
   "metadata": {},
   "outputs": [],
   "source": [
    "X, y = make_classification(\n",
    "    n_samples=200, n_features=2, n_redundant=0, n_clusters_per_class=2,\n",
    "    class_sep=3, random_state=42)"
   ]
  },
  {
   "cell_type": "code",
   "execution_count": 16,
   "metadata": {},
   "outputs": [
    {
     "data": {
      "image/png": "[encoded data removed]",
      "text/plain": [
       "<Figure size 432x288 with 1 Axes>"
      ]
     },
     "metadata": {},
     "output_type": "display_data"
    }
   ],
   "source": [
    "clf = SVC(kernel=\"linear\", C=1000)\n",
    "clf.fit(X, y)\n",
    "\n",
    "plt.scatter(X[:, 0], X[:, 1], c=y, s=30, cmap=plt.cm.Paired)\n",
    "\n",
    "ax = plt.gca()\n",
    "xlim = ax.get_xlim()\n",
    "ylim = ax.get_ylim()\n",
    "\n",
    "xx = np.linspace(xlim[0], xlim[1], 30)\n",
    "yy = np.linspace(ylim[0], ylim[1], 30)\n",
    "YY, XX = np.meshgrid(yy, xx)\n",
    "xy = np.vstack([XX.ravel(), YY.ravel()]).T\n",
    "Z = clf.decision_function(xy).reshape(XX.shape)\n",
    "\n",
    "ax.contour(\n",
    "    XX, YY, Z, colors=\"k\", levels=[-1, 0, 1], alpha=0.5, linestyles=[\"--\", \"-\", \"--\"]\n",
    ")\n",
    "ax.scatter(\n",
    "    clf.support_vectors_[:, 0],\n",
    "    clf.support_vectors_[:, 1],\n",
    "    s=100,\n",
    "    linewidth=1,\n",
    "    facecolors=\"none\",\n",
    "    edgecolors=\"k\",\n",
    ")\n",
    "plt.title('Разделяющая прямая с опорными векторами')\n",
    "plt.show()"
   ]
  },
  {
   "cell_type": "markdown",
   "metadata": {},
   "source": [
    "В отличие от метода опорных векторов, логистическая регрессия не пытается построить разделяющую гиперплоскость с максимальным отступом, а приближает в каждой точке пространства объектов вероятность положительных ответов $p(y=+1|x)$. Попробуйте нарисовать это распределение на плоскости, не забудьте отметить на ней все объекты. Вам может помочь функция `plt.pcolor`."
   ]
  },
  {
   "cell_type": "markdown",
   "metadata": {},
   "source": [
    "https://thedatafrog.com/en/articles/logistic-regression-neural-network/\n",
    "\n",
    "https://scikit-learn.org/stable/auto_examples/linear_model/plot_iris_logistic.html#sphx-glr-auto-examples-linear-model-plot-iris-logistic-py"
   ]
  },
  {
   "cell_type": "code",
   "execution_count": 17,
   "metadata": {},
   "outputs": [
    {
     "name": "stderr",
     "output_type": "stream",
     "text": [
      "C:\\Users\\bimas\\AppData\\Local\\Temp/ipykernel_18612/2005040878.py:11: MatplotlibDeprecationWarning: shading='flat' when X and Y have the same dimensions as C is deprecated since 3.3.  Either specify the corners of the quadrilaterals with X and Y, or pass shading='auto', 'nearest' or 'gouraud', or set rcParams['pcolor.shading'].  This will become an error two minor releases later.\n",
      "  plt.pcolormesh(xx, yy, Z, cmap=plt.cm.Paired)\n"
     ]
    },
    {
     "data": {
      "image/png": "[encoded data removed]",
      "text/plain": [
       "<Figure size 432x288 with 1 Axes>"
      ]
     },
     "metadata": {},
     "output_type": "display_data"
    }
   ],
   "source": [
    "lr = LogisticRegression(max_iter=100000, C=1000)\n",
    "lr.fit(X, y)\n",
    "\n",
    "x_min, x_max = X[:, 0].min() - 0.5, X[:, 0].max() + 0.5\n",
    "y_min, y_max = X[:, 1].min() - 0.5, X[:, 1].max() + 0.5\n",
    "h = 0.02\n",
    "xx, yy = np.meshgrid(np.arange(x_min, x_max, h), np.arange(y_min, y_max, h))\n",
    "Z = lr.predict(np.c_[xx.ravel(), yy.ravel()])\n",
    "\n",
    "Z = Z.reshape(xx.shape)\n",
    "plt.pcolormesh(xx, yy, Z, cmap=plt.cm.Paired)\n",
    "\n",
    "plt.scatter(X[:, 0], X[:, 1], c=y, edgecolors=\"k\", cmap=plt.cm.Paired)\n",
    "plt.xlabel(\"Sepal length\")\n",
    "plt.ylabel(\"Sepal width\")\n",
    "\n",
    "plt.xlim(xx.min(), xx.max())\n",
    "plt.ylim(yy.min(), yy.max())\n",
    "plt.xticks(())\n",
    "plt.yticks(())\n",
    "\n",
    "plt.show()"
   ]
  },
  {
   "cell_type": "markdown",
   "metadata": {},
   "source": [
    "__Задание 2.__ Калибровка вероятностей.\n",
    "\n",
    "__(1 балл)__\n",
    "\n",
    "Перейдём к оценке качества выдаваемых алгоритмами вероятностей. Начнём с калибровочных кривых. \n",
    "\n",
    "Допустим, алгоритм возвращает некоторые числа от нуля до единицы. Хорошо ли они оценивают вероятность? Для этого разобьем отрезок $[0, 1]$ на несколько маленьких отрезков одинаковой длины. Рассмотрим $i$-й отрезок с границами $[a_i, b_i]$ и предсказания $p_1, p_2, \\dots, p_k$, которые попали в него. Пусть им соответствуют истинные ответы $y_1, y_2, \\dots, y_k$. Если алгоритм выдает корректные вероятности, то среди этих истинных ответов должно быть примерно $(a_i + b_i) / 2$ единиц. Иными словами, если нарисовать кривую, у которой по оси X отложены центры отрезков, а по оси Y — доли единичных ответов этих в отрезках, то она должна оказаться диагональной. Ниже приведена функция, которая должна рисовать такие кривые. В ней допущено две ошибки — найдите и исправьте их."
   ]
  },
  {
   "cell_type": "code",
   "execution_count": 18,
   "metadata": {},
   "outputs": [],
   "source": [
    "def plot_calibration_curve(y_test, preds):\n",
    "    bin_middle_points = []\n",
    "    bin_real_ratios = []\n",
    "    n_bins = 10\n",
    "    for i in range(n_bins):\n",
    "        l = 1.0 / n_bins * i\n",
    "        r = 1.0 / n_bins * (i + 1)\n",
    "        bin_middle_points.append((l + r) / 2) \n",
    "        bin_real_ratios.append(np.mean(y_test[(preds >= l) & (preds < r)] == 1)) \n",
    "    \n",
    "    plt.figure(figsize=(6,6))\n",
    "    plt.plot([0, 1], [0, 1], label='Perfect', linestyle='--', color='green')\n",
    "    plt.plot(bin_middle_points, bin_real_ratios)\n",
    "    plt.ylim([-0.05, 1.05])\n",
    "    plt.legend()\n",
    "    plt.grid()"
   ]
  },
  {
   "cell_type": "markdown",
   "metadata": {},
   "source": [
    "Сгенерируйте синтетические данные аналогично использованным в самом первом задании. Постройте калибровочные кривые на тестовой части для логистической регрессии и метода опорных векторов (не забудьте перевести его предсказания в $[0;1]$). Изучите распределение ответов классификаторов (постройте гистограммы с помощью `plt.hist`). Чем они различаются? Чем вы можете объяснить это?"
   ]
  },
  {
   "cell_type": "markdown",
   "metadata": {},
   "source": [
    "#### Подготовка данных"
   ]
  },
  {
   "cell_type": "code",
   "execution_count": 19,
   "metadata": {},
   "outputs": [],
   "source": [
    "X, y = make_classification(\n",
    "    n_samples=10000, n_features=10, n_informative=5, n_redundant=5,\n",
    "    random_state=42)\n",
    "\n",
    "X_train, X_test, y_train, y_test = train_test_split(\n",
    "    X, y, test_size=0.3, random_state=42)\n",
    "\n",
    "scaler = StandardScaler().fit(X_train, y_train)\n",
    "X_train = scaler.transform(X_train)\n",
    "X_test = scaler.transform(X_test)"
   ]
  },
  {
   "cell_type": "markdown",
   "metadata": {},
   "source": [
    "#### Обучение моделей"
   ]
  },
  {
   "cell_type": "code",
   "execution_count": 20,
   "metadata": {},
   "outputs": [],
   "source": [
    "svc = LinearSVC(max_iter=100000).fit(X_train, y_train)\n",
    "lr = LogisticRegression(max_iter=100000).fit(X_train, y_train)"
   ]
  },
  {
   "cell_type": "markdown",
   "metadata": {},
   "source": [
    "#### Визуализация "
   ]
  },
  {
   "cell_type": "code",
   "execution_count": 21,
   "metadata": {},
   "outputs": [
    {
     "data": {
      "image/png": "[encoded data removed]",
      "text/plain": [
       "<Figure size 432x432 with 1 Axes>"
      ]
     },
     "metadata": {},
     "output_type": "display_data"
    }
   ],
   "source": [
    "svc_pred = svc.decision_function(X_test)\n",
    "svc_pred = (svc_pred - svc_pred.min()) / (svc_pred.max() - svc_pred.min())\n",
    "\n",
    "plot_calibration_curve(y_test, svc_pred)\n",
    "plt.title('Калибровочная кривая для LogisticRegression модели')\n",
    "plt.show()"
   ]
  },
  {
   "cell_type": "markdown",
   "metadata": {},
   "source": [
    "SVM плохо предсказал вероятности (как и ожидалось), так что предсказания необходимо откалибровать."
   ]
  },
  {
   "cell_type": "code",
   "execution_count": 22,
   "metadata": {},
   "outputs": [
    {
     "data": {
      "image/png": "[encoded data removed]",
      "text/plain": [
       "<Figure size 432x432 with 1 Axes>"
      ]
     },
     "metadata": {},
     "output_type": "display_data"
    }
   ],
   "source": [
    "lr_pred = lr.predict_proba(X_test)[:, 1]\n",
    "\n",
    "plot_calibration_curve(y_test, lr_pred)\n",
    "plt.title('Калибровочная кривая для LinearSVC модели')\n",
    "plt.show()"
   ]
  },
  {
   "cell_type": "markdown",
   "metadata": {},
   "source": [
    "Калибровочная кривая у логистической регрессии получилась очень близкой к идеальной."
   ]
  },
  {
   "cell_type": "markdown",
   "metadata": {},
   "source": [
    "Воспользуйтесь `CalibratedClassifierCV` из `sklearn` для калибровки вероятностей метода опорных векторов на обучении и постройте с его помощью предсказания для тестовой выборки. Нарисуйте для них калибровочную кривую. Улучшилась ли она?"
   ]
  },
  {
   "cell_type": "code",
   "execution_count": 23,
   "metadata": {},
   "outputs": [],
   "source": [
    "from sklearn.calibration import CalibratedClassifierCV, calibration_curve"
   ]
  },
  {
   "cell_type": "code",
   "execution_count": 24,
   "metadata": {},
   "outputs": [
    {
     "name": "stdout",
     "output_type": "stream",
     "text": [
      "SVC ROC-AUC: 0.8477515556442582\n"
     ]
    }
   ],
   "source": [
    "sigmoid_svc = CalibratedClassifierCV(svc, cv=3, method='sigmoid').fit(X_train, y_train)\n",
    "sigmoid_svc_pred = sigmoid_svc.predict_proba(X_test)[:, 1]\n",
    "print('SVC ROC-AUC:', roc_auc_score(y_test, sigmoid_svc_pred))"
   ]
  },
  {
   "cell_type": "code",
   "execution_count": 25,
   "metadata": {},
   "outputs": [
    {
     "name": "stdout",
     "output_type": "stream",
     "text": [
      "SVC ROC-AUC: 0.8475255266120849\n"
     ]
    }
   ],
   "source": [
    "isotonic_svc = CalibratedClassifierCV(svc, cv=3, method='isotonic').fit(X_train, y_train)\n",
    "isotonic_svc_pred = isotonic_svc.predict_proba(X_test)[:, 1]\n",
    "print('SVC ROC-AUC:', roc_auc_score(y_test, isotonic_svc_pred))"
   ]
  },
  {
   "cell_type": "code",
   "execution_count": 26,
   "metadata": {},
   "outputs": [
    {
     "name": "stdout",
     "output_type": "stream",
     "text": [
      "Logistic regression ROC-AUC: 0.8479262447487699\n"
     ]
    }
   ],
   "source": [
    "sigmoid_lr = CalibratedClassifierCV(lr, cv=3, method='sigmoid').fit(X_train, y_train)\n",
    "sigmoid_lr_pred = sigmoid_lr.predict_proba(X_test)[:, 1]\n",
    "print('Logistic regression ROC-AUC:', roc_auc_score(y_test, sigmoid_lr_pred))"
   ]
  },
  {
   "cell_type": "code",
   "execution_count": 27,
   "metadata": {},
   "outputs": [
    {
     "name": "stdout",
     "output_type": "stream",
     "text": [
      "Logistic regression ROC-AUC: 0.8473937319060093\n"
     ]
    }
   ],
   "source": [
    "isotonic_lr = CalibratedClassifierCV(lr, cv=3, method='isotonic').fit(X_train, y_train)\n",
    "isotonic_lr_pred = isotonic_lr.predict_proba(X_test)[:, 1]\n",
    "print('Logistic regression ROC-AUC:', roc_auc_score(y_test, isotonic_lr_pred))"
   ]
  },
  {
   "cell_type": "code",
   "execution_count": 28,
   "metadata": {},
   "outputs": [
    {
     "data": {
      "image/png": "[encoded data removed]",
      "text/plain": [
       "<Figure size 1152x360 with 3 Axes>"
      ]
     },
     "metadata": {},
     "output_type": "display_data"
    }
   ],
   "source": [
    "fig, axs = plt.subplots(1, 3, figsize=(16, 5))\n",
    "\n",
    "svc_true_prob, svc_pred_prob = calibration_curve(y_test, svc_pred, n_bins=15)\n",
    "lr_true_prob, lr_pred_prob = calibration_curve(y_test, lr_pred, n_bins=15)\n",
    "\n",
    "axs[0].plot(svc_pred_prob, svc_true_prob, label='SVC', color='blue')\n",
    "axs[0].plot(lr_pred_prob, lr_true_prob, label='LR', color='orange')\n",
    "axs[0].plot([0, 1], [0, 1], label='Perfect', linestyle='--', color='green')\n",
    "axs[0].set_title('Non-calibrated')\n",
    "\n",
    "svc_true_prob, svc_pred_prob = calibration_curve(y_test, sigmoid_svc_pred, n_bins=15)\n",
    "lr_true_prob, lr_pred_prob = calibration_curve(y_test, sigmoid_lr_pred, n_bins=15)\n",
    "\n",
    "axs[1].plot(svc_pred_prob, svc_true_prob, label='SVC', color='blue')\n",
    "axs[1].plot(lr_pred_prob, lr_true_prob, label='LR', color='orange')\n",
    "axs[1].plot([0, 1], [0, 1], label='Perfect', linestyle='--', color='green')\n",
    "axs[1].set_title('Sigmoid calibration')\n",
    "\n",
    "svc_true_prob, svc_pred_prob = calibration_curve(y_test, isotonic_svc_pred, n_bins=15)\n",
    "lr_true_prob, lr_pred_prob = calibration_curve(y_test, isotonic_lr_pred, n_bins=15)\n",
    "\n",
    "axs[2].plot(svc_pred_prob, svc_true_prob, label='SVC', color='blue')\n",
    "axs[2].plot(lr_pred_prob, lr_true_prob, label='LR', color='orange')\n",
    "axs[2].plot([0, 1], [0, 1], label='Perfect', linestyle='--', color='green')\n",
    "axs[2].set_title('Isotonic calibration')\n",
    "\n",
    "for ax in axs:\n",
    "    ax.set_xlabel('Mean predicted probability')\n",
    "    ax.set_ylabel('Fraction of positives')\n",
    "    ax.legend()\n",
    "\n",
    "plt.show()"
   ]
  },
  {
   "cell_type": "code",
   "execution_count": 29,
   "metadata": {},
   "outputs": [
    {
     "data": {
      "image/png": "[encoded data removed]",
      "text/plain": [
       "<Figure size 432x432 with 1 Axes>"
      ]
     },
     "metadata": {},
     "output_type": "display_data"
    }
   ],
   "source": [
    "plot_calibration_curve(y_test, sigmoid_svc_pred)\n",
    "plt.title('Калибровочная кривая для LogisticRegression модели')\n",
    "plt.show()"
   ]
  },
  {
   "cell_type": "code",
   "execution_count": 30,
   "metadata": {},
   "outputs": [
    {
     "data": {
      "image/png": "[encoded data removed]",
      "text/plain": [
       "<Figure size 432x432 with 1 Axes>"
      ]
     },
     "metadata": {},
     "output_type": "display_data"
    }
   ],
   "source": [
    "plot_calibration_curve(y_test, sigmoid_lr_pred)\n",
    "plt.title('Калибровочная кривая для LinearSVC модели')\n",
    "plt.show()"
   ]
  },
  {
   "cell_type": "markdown",
   "metadata": {},
   "source": [
    "__Бонусное задание (0.5 балла).__ Реализуйте свою функцию для калибровки вероятностей. Опишите ваш подход и продемонстрируйте результаты. Ключевые слова для вдохновения: `Platt`, `Isotonic`."
   ]
  },
  {
   "cell_type": "code",
   "execution_count": null,
   "metadata": {},
   "outputs": [],
   "source": []
  },
  {
   "cell_type": "markdown",
   "metadata": {},
   "source": [
    "# Часть 1. Работа с переменными."
   ]
  },
  {
   "cell_type": "markdown",
   "metadata": {},
   "source": [
    "В этой части мы научимся обрабатывать категориальные переменные, так как закодировать их в виде чисел недостаточно (это задаёт некоторый порядок, которого на категориальных переменных может и не быть). Существует два основных способа обработки категориальных значений:\n",
    "- One-hot-кодирование\n",
    "- Счётчики (CTR, mean-target кодирование, ...) — каждый категориальный признак заменяется на среднее значение целевой переменной по всем объектам, имеющим одинаковое значение в этом признаке.\n",
    "\n",
    "Начнём с one-hot-кодирования. Допустим наш категориальный признак $f_j(x)$ принимает значения из множества $C=\\{c_1, \\dots, c_m\\}$. Заменим его на $m$ бинарных признаков $b_1(x), \\dots, b_m(x)$, каждый из которых является индикатором одного из возможных категориальных значений:\n",
    "$$\n",
    "b_i(x) = [f_j(x) = c_i]\n",
    "$$"
   ]
  },
  {
   "cell_type": "markdown",
   "metadata": {},
   "source": [
    "__Подготовка данных.__\n",
    "\n",
    "Загрузим данные [UCI Bank Marketing Dataset](https://archive.ics.uci.edu/ml/datasets/bank+marketing). Этот датасет содержит информацию о банковском телефонном маркетинге, объектом в нем является телефонный звонок потенциальному клиенту с предложением некоторой услуги (утверждается, что это краткосрочный депозит), целевой переменной - ответ клиента (согласился ли он открыть депозит?). В качестве признакового описания используются характеристики клиента (образование, брак и т.д.), данные о звонке и различные экономические индикаторы - более подробная информация представлена в файле `bank-additional-names.txt`."
   ]
  },
  {
   "cell_type": "code",
   "execution_count": 31,
   "metadata": {},
   "outputs": [],
   "source": [
    "# !wget https://archive.ics.uci.edu/ml/machine-learning-databases/00222/bank-additional.zip\n",
    "# !unzip bank-additional.zip\n",
    "df = pd.read_csv('input/04_bank-additional/bank-additional-full.csv', sep=';')"
   ]
  },
  {
   "cell_type": "code",
   "execution_count": 32,
   "metadata": {},
   "outputs": [
    {
     "data": {
      "text/html": [
       "<div>\n",
       "<style scoped>\n",
       "    .dataframe tbody tr th:only-of-type {\n",
       "        vertical-align: middle;\n",
       "    }\n",
       "\n",
       "    .dataframe tbody tr th {\n",
       "        vertical-align: top;\n",
       "    }\n",
       "\n",
       "    .dataframe thead th {\n",
       "        text-align: right;\n",
       "    }\n",
       "</style>\n",
       "<table border=\"1\" class=\"dataframe\">\n",
       "  <thead>\n",
       "    <tr style=\"text-align: right;\">\n",
       "      <th></th>\n",
       "      <th>age</th>\n",
       "      <th>job</th>\n",
       "      <th>marital</th>\n",
       "      <th>education</th>\n",
       "      <th>default</th>\n",
       "      <th>housing</th>\n",
       "      <th>loan</th>\n",
       "      <th>contact</th>\n",
       "      <th>month</th>\n",
       "      <th>day_of_week</th>\n",
       "      <th>duration</th>\n",
       "      <th>campaign</th>\n",
       "      <th>pdays</th>\n",
       "      <th>previous</th>\n",
       "      <th>poutcome</th>\n",
       "      <th>emp.var.rate</th>\n",
       "      <th>cons.price.idx</th>\n",
       "      <th>cons.conf.idx</th>\n",
       "      <th>euribor3m</th>\n",
       "      <th>nr.employed</th>\n",
       "      <th>y</th>\n",
       "    </tr>\n",
       "  </thead>\n",
       "  <tbody>\n",
       "    <tr>\n",
       "      <th>0</th>\n",
       "      <td>56</td>\n",
       "      <td>housemaid</td>\n",
       "      <td>married</td>\n",
       "      <td>basic.4y</td>\n",
       "      <td>no</td>\n",
       "      <td>no</td>\n",
       "      <td>no</td>\n",
       "      <td>telephone</td>\n",
       "      <td>may</td>\n",
       "      <td>mon</td>\n",
       "      <td>261</td>\n",
       "      <td>1</td>\n",
       "      <td>999</td>\n",
       "      <td>0</td>\n",
       "      <td>nonexistent</td>\n",
       "      <td>1.1</td>\n",
       "      <td>93.994</td>\n",
       "      <td>-36.4</td>\n",
       "      <td>4.857</td>\n",
       "      <td>5191.0</td>\n",
       "      <td>no</td>\n",
       "    </tr>\n",
       "    <tr>\n",
       "      <th>1</th>\n",
       "      <td>57</td>\n",
       "      <td>services</td>\n",
       "      <td>married</td>\n",
       "      <td>high.school</td>\n",
       "      <td>unknown</td>\n",
       "      <td>no</td>\n",
       "      <td>no</td>\n",
       "      <td>telephone</td>\n",
       "      <td>may</td>\n",
       "      <td>mon</td>\n",
       "      <td>149</td>\n",
       "      <td>1</td>\n",
       "      <td>999</td>\n",
       "      <td>0</td>\n",
       "      <td>nonexistent</td>\n",
       "      <td>1.1</td>\n",
       "      <td>93.994</td>\n",
       "      <td>-36.4</td>\n",
       "      <td>4.857</td>\n",
       "      <td>5191.0</td>\n",
       "      <td>no</td>\n",
       "    </tr>\n",
       "    <tr>\n",
       "      <th>2</th>\n",
       "      <td>37</td>\n",
       "      <td>services</td>\n",
       "      <td>married</td>\n",
       "      <td>high.school</td>\n",
       "      <td>no</td>\n",
       "      <td>yes</td>\n",
       "      <td>no</td>\n",
       "      <td>telephone</td>\n",
       "      <td>may</td>\n",
       "      <td>mon</td>\n",
       "      <td>226</td>\n",
       "      <td>1</td>\n",
       "      <td>999</td>\n",
       "      <td>0</td>\n",
       "      <td>nonexistent</td>\n",
       "      <td>1.1</td>\n",
       "      <td>93.994</td>\n",
       "      <td>-36.4</td>\n",
       "      <td>4.857</td>\n",
       "      <td>5191.0</td>\n",
       "      <td>no</td>\n",
       "    </tr>\n",
       "    <tr>\n",
       "      <th>3</th>\n",
       "      <td>40</td>\n",
       "      <td>admin.</td>\n",
       "      <td>married</td>\n",
       "      <td>basic.6y</td>\n",
       "      <td>no</td>\n",
       "      <td>no</td>\n",
       "      <td>no</td>\n",
       "      <td>telephone</td>\n",
       "      <td>may</td>\n",
       "      <td>mon</td>\n",
       "      <td>151</td>\n",
       "      <td>1</td>\n",
       "      <td>999</td>\n",
       "      <td>0</td>\n",
       "      <td>nonexistent</td>\n",
       "      <td>1.1</td>\n",
       "      <td>93.994</td>\n",
       "      <td>-36.4</td>\n",
       "      <td>4.857</td>\n",
       "      <td>5191.0</td>\n",
       "      <td>no</td>\n",
       "    </tr>\n",
       "    <tr>\n",
       "      <th>4</th>\n",
       "      <td>56</td>\n",
       "      <td>services</td>\n",
       "      <td>married</td>\n",
       "      <td>high.school</td>\n",
       "      <td>no</td>\n",
       "      <td>no</td>\n",
       "      <td>yes</td>\n",
       "      <td>telephone</td>\n",
       "      <td>may</td>\n",
       "      <td>mon</td>\n",
       "      <td>307</td>\n",
       "      <td>1</td>\n",
       "      <td>999</td>\n",
       "      <td>0</td>\n",
       "      <td>nonexistent</td>\n",
       "      <td>1.1</td>\n",
       "      <td>93.994</td>\n",
       "      <td>-36.4</td>\n",
       "      <td>4.857</td>\n",
       "      <td>5191.0</td>\n",
       "      <td>no</td>\n",
       "    </tr>\n",
       "  </tbody>\n",
       "</table>\n",
       "</div>"
      ],
      "text/plain": [
       "   age        job  marital    education  default housing loan    contact  \\\n",
       "0   56  housemaid  married     basic.4y       no      no   no  telephone   \n",
       "1   57   services  married  high.school  unknown      no   no  telephone   \n",
       "2   37   services  married  high.school       no     yes   no  telephone   \n",
       "3   40     admin.  married     basic.6y       no      no   no  telephone   \n",
       "4   56   services  married  high.school       no      no  yes  telephone   \n",
       "\n",
       "  month day_of_week  duration  campaign  pdays  previous     poutcome  \\\n",
       "0   may         mon       261         1    999         0  nonexistent   \n",
       "1   may         mon       149         1    999         0  nonexistent   \n",
       "2   may         mon       226         1    999         0  nonexistent   \n",
       "3   may         mon       151         1    999         0  nonexistent   \n",
       "4   may         mon       307         1    999         0  nonexistent   \n",
       "\n",
       "   emp.var.rate  cons.price.idx  cons.conf.idx  euribor3m  nr.employed   y  \n",
       "0           1.1          93.994          -36.4      4.857       5191.0  no  \n",
       "1           1.1          93.994          -36.4      4.857       5191.0  no  \n",
       "2           1.1          93.994          -36.4      4.857       5191.0  no  \n",
       "3           1.1          93.994          -36.4      4.857       5191.0  no  \n",
       "4           1.1          93.994          -36.4      4.857       5191.0  no  "
      ]
     },
     "execution_count": 32,
     "metadata": {},
     "output_type": "execute_result"
    }
   ],
   "source": [
    "df.head()"
   ]
  },
  {
   "cell_type": "markdown",
   "metadata": {},
   "source": [
    "__Задание 3 (0.5 балла).__ Разделите выборку на обучающую и тестовую в соотношении 3:1. Зафиксируйте `random_state=777`, также используйте `stratify`. Один из столбцов в данных не несет информации для решения задачи — какой? Отбросьте его. \n",
    "\n"
   ]
  },
  {
   "cell_type": "code",
   "execution_count": 33,
   "metadata": {},
   "outputs": [],
   "source": [
    "X_train, X_test, y_train, y_test = train_test_split(df.loc[:, 'age':'nr.employed'],\n",
    "                                                    df['y'],\n",
    "                                                    test_size=0.25,\n",
    "                                                    random_state=777,\n",
    "                                                    stratify=df['y'])"
   ]
  },
  {
   "cell_type": "markdown",
   "metadata": {},
   "source": [
    "Столбец `duration` не несёт информации для решения, так как мы не можем знать продолжительность звонка до того как совершить этот звонок. Кроме того, елси длительность звонка будет нулевой, то ответ сразу нет, поэтому этот столбец содержит информацию о целевой переменной напрямую, что плохо. Удалю этот столбец (это так же советуют делать в описании датасета на сайте)."
   ]
  },
  {
   "cell_type": "code",
   "execution_count": 34,
   "metadata": {},
   "outputs": [],
   "source": [
    "X_train = X_train.drop('duration', axis=1)\n",
    "X_test = X_test.drop('duration', axis=1)"
   ]
  },
  {
   "cell_type": "markdown",
   "metadata": {},
   "source": [
    "Закодируйте категориальные признаки с помощью `OrdinalEncoder`. Посчитайте качество (в этом задании будем работать c `AUC-PR`) при применении логистической регрессии. Замерьте время, потребовавшееся на обучение модели (с учетом кодирования признаков).\n",
    "\n",
    "__Вопрос__: почему в данном задании мы выбрали метрикой именно `AUC-PR`, а не, к примеру, `AUC-ROC`?\n",
    "\n",
    "__Ваш ответ__: `AUC-ROC` чуствительна к балансу классов. А в нашей задаче как раз баланса нет, ниже я подсчитал, что всего 11.27% положительных ответов во всём датасете. То есть если сделать константную модель, которая будет всегда выдавать 'no', тогда мы получим хороший показатель `AUC-ROC`, в то время как `AUC-PR` позволяет избавиться от этой проблемы."
   ]
  },
  {
   "cell_type": "code",
   "execution_count": 35,
   "metadata": {},
   "outputs": [],
   "source": [
    "from sklearn.preprocessing import OrdinalEncoder, StandardScaler, OneHotEncoder\n",
    "from sklearn.pipeline import Pipeline\n",
    "from sklearn.compose import ColumnTransformer"
   ]
  },
  {
   "cell_type": "code",
   "execution_count": 36,
   "metadata": {},
   "outputs": [],
   "source": [
    "cat_features = ['job', 'marital', 'education', 'default', 'housing', 'loan',\n",
    "                'contact', 'month', 'day_of_week', 'poutcome']\n",
    "num_features = ['age', 'campaign', 'pdays', 'previous', 'emp.var.rate',\n",
    "                'cons.price.idx', 'cons.conf.idx', 'euribor3m', 'nr.employed']"
   ]
  },
  {
   "cell_type": "code",
   "execution_count": 37,
   "metadata": {},
   "outputs": [],
   "source": [
    "y_train = (y_train == 'yes')\n",
    "y_test = (y_test == 'yes')"
   ]
  },
  {
   "cell_type": "code",
   "execution_count": 38,
   "metadata": {},
   "outputs": [],
   "source": [
    "col_transformer = ColumnTransformer([\n",
    "    ('OrdinalEncoder', OrdinalEncoder(), cat_features),\n",
    "    ('StandardScaler', StandardScaler(), num_features)\n",
    "])\n",
    "\n",
    "lr_pipeline = Pipeline([\n",
    "    ('ColumnTransformer', col_transformer),\n",
    "    ('LogisticRegression', LogisticRegression(max_iter=100000))\n",
    "])"
   ]
  },
  {
   "cell_type": "code",
   "execution_count": 39,
   "metadata": {},
   "outputs": [
    {
     "name": "stdout",
     "output_type": "stream",
     "text": [
      "Wall time: 239 ms\n"
     ]
    }
   ],
   "source": [
    "%%time\n",
    "lr = lr_pipeline.fit(X_train, y_train)"
   ]
  },
  {
   "cell_type": "code",
   "execution_count": 40,
   "metadata": {},
   "outputs": [
    {
     "name": "stdout",
     "output_type": "stream",
     "text": [
      "Train AUC-PR score: 0.443283\n",
      "Test AUC-PR score: 0.441875\n"
     ]
    }
   ],
   "source": [
    "y_train_pred = lr.decision_function(X_train)\n",
    "y_test_pred = lr.decision_function(X_test)\n",
    "\n",
    "print(f'Train AUC-PR score: {pr_auc_score(y_train, y_train_pred):6f}')\n",
    "print(f'Test AUC-PR score: {pr_auc_score(y_test, y_test_pred):6f}')"
   ]
  },
  {
   "cell_type": "markdown",
   "metadata": {},
   "source": [
    "__Задание 4 (0.5 балла).__ Закодируйте все категориальные признаки с помощью one-hot-кодирования. Обучите логистическую регрессию и посмотрите, как изменилось качество модели (с тем, что было до кодирования). Измерьте время, потребовавшееся на кодирование категориальных признаков и обучение модели.\n",
    "\n"
   ]
  },
  {
   "cell_type": "code",
   "execution_count": 41,
   "metadata": {},
   "outputs": [],
   "source": [
    "col_transformer = ColumnTransformer([\n",
    "    ('OneHotEncoder', OneHotEncoder(), cat_features),\n",
    "    ('StandardScaler', StandardScaler(), num_features)\n",
    "])\n",
    "\n",
    "lr_pipeline = Pipeline([\n",
    "    ('ColumnTransformer', col_transformer),\n",
    "    ('LogisticRegression', LogisticRegression(max_iter=100000))\n",
    "])"
   ]
  },
  {
   "cell_type": "code",
   "execution_count": 42,
   "metadata": {},
   "outputs": [
    {
     "name": "stdout",
     "output_type": "stream",
     "text": [
      "Wall time: 737 ms\n"
     ]
    }
   ],
   "source": [
    "%%time\n",
    "lr = lr_pipeline.fit(X_train, y_train)"
   ]
  },
  {
   "cell_type": "code",
   "execution_count": 43,
   "metadata": {},
   "outputs": [
    {
     "name": "stdout",
     "output_type": "stream",
     "text": [
      "Train AUC-PR score: 0.459050\n",
      "Test AUC-PR score: 0.449215\n"
     ]
    }
   ],
   "source": [
    "y_train_pred = lr.decision_function(X_train)\n",
    "y_test_pred = lr.decision_function(X_test)\n",
    "\n",
    "print(f'Train AUC-PR score: {pr_auc_score(y_train, y_train_pred):6f}')\n",
    "print(f'Test AUC-PR score: {pr_auc_score(y_test, y_test_pred):6f}')"
   ]
  },
  {
   "cell_type": "markdown",
   "metadata": {},
   "source": [
    "Качество выдаваемое моделью на тестовой выборке улучшилось, при использовании OneHotEncoder, но при этом на обучение ушло в три раза больше времени. Это связано с тем, что при использовании OneHotEncoder колличество признаков после кодирования сильно возрастает и обуение модели усложняется."
   ]
  },
  {
   "cell_type": "markdown",
   "metadata": {},
   "source": [
    "Как можно было заменить, one-hot-кодирование может сильно увеличивать количество признаков, что сказывается на памяти, особенно, если некоторый признак имеет большое количество значений. Эту проблему решает другой способ кодирования категориальных признаков — mean-target encoding (для простоты будем называть это счётчиками). Основная идея в том, что нам важны не сами категории, а значения целевой переменной, которые имеют объекты этой категории. Каждый категориальный признак мы заменим средним значением целевой переменной по всем объектам этой же категории:\n",
    "$$\n",
    "g_j(x, X) = \\frac{\\sum_{i=1}^{l} [f_j(x) = f_j(x_i)][y_i = +1]}{\\sum_{i=1}^{l} [f_j(x) = f_j(x_i)]}\n",
    "$$\n",
    "\n",
    "__Задание 5 (1 балл).__ Закодируйте категориальные переменные с помощью счётчиков (ровно так, как описано выше без каких-либо хитростей). Обучите логистическую регрессию и посмотрите на качество модели на тестовом множестве. Сравните время обучения с предыдущими экспериментами (с учетом кодирования признаков). Заметили ли вы что-то интересное?\n",
    "\n",
    "\n",
    "__Бонус (1 балл)__: Здесь и далее реализуйте вычисление счетчиков с помощью трансформера (наследуйтесь от классов `BaseEstimator, TransformerMixin` из `sklearn.base`). Обратите внимание, что все вычисления должны быть векторизованными, трансформер не должен модифицировать передаваемую ему выборку inplace, а все необходимые статистики нужно считать только по обучающей выборке в методе `fit`. Ваш трансформер должен принимать при инициализации список из категориальных признаков и изменять только их. \n"
   ]
  },
  {
   "cell_type": "code",
   "execution_count": 44,
   "metadata": {},
   "outputs": [],
   "source": [
    "from sklearn.base import BaseEstimator, TransformerMixin\n",
    "\n",
    "class MeanTargetEncoding(BaseEstimator, TransformerMixin):\n",
    "    def __init__(self):\n",
    "        self.encodings = {}\n",
    "    \n",
    "    def fit(self, X, y):\n",
    "        X_ = X.copy()\n",
    "        X_['target'] = y.copy()\n",
    "        \n",
    "        for column in X:\n",
    "            self.encodings[column] = X_.groupby(by=column).mean()['target'].copy()\n",
    "        return self\n",
    "    \n",
    "    def transform(self, X):\n",
    "        return X.replace(self.encodings)"
   ]
  },
  {
   "cell_type": "code",
   "execution_count": 45,
   "metadata": {},
   "outputs": [
    {
     "data": {
      "text/html": [
       "<div>\n",
       "<style scoped>\n",
       "    .dataframe tbody tr th:only-of-type {\n",
       "        vertical-align: middle;\n",
       "    }\n",
       "\n",
       "    .dataframe tbody tr th {\n",
       "        vertical-align: top;\n",
       "    }\n",
       "\n",
       "    .dataframe thead th {\n",
       "        text-align: right;\n",
       "    }\n",
       "</style>\n",
       "<table border=\"1\" class=\"dataframe\">\n",
       "  <thead>\n",
       "    <tr style=\"text-align: right;\">\n",
       "      <th></th>\n",
       "      <th>age</th>\n",
       "      <th>job</th>\n",
       "      <th>marital</th>\n",
       "      <th>education</th>\n",
       "      <th>default</th>\n",
       "      <th>housing</th>\n",
       "      <th>loan</th>\n",
       "      <th>contact</th>\n",
       "      <th>month</th>\n",
       "      <th>day_of_week</th>\n",
       "      <th>campaign</th>\n",
       "      <th>pdays</th>\n",
       "      <th>previous</th>\n",
       "      <th>poutcome</th>\n",
       "      <th>emp.var.rate</th>\n",
       "      <th>cons.price.idx</th>\n",
       "      <th>cons.conf.idx</th>\n",
       "      <th>euribor3m</th>\n",
       "      <th>nr.employed</th>\n",
       "    </tr>\n",
       "  </thead>\n",
       "  <tbody>\n",
       "    <tr>\n",
       "      <th>23424</th>\n",
       "      <td>33</td>\n",
       "      <td>0.109551</td>\n",
       "      <td>0.101269</td>\n",
       "      <td>0.102727</td>\n",
       "      <td>0.128569</td>\n",
       "      <td>0.110367</td>\n",
       "      <td>0.113835</td>\n",
       "      <td>0.147733</td>\n",
       "      <td>0.107735</td>\n",
       "      <td>0.116111</td>\n",
       "      <td>7</td>\n",
       "      <td>999</td>\n",
       "      <td>0</td>\n",
       "      <td>0.088848</td>\n",
       "      <td>1.4</td>\n",
       "      <td>93.444</td>\n",
       "      <td>-36.1</td>\n",
       "      <td>4.964</td>\n",
       "      <td>5228.1</td>\n",
       "    </tr>\n",
       "    <tr>\n",
       "      <th>39990</th>\n",
       "      <td>32</td>\n",
       "      <td>0.067515</td>\n",
       "      <td>0.101269</td>\n",
       "      <td>0.102727</td>\n",
       "      <td>0.128569</td>\n",
       "      <td>0.115024</td>\n",
       "      <td>0.113835</td>\n",
       "      <td>0.051505</td>\n",
       "      <td>0.104400</td>\n",
       "      <td>0.116210</td>\n",
       "      <td>1</td>\n",
       "      <td>999</td>\n",
       "      <td>1</td>\n",
       "      <td>0.142140</td>\n",
       "      <td>-1.7</td>\n",
       "      <td>94.055</td>\n",
       "      <td>-39.8</td>\n",
       "      <td>0.761</td>\n",
       "      <td>4991.6</td>\n",
       "    </tr>\n",
       "    <tr>\n",
       "      <th>9340</th>\n",
       "      <td>27</td>\n",
       "      <td>0.315133</td>\n",
       "      <td>0.139834</td>\n",
       "      <td>0.104057</td>\n",
       "      <td>0.051851</td>\n",
       "      <td>0.110367</td>\n",
       "      <td>0.113835</td>\n",
       "      <td>0.051505</td>\n",
       "      <td>0.104400</td>\n",
       "      <td>0.110226</td>\n",
       "      <td>1</td>\n",
       "      <td>999</td>\n",
       "      <td>0</td>\n",
       "      <td>0.088848</td>\n",
       "      <td>1.4</td>\n",
       "      <td>94.465</td>\n",
       "      <td>-41.8</td>\n",
       "      <td>4.967</td>\n",
       "      <td>5228.1</td>\n",
       "    </tr>\n",
       "    <tr>\n",
       "      <th>5365</th>\n",
       "      <td>34</td>\n",
       "      <td>0.067515</td>\n",
       "      <td>0.101269</td>\n",
       "      <td>0.081501</td>\n",
       "      <td>0.128569</td>\n",
       "      <td>0.115024</td>\n",
       "      <td>0.113835</td>\n",
       "      <td>0.051505</td>\n",
       "      <td>0.063396</td>\n",
       "      <td>0.110226</td>\n",
       "      <td>1</td>\n",
       "      <td>999</td>\n",
       "      <td>0</td>\n",
       "      <td>0.088848</td>\n",
       "      <td>1.1</td>\n",
       "      <td>93.994</td>\n",
       "      <td>-36.4</td>\n",
       "      <td>4.857</td>\n",
       "      <td>5191.0</td>\n",
       "    </tr>\n",
       "    <tr>\n",
       "      <th>2797</th>\n",
       "      <td>41</td>\n",
       "      <td>0.109059</td>\n",
       "      <td>0.101269</td>\n",
       "      <td>0.081501</td>\n",
       "      <td>0.128569</td>\n",
       "      <td>0.110367</td>\n",
       "      <td>0.113835</td>\n",
       "      <td>0.051505</td>\n",
       "      <td>0.063396</td>\n",
       "      <td>0.116111</td>\n",
       "      <td>1</td>\n",
       "      <td>999</td>\n",
       "      <td>0</td>\n",
       "      <td>0.088848</td>\n",
       "      <td>1.1</td>\n",
       "      <td>93.994</td>\n",
       "      <td>-36.4</td>\n",
       "      <td>4.859</td>\n",
       "      <td>5191.0</td>\n",
       "    </tr>\n",
       "  </tbody>\n",
       "</table>\n",
       "</div>"
      ],
      "text/plain": [
       "       age       job   marital  education   default   housing      loan  \\\n",
       "23424   33  0.109551  0.101269   0.102727  0.128569  0.110367  0.113835   \n",
       "39990   32  0.067515  0.101269   0.102727  0.128569  0.115024  0.113835   \n",
       "9340    27  0.315133  0.139834   0.104057  0.051851  0.110367  0.113835   \n",
       "5365    34  0.067515  0.101269   0.081501  0.128569  0.115024  0.113835   \n",
       "2797    41  0.109059  0.101269   0.081501  0.128569  0.110367  0.113835   \n",
       "\n",
       "        contact     month  day_of_week  campaign  pdays  previous  poutcome  \\\n",
       "23424  0.147733  0.107735     0.116111         7    999         0  0.088848   \n",
       "39990  0.051505  0.104400     0.116210         1    999         1  0.142140   \n",
       "9340   0.051505  0.104400     0.110226         1    999         0  0.088848   \n",
       "5365   0.051505  0.063396     0.110226         1    999         0  0.088848   \n",
       "2797   0.051505  0.063396     0.116111         1    999         0  0.088848   \n",
       "\n",
       "       emp.var.rate  cons.price.idx  cons.conf.idx  euribor3m  nr.employed  \n",
       "23424           1.4          93.444          -36.1      4.964       5228.1  \n",
       "39990          -1.7          94.055          -39.8      0.761       4991.6  \n",
       "9340            1.4          94.465          -41.8      4.967       5228.1  \n",
       "5365            1.1          93.994          -36.4      4.857       5191.0  \n",
       "2797            1.1          93.994          -36.4      4.859       5191.0  "
      ]
     },
     "execution_count": 45,
     "metadata": {},
     "output_type": "execute_result"
    }
   ],
   "source": [
    "my_transformer = MeanTargetEncoding()\n",
    "my_transformer.fit(X_train[cat_features], y_train)\n",
    "X_trans = my_transformer.transform(X_train)\n",
    "\n",
    "X_trans.head()"
   ]
  },
  {
   "cell_type": "code",
   "execution_count": 46,
   "metadata": {},
   "outputs": [],
   "source": [
    "col_transformer = ColumnTransformer([\n",
    "    ('MeanTargetEncoding', MeanTargetEncoding(), cat_features),\n",
    "    ('StandardScaler', StandardScaler(), num_features)\n",
    "])\n",
    "\n",
    "lr_pipeline = Pipeline([\n",
    "    ('ColumnTransformer', col_transformer),\n",
    "    ('LogisticRegression', LogisticRegression(max_iter=100000))\n",
    "])"
   ]
  },
  {
   "cell_type": "markdown",
   "metadata": {},
   "source": [
    "**Мое замечание:** После mean-target encoding, есть смысл применять StandardScaler, так как переменные будут вещественными и могут принимать разный размер. Стоит проверить эту идею, если вдруг буду этим заниматься."
   ]
  },
  {
   "cell_type": "code",
   "execution_count": 47,
   "metadata": {},
   "outputs": [
    {
     "name": "stdout",
     "output_type": "stream",
     "text": [
      "Wall time: 403 ms\n"
     ]
    }
   ],
   "source": [
    "%%time\n",
    "lr = lr_pipeline.fit(X_train, y_train)"
   ]
  },
  {
   "cell_type": "code",
   "execution_count": 48,
   "metadata": {},
   "outputs": [
    {
     "name": "stdout",
     "output_type": "stream",
     "text": [
      "Train AUC-PR score: 0.438485\n",
      "Test AUC-PR score: 0.442335\n"
     ]
    }
   ],
   "source": [
    "y_train_pred = lr.decision_function(X_train)\n",
    "y_test_pred = lr.decision_function(X_test)\n",
    "\n",
    "print(f'Train AUC-PR score: {pr_auc_score(y_train, y_train_pred):6f}')\n",
    "print(f'Test AUC-PR score: {pr_auc_score(y_test, y_test_pred):6f}')"
   ]
  },
  {
   "cell_type": "markdown",
   "metadata": {},
   "source": [
    "Несмотря на то, что mean-target encoding реализован самостоятельно (не факт, что наиболее эффективным способом), на кодирование признаков и обучение модели ушло в два раза меньше времени, чем на то же самое с использованием OneHotEncoder. Хотя с OrdinalEncoder всё отработало быстрее, возможно с более эффективной реализацией алгоритма, время могло быть практически равным.\n",
    "\n",
    "Результат на тестовой выборке при использовании mean-target encoding получился примерно таким же как при использовании OrdinalEncoder и уступает результату с OneHotEncoder."
   ]
  },
  {
   "cell_type": "markdown",
   "metadata": {},
   "source": [
    "Отметим, что такие признаки сами по себе являются классификаторами и, обучаясь на них, мы допускаем \"утечку\" целевой переменной в признаки. Это ведёт к переобучению, поэтому считать такие признаки необходимо таким образом, чтобы при вычислении для конкретного объекта его целевая метка не использовалась. Это можно делать следующими способами:\n",
    "1. Вычислять значение счётчика по всем объектам расположенным выше в датасете (например, если у нас выборка отсортирована по времени).\n",
    "2. Вычислять по фолдам, то есть делить выборку на некоторое количество частей и подсчитывать значение признаков по всем фолдам кроме текущего (как делается в кросс-валидации).\n",
    "3. Внесение некоторого шума в посчитанные признаки. \n",
    "\n",
    "__Задание 6.__ Реализуйте корректное вычисление счётчиков самым простым способом — добавление шума к значениям (постарайтесь найти баланс между борьбой с переобучением и сохранением полезности признаков). Снова обучите логистическую регрессию, оцените качество. Сделайте выводы.\n",
    "\n",
    "__(0.5 балла)__"
   ]
  },
  {
   "cell_type": "code",
   "execution_count": 49,
   "metadata": {},
   "outputs": [],
   "source": [
    "class MeanTargetEncoding(BaseEstimator, TransformerMixin):\n",
    "    def __init__(self, noise=0):\n",
    "        self.noise = noise\n",
    "        self.encodings = {}\n",
    "    \n",
    "    def fit(self, X, y):\n",
    "        X_ = X.copy()\n",
    "        X_['target'] = y.copy()\n",
    "        \n",
    "        for column in X:\n",
    "            self.encodings[column] = X_.groupby(by=column).mean()['target'].copy()\n",
    "            # Добавление шума - Вариант 1\n",
    "            self.encodings[column] += np.random.normal(scale=self.noise, size=self.encodings[column].shape[0])\n",
    "        return self\n",
    "    \n",
    "    def transform(self, X):\n",
    "        return X.replace(self.encodings)"
   ]
  },
  {
   "cell_type": "markdown",
   "metadata": {},
   "source": [
    "**Моя идея шума** - Если добавить шум после применения трансформации, тогда у нас не будет повторяющихся объектов, что сделает эти признкаи не категориальными. Считаю, что этот подход неправильным."
   ]
  },
  {
   "cell_type": "code",
   "execution_count": 50,
   "metadata": {},
   "outputs": [],
   "source": [
    "col_transformer = ColumnTransformer([\n",
    "    ('MeanTargetEncoding', MeanTargetEncoding(1), cat_features),\n",
    "    ('StandardScaler', StandardScaler(), num_features)\n",
    "])\n",
    "\n",
    "lr_pipeline = Pipeline([\n",
    "    ('ColumnTransformer', col_transformer),\n",
    "#     ('StandardScaler', StandardScaler(), num_features),\n",
    "    ('LogisticRegression', LogisticRegression(max_iter=100000))\n",
    "])"
   ]
  },
  {
   "cell_type": "code",
   "execution_count": 51,
   "metadata": {},
   "outputs": [
    {
     "name": "stdout",
     "output_type": "stream",
     "text": [
      "Wall time: 279 ms\n"
     ]
    }
   ],
   "source": [
    "%%time\n",
    "lr = lr_pipeline.fit(X_train, y_train)"
   ]
  },
  {
   "cell_type": "code",
   "execution_count": 52,
   "metadata": {},
   "outputs": [
    {
     "name": "stdout",
     "output_type": "stream",
     "text": [
      "Train AUC-PR score: 0.439644\n",
      "Test AUC-PR score: 0.437762\n"
     ]
    }
   ],
   "source": [
    "y_train_pred = lr.decision_function(X_train)\n",
    "y_test_pred = lr.decision_function(X_test)\n",
    "\n",
    "print(f'Train AUC-PR score: {pr_auc_score(y_train, y_train_pred):6f}')\n",
    "print(f'Test AUC-PR score: {pr_auc_score(y_test, y_test_pred):6f}')"
   ]
  },
  {
   "cell_type": "markdown",
   "metadata": {},
   "source": [
    "### Подбор шума"
   ]
  },
  {
   "cell_type": "code",
   "execution_count": 53,
   "metadata": {},
   "outputs": [
    {
     "name": "stdout",
     "output_type": "stream",
     "text": [
      "noise = 0.1\n",
      "Train AUC-PR score: 0.436206\n",
      "Test AUC-PR score: 0.436417\n",
      "abs_score = 0.00021140414936804408\n",
      "\n",
      "noise = 0.12742749857031338\n",
      "Train AUC-PR score: 0.430072\n",
      "Test AUC-PR score: 0.443381\n",
      "abs_score = 0.01330909296893562\n",
      "\n",
      "noise = 0.16237767391887217\n",
      "Train AUC-PR score: 0.433822\n",
      "Test AUC-PR score: 0.432007\n",
      "abs_score = 0.001814930331268505\n",
      "\n",
      "noise = 0.20691380811147897\n",
      "Train AUC-PR score: 0.439387\n",
      "Test AUC-PR score: 0.440721\n",
      "abs_score = 0.0013340185840702845\n",
      "\n",
      "noise = 0.26366508987303583\n",
      "Train AUC-PR score: 0.440754\n",
      "Test AUC-PR score: 0.438918\n",
      "abs_score = 0.0018359333232276787\n",
      "\n",
      "noise = 0.33598182862837817\n",
      "Train AUC-PR score: 0.440739\n",
      "Test AUC-PR score: 0.435799\n",
      "abs_score = 0.004940238033657229\n",
      "\n",
      "noise = 0.42813323987193935\n",
      "Train AUC-PR score: 0.444418\n",
      "Test AUC-PR score: 0.435213\n",
      "abs_score = 0.009205126042051093\n",
      "\n",
      "noise = 0.5455594781168519\n",
      "Train AUC-PR score: 0.434711\n",
      "Test AUC-PR score: 0.440268\n",
      "abs_score = 0.005556976725408114\n",
      "\n",
      "noise = 0.6951927961775606\n",
      "Train AUC-PR score: 0.437108\n",
      "Test AUC-PR score: 0.432726\n",
      "abs_score = 0.004382178224914213\n",
      "\n",
      "noise = 0.8858667904100825\n",
      "Train AUC-PR score: 0.438177\n",
      "Test AUC-PR score: 0.437218\n",
      "abs_score = 0.000958995484150682\n",
      "\n",
      "noise = 1.1288378916846888\n",
      "Train AUC-PR score: 0.441416\n",
      "Test AUC-PR score: 0.438208\n",
      "abs_score = 0.003207695136508093\n",
      "\n",
      "noise = 1.438449888287663\n",
      "Train AUC-PR score: 0.437307\n",
      "Test AUC-PR score: 0.432086\n",
      "abs_score = 0.005221288406178304\n",
      "\n",
      "noise = 1.8329807108324356\n",
      "Train AUC-PR score: 0.438074\n",
      "Test AUC-PR score: 0.440587\n",
      "abs_score = 0.0025126701637785964\n",
      "\n",
      "noise = 2.3357214690901213\n",
      "Train AUC-PR score: 0.439361\n",
      "Test AUC-PR score: 0.439222\n",
      "abs_score = 0.0001386358910623886\n",
      "\n",
      "noise = 2.9763514416313175\n",
      "Train AUC-PR score: 0.446035\n",
      "Test AUC-PR score: 0.437951\n",
      "abs_score = 0.008083887967358483\n",
      "\n",
      "noise = 3.79269019073225\n",
      "Train AUC-PR score: 0.437441\n",
      "Test AUC-PR score: 0.437089\n",
      "abs_score = 0.0003518687593728753\n",
      "\n",
      "noise = 4.832930238571752\n",
      "Train AUC-PR score: 0.437091\n",
      "Test AUC-PR score: 0.428888\n",
      "abs_score = 0.008203330672406972\n",
      "\n",
      "noise = 6.158482110660261\n",
      "Train AUC-PR score: 0.436072\n",
      "Test AUC-PR score: 0.435530\n",
      "abs_score = 0.0005418349022219271\n",
      "\n",
      "noise = 7.847599703514611\n",
      "Train AUC-PR score: 0.442797\n",
      "Test AUC-PR score: 0.433171\n",
      "abs_score = 0.00962566656982633\n",
      "\n",
      "noise = 10.0\n",
      "Train AUC-PR score: 0.436720\n",
      "Test AUC-PR score: 0.431846\n",
      "abs_score = 0.004873996355125865\n",
      "\n"
     ]
    }
   ],
   "source": [
    "for noise in np.logspace(-1, 1, 20):\n",
    "    col_transformer = ColumnTransformer([\n",
    "        ('MeanTargetEncoding', MeanTargetEncoding(noise), cat_features),\n",
    "        ('StandardScaler', StandardScaler(), num_features)\n",
    "    ])\n",
    "\n",
    "    lr_pipeline = Pipeline([\n",
    "        ('ColumnTransformer', col_transformer),\n",
    "    #     ('StandardScaler', StandardScaler(), num_features),\n",
    "        ('LogisticRegression', LogisticRegression(max_iter=100000))\n",
    "    ])\n",
    "    \n",
    "    lr = lr_pipeline.fit(X_train, y_train)\n",
    "    \n",
    "    y_train_pred = lr.decision_function(X_train)\n",
    "    y_test_pred = lr.decision_function(X_test)\n",
    "    \n",
    "    print(f'noise = {noise}')\n",
    "    print(f'Train AUC-PR score: {pr_auc_score(y_train, y_train_pred):6f}')\n",
    "    print(f'Test AUC-PR score: {pr_auc_score(y_test, y_test_pred):6f}')\n",
    "    abs_score = np.abs(pr_auc_score(y_train, y_train_pred) - pr_auc_score(y_test, y_test_pred))\n",
    "    print(f'abs_score = {abs_score}\\n')"
   ]
  },
  {
   "cell_type": "markdown",
   "metadata": {},
   "source": [
    "**Вывод:** Практически нет никаких изменений, это связано с тем, что признаки изначально имели малую значимость. Поэтому тяжело подобрать оптимальные параметры относительно регулированяи уровян шума.\n",
    "\n",
    "Выбрать хороший шум можно балансирую между качеством и уровнем переобучения. Наблюдаем, что с ростом шума переобучение становится ниже, так как значимость признака становится низкой."
   ]
  },
  {
   "cell_type": "markdown",
   "metadata": {},
   "source": [
    "__(Бонусная часть, 0.5 балла)__ Посчитайте корректные счётчики первым или вторым способов из описанных выше (не забудьте добавить и шум). \n",
    "\n"
   ]
  },
  {
   "cell_type": "code",
   "execution_count": 54,
   "metadata": {},
   "outputs": [],
   "source": [
    "#your code here"
   ]
  },
  {
   "cell_type": "markdown",
   "metadata": {},
   "source": [
    "А теперь ответьте на следующий вопрос: что будет, если некоторая категория встречается в выборке всего несколько раз? По этой причине производится сглаживание счётчиков. Например, на практике хорошие результаты показывает использование сглаживания средним по всей выборке:\n",
    "$$\n",
    "g_j(x, X) = \\frac{\\sum_{i=1}^{\\ell} [f_j(x) = f_j(x_i)][y_i = +1] + C \\times global\\_mean}{\\sum_{i=1}^{\\ell} [f_j(x) = f_j(x_i)] + C}\n",
    "$$\n",
    "где $global\\_mean$ — доля объектов положительного класса в выборке, $C$ — параметр, определяющий степень сглаживания (например, можно использовать 10 или подобрать для каждого признака свой). Основная идея в том, что мы \"разбавляем\" среднее значение по некоторой категории глобальным средним значением. И тем меньше, чем большее количество объектов этой категории встречается в выборке. \n",
    "\n",
    "Однако для сглаживания вместо среднего значения целевой переменной можно использовать любое другое значение от 0 до 1 (этот параметр иногда называют $prior$). Можно сделать несколько признаков с разными значениями параметра. На практике в задачах бинарной классификации полезными бывают даже отрицательные значения!\n"
   ]
  },
  {
   "cell_type": "markdown",
   "metadata": {},
   "source": [
    "__Задание 7 (1 балл).__ Добавьте сглаживание, описанное выше и повторите эксперименты."
   ]
  },
  {
   "cell_type": "code",
   "execution_count": 55,
   "metadata": {},
   "outputs": [],
   "source": [
    "class MeanTargetEncoding(BaseEstimator, TransformerMixin):\n",
    "    def __init__(self, noise=0, C=10):\n",
    "        self.noise = noise\n",
    "        self.encodings = {}\n",
    "        self.C = C\n",
    "    \n",
    "    def smoothing(self, x):  # Сглаживание\n",
    "        positive_count = x.sum() + self.C * self.global_mean\n",
    "        count = x.shape[0] + self.C\n",
    "        return positive_count / count\n",
    "    \n",
    "    def fit(self, X, y):\n",
    "        self.global_mean = y.mean()\n",
    "        X_ = X.copy()\n",
    "        X_['target'] = y.copy()\n",
    "        \n",
    "        for column in X:\n",
    "            # Использование сглаживания - Вариант 1\n",
    "#             numerator = X_.groupby(by=column).sum()['target'] + self.C * y.mean()\n",
    "#             denominator = X_.groupby(by=column).size() + self.C\n",
    "#             self.encodings[column] = numerator / denominator\n",
    "            \n",
    "            # Использование сглаживания - Вариант 2\n",
    "            self.encodings[column] = X_['target'].groupby(X_[column]).agg([self.smoothing])['smoothing']\n",
    "            # Добавление шума - Вариант 1\n",
    "            self.encodings[column] += np.random.normal(scale=self.noise, size=self.encodings[column].shape[0])\n",
    "        return self\n",
    "    \n",
    "    def transform(self, X):\n",
    "        return X.replace(self.encodings)"
   ]
  },
  {
   "cell_type": "code",
   "execution_count": 56,
   "metadata": {},
   "outputs": [],
   "source": [
    "col_transformer = ColumnTransformer([\n",
    "    ('MeanTargetEncoding', MeanTargetEncoding(), cat_features),\n",
    "    ('StandardScaler', StandardScaler(), num_features)\n",
    "])\n",
    "\n",
    "lr_pipeline = Pipeline([\n",
    "    ('ColumnTransformer', col_transformer),\n",
    "    ('LogisticRegression', LogisticRegression(max_iter=100000))\n",
    "])"
   ]
  },
  {
   "cell_type": "code",
   "execution_count": 57,
   "metadata": {},
   "outputs": [
    {
     "name": "stdout",
     "output_type": "stream",
     "text": [
      "Wall time: 376 ms\n"
     ]
    }
   ],
   "source": [
    "%%time\n",
    "lr = lr_pipeline.fit(X_train, y_train)"
   ]
  },
  {
   "cell_type": "code",
   "execution_count": 58,
   "metadata": {},
   "outputs": [
    {
     "name": "stdout",
     "output_type": "stream",
     "text": [
      "Train AUC-PR score: 0.438479\n",
      "Test AUC-PR score: 0.442399\n"
     ]
    }
   ],
   "source": [
    "y_train_pred = lr.decision_function(X_train)\n",
    "y_test_pred = lr.decision_function(X_test)\n",
    "\n",
    "print(f'Train AUC-PR score: {pr_auc_score(y_train, y_train_pred):6f}')\n",
    "print(f'Test AUC-PR score: {pr_auc_score(y_test, y_test_pred):6f}')"
   ]
  },
  {
   "cell_type": "markdown",
   "metadata": {},
   "source": [
    "Результаты без использования сглаживани и шума:\n",
    "\n",
    "Train AUC-PR score: 0.438485\n",
    "\n",
    "Test AUC-PR score: 0.442335\n",
    "\n",
    "Результаты при использовани сглаживани и без шума:\n",
    "\n",
    "Train AUC-PR score: 0.438479\n",
    "\n",
    "Test AUC-PR score: 0.442399"
   ]
  },
  {
   "cell_type": "markdown",
   "metadata": {},
   "source": [
    "__Задание 8 (0.5 балла).__ В данных имеется признак \"возраст клиента\". Сейчас мы интерпретируем его как числовой, что в общем случае для линейной модели может быть неверной гипотезой. Тем не менее, у этого признака есть довольно много уникальных значений (сколько?), поэтому применять к нему one-hot кодирование может оказаться излишним. Попробуйте закодировать возраст с помощью счетчиков. Стало ли лучше?\n",
    "\n"
   ]
  },
  {
   "cell_type": "code",
   "execution_count": 59,
   "metadata": {},
   "outputs": [
    {
     "data": {
      "text/plain": [
       "76"
      ]
     },
     "execution_count": 59,
     "metadata": {},
     "output_type": "execute_result"
    }
   ],
   "source": [
    "len(X_train['age'].unique())"
   ]
  },
  {
   "cell_type": "markdown",
   "metadata": {},
   "source": [
    "Всегод 76 уничальных значений возраста."
   ]
  },
  {
   "cell_type": "code",
   "execution_count": 60,
   "metadata": {},
   "outputs": [
    {
     "data": {
      "text/html": [
       "<div>\n",
       "<style scoped>\n",
       "    .dataframe tbody tr th:only-of-type {\n",
       "        vertical-align: middle;\n",
       "    }\n",
       "\n",
       "    .dataframe tbody tr th {\n",
       "        vertical-align: top;\n",
       "    }\n",
       "\n",
       "    .dataframe thead th {\n",
       "        text-align: right;\n",
       "    }\n",
       "</style>\n",
       "<table border=\"1\" class=\"dataframe\">\n",
       "  <thead>\n",
       "    <tr style=\"text-align: right;\">\n",
       "      <th></th>\n",
       "      <th>age</th>\n",
       "      <th>job</th>\n",
       "      <th>marital</th>\n",
       "      <th>education</th>\n",
       "      <th>default</th>\n",
       "      <th>housing</th>\n",
       "      <th>loan</th>\n",
       "      <th>contact</th>\n",
       "      <th>month</th>\n",
       "      <th>day_of_week</th>\n",
       "      <th>campaign</th>\n",
       "      <th>pdays</th>\n",
       "      <th>previous</th>\n",
       "      <th>poutcome</th>\n",
       "      <th>emp.var.rate</th>\n",
       "      <th>cons.price.idx</th>\n",
       "      <th>cons.conf.idx</th>\n",
       "      <th>euribor3m</th>\n",
       "      <th>nr.employed</th>\n",
       "    </tr>\n",
       "  </thead>\n",
       "  <tbody>\n",
       "    <tr>\n",
       "      <th>38452</th>\n",
       "      <td>98</td>\n",
       "      <td>retired</td>\n",
       "      <td>married</td>\n",
       "      <td>basic.4y</td>\n",
       "      <td>unknown</td>\n",
       "      <td>yes</td>\n",
       "      <td>no</td>\n",
       "      <td>cellular</td>\n",
       "      <td>oct</td>\n",
       "      <td>fri</td>\n",
       "      <td>1</td>\n",
       "      <td>2</td>\n",
       "      <td>2</td>\n",
       "      <td>success</td>\n",
       "      <td>-3.4</td>\n",
       "      <td>92.431</td>\n",
       "      <td>-26.9</td>\n",
       "      <td>0.730</td>\n",
       "      <td>5017.5</td>\n",
       "    </tr>\n",
       "    <tr>\n",
       "      <th>38455</th>\n",
       "      <td>98</td>\n",
       "      <td>retired</td>\n",
       "      <td>married</td>\n",
       "      <td>basic.4y</td>\n",
       "      <td>unknown</td>\n",
       "      <td>yes</td>\n",
       "      <td>no</td>\n",
       "      <td>cellular</td>\n",
       "      <td>oct</td>\n",
       "      <td>fri</td>\n",
       "      <td>2</td>\n",
       "      <td>999</td>\n",
       "      <td>0</td>\n",
       "      <td>nonexistent</td>\n",
       "      <td>-3.4</td>\n",
       "      <td>92.431</td>\n",
       "      <td>-26.9</td>\n",
       "      <td>0.730</td>\n",
       "      <td>5017.5</td>\n",
       "    </tr>\n",
       "    <tr>\n",
       "      <th>37743</th>\n",
       "      <td>87</td>\n",
       "      <td>retired</td>\n",
       "      <td>divorced</td>\n",
       "      <td>basic.4y</td>\n",
       "      <td>no</td>\n",
       "      <td>no</td>\n",
       "      <td>no</td>\n",
       "      <td>cellular</td>\n",
       "      <td>aug</td>\n",
       "      <td>fri</td>\n",
       "      <td>1</td>\n",
       "      <td>999</td>\n",
       "      <td>0</td>\n",
       "      <td>nonexistent</td>\n",
       "      <td>-2.9</td>\n",
       "      <td>92.201</td>\n",
       "      <td>-31.4</td>\n",
       "      <td>0.849</td>\n",
       "      <td>5076.2</td>\n",
       "    </tr>\n",
       "  </tbody>\n",
       "</table>\n",
       "</div>"
      ],
      "text/plain": [
       "       age      job   marital education  default housing loan   contact month  \\\n",
       "38452   98  retired   married  basic.4y  unknown     yes   no  cellular   oct   \n",
       "38455   98  retired   married  basic.4y  unknown     yes   no  cellular   oct   \n",
       "37743   87  retired  divorced  basic.4y       no      no   no  cellular   aug   \n",
       "\n",
       "      day_of_week  campaign  pdays  previous     poutcome  emp.var.rate  \\\n",
       "38452         fri         1      2         2      success          -3.4   \n",
       "38455         fri         2    999         0  nonexistent          -3.4   \n",
       "37743         fri         1    999         0  nonexistent          -2.9   \n",
       "\n",
       "       cons.price.idx  cons.conf.idx  euribor3m  nr.employed  \n",
       "38452          92.431          -26.9      0.730       5017.5  \n",
       "38455          92.431          -26.9      0.730       5017.5  \n",
       "37743          92.201          -31.4      0.849       5076.2  "
      ]
     },
     "execution_count": 60,
     "metadata": {},
     "output_type": "execute_result"
    }
   ],
   "source": [
    "age_train_unique = set(X_train['age'].unique())\n",
    "age_test_unique = set(X_test['age'].unique())\n",
    "age_test_unique.difference(age_train_unique)\n",
    "X_test[X_test['age'].isin([87, 98])]"
   ]
  },
  {
   "cell_type": "markdown",
   "metadata": {},
   "source": [
    "Таких уникальных в тесте значений всего трое, поэтому можно их безболезненно удалить, чтобы не усложнять слишком сильно трансформер. (Тем более, что не совсмем понятно, как это можно было бы доработать, так как в ohe, например, неизвестные на трейне значений просто игнорируются при обработке теста, а тут игнорировать не получится, нужно присваивать таким элементам тоже какое-то значение, а вот какое, непонятно)."
   ]
  },
  {
   "cell_type": "code",
   "execution_count": 61,
   "metadata": {},
   "outputs": [],
   "source": [
    "mask = (~X_test['age'].isin([87, 98]))\n",
    "X_test = X_test.loc[mask]\n",
    "y_test = y_test.loc[mask]"
   ]
  },
  {
   "cell_type": "code",
   "execution_count": 62,
   "metadata": {},
   "outputs": [],
   "source": [
    "cat_features_new = cat_features + ['age']\n",
    "num_features_new = num_features.copy()\n",
    "num_features_new.remove('age')"
   ]
  },
  {
   "cell_type": "code",
   "execution_count": 63,
   "metadata": {},
   "outputs": [],
   "source": [
    "col_transformer = ColumnTransformer([\n",
    "    ('MeanTargetEncoding', MeanTargetEncoding(), cat_features_new),\n",
    "    ('StandardScaler', StandardScaler(), num_features_new)\n",
    "])\n",
    "\n",
    "lr_pipeline = Pipeline([\n",
    "    ('ColumnTransformer', col_transformer),\n",
    "    ('LogisticRegression', LogisticRegression(max_iter=100000))\n",
    "])"
   ]
  },
  {
   "cell_type": "code",
   "execution_count": 64,
   "metadata": {},
   "outputs": [
    {
     "name": "stdout",
     "output_type": "stream",
     "text": [
      "Wall time: 391 ms\n"
     ]
    }
   ],
   "source": [
    "%%time\n",
    "lr = lr_pipeline.fit(X_train, y_train)"
   ]
  },
  {
   "cell_type": "code",
   "execution_count": 65,
   "metadata": {},
   "outputs": [
    {
     "name": "stdout",
     "output_type": "stream",
     "text": [
      "Train AUC-PR score: 0.441338\n",
      "Test AUC-PR score: 0.435869\n"
     ]
    }
   ],
   "source": [
    "y_train_pred = lr.decision_function(X_train)\n",
    "y_test_pred = lr.decision_function(X_test)\n",
    "\n",
    "print(f'Train AUC-PR score: {pr_auc_score(y_train, y_train_pred):6f}')\n",
    "print(f'Test AUC-PR score: {pr_auc_score(y_test, y_test_pred):6f}')"
   ]
  },
  {
   "cell_type": "markdown",
   "metadata": {},
   "source": [
    "Кодирование `age` MeanTargetEncoding\n",
    "\n",
    "Train AUC-PR score: 0.441338\n",
    "\n",
    "Test AUC-PR score: 0.440495\n",
    "\n",
    "Без использование MeanTargetEncoding:\n",
    "\n",
    "Train AUC-PR score: 0.438479\n",
    "\n",
    "Test AUC-PR score: 0.442399"
   ]
  },
  {
   "cell_type": "markdown",
   "metadata": {},
   "source": [
    "Можно пойти и в обратную сторону. У нас есть признаки \"месяц и день недели\" для звонка. Попробуйте интерпретировать их как числовые (месяц от 0 до 12, дни недели от 0 до 4). Стало ли лучше в этот раз?"
   ]
  },
  {
   "cell_type": "markdown",
   "metadata": {},
   "source": [
    "#### Кодирование"
   ]
  },
  {
   "cell_type": "code",
   "execution_count": 66,
   "metadata": {},
   "outputs": [],
   "source": [
    "day_code = {'mon' : 0, 'tue' : 1, 'wed' : 2, 'thu' : 3, 'fri' : 4}\n",
    "month_code = {'mar' : 0, 'apr' : 1, 'may' : 2, 'jun' : 3, 'jul' : 5, 'aug' : 6,\n",
    "              'sep' : 7, 'oct' : 8, 'nov' : 9, 'dec' : 10}"
   ]
  },
  {
   "cell_type": "code",
   "execution_count": 67,
   "metadata": {},
   "outputs": [],
   "source": [
    "X_train['month'] = X_train['month'].map(month_code)\n",
    "X_train['day_of_week'] = X_train['day_of_week'].map(day_code)"
   ]
  },
  {
   "cell_type": "code",
   "execution_count": 68,
   "metadata": {},
   "outputs": [],
   "source": [
    "X_test['month'] = X_test['month'].map(month_code)\n",
    "X_test['day_of_week'] = X_test['day_of_week'].map(day_code)"
   ]
  },
  {
   "cell_type": "markdown",
   "metadata": {},
   "source": [
    "#### Новые колонки"
   ]
  },
  {
   "cell_type": "code",
   "execution_count": 69,
   "metadata": {},
   "outputs": [],
   "source": [
    "num_features_new += ['month', 'day_of_week']\n",
    "cat_features_new.remove('month')\n",
    "cat_features_new.remove('day_of_week')"
   ]
  },
  {
   "cell_type": "markdown",
   "metadata": {},
   "source": [
    "#### Обучение"
   ]
  },
  {
   "cell_type": "code",
   "execution_count": 70,
   "metadata": {},
   "outputs": [
    {
     "name": "stdout",
     "output_type": "stream",
     "text": [
      "Train AUC-PR score: 0.442868\n",
      "Test AUC-PR score: 0.430015\n"
     ]
    }
   ],
   "source": [
    "col_transformer = ColumnTransformer([\n",
    "    ('MeanTargetEncoding', MeanTargetEncoding(), cat_features_new),\n",
    "    ('StandardScaler', StandardScaler(), num_features_new)\n",
    "])\n",
    "\n",
    "lr_pipeline = Pipeline([\n",
    "    ('ColumnTransformer', col_transformer),\n",
    "    ('LogisticRegression', LogisticRegression(max_iter=100000))\n",
    "])\n",
    "\n",
    "lr = lr_pipeline.fit(X_train, y_train)\n",
    "\n",
    "y_train_pred = lr.decision_function(X_train)\n",
    "y_test_pred = lr.decision_function(X_test)\n",
    "\n",
    "print(f'Train AUC-PR score: {pr_auc_score(y_train, y_train_pred):6f}')\n",
    "print(f'Test AUC-PR score: {pr_auc_score(y_test, y_test_pred):6f}')"
   ]
  },
  {
   "cell_type": "markdown",
   "metadata": {},
   "source": [
    "Кодирование `month`, `day_of_week` числом:\n",
    "\n",
    "Train AUC-PR score: 0.442868\n",
    "\n",
    "Test AUC-PR score: 0.434569\n",
    "\n",
    "Кодирование `month`, `day_of_week` MeanTargetEncoding:\n",
    "\n",
    "Train AUC-PR score: 0.441338\n",
    "\n",
    "Test AUC-PR score: 0.440495\n",
    "\n",
    "Наблюдаем после кодирования `month`, `day_of_week` числом небольшой эффект переобучения."
   ]
  },
  {
   "cell_type": "markdown",
   "metadata": {},
   "source": [
    "__Замечание.__ Усложнение методов вычисления счётчиков не делают результаты модели гарантированно лучше. Особенно с учётом того, что логистическая регрессия не такая сложная модель, чтобы переобучаться. Поэтому вы необязательно должны были получать на каждом шаге всё лучшие и лучшие результаты (но необходимые результаты у вас должны были получиться).\n",
    "\n",
    "Как вы должны были заметить, счётчики являются хорошей альтернативой one-hot-кодированию. Напишите, какие плюсы и минусы использования счётчиков по сравнению с one-hot-кодированием вы заметили.\n",
    "\n",
    "__Ответ:__ явный плюс использования счётчиков по сравнению с ohe - это более быстрое кодирование признаков и обучение модели, так как счётчики, в отличие от ohe не порождают такое количество новых признаков. Но, тем не менее, ohe показывает лучший результат, чем счётчики. Возможно, что при использовании другой модели, вместо линейной регессии результат был бы другим, но тем не менее, имеем, что имеем.\n",
    "\n",
    "Так же, можно заметить, что использование ohe, например при обучении деревьев было бы крайне плохой идеей, так как дереья будут очень долго обучаться на выборке с большим количеством признаков, порождённым ohe. Но ещё большей проблемой моежт стать то, что деревья очень любят переобучаться, поэтому для этого семейства моделей ohe имеет гораздо больше минусов по сравнению с счётчиками."
   ]
  },
  {
   "cell_type": "markdown",
   "metadata": {},
   "source": [
    "# Часть 2. Отбор признаков"
   ]
  },
  {
   "cell_type": "markdown",
   "metadata": {},
   "source": [
    "Важной частью процесса построения модели является отбор признаков. На практике многие признаки оказывают малое влияние на модель (при этом их расчёт занимает время) или даже негативно сказываются на качестве модели. Попробуем несколько подходов отбора признаков, оценим, как они влияют на качество модели и сколько времени занимают.\n",
    "\n",
    "Обратимся к тем же данным про банковский телефонный маркетинг."
   ]
  },
  {
   "cell_type": "code",
   "execution_count": 71,
   "metadata": {},
   "outputs": [],
   "source": [
    "df = pd.read_csv('input/04_bank-additional/bank-additional-full.csv', sep=';')\n",
    "\n",
    "X = df.drop(columns=['duration', 'y'])\n",
    "y = (df.y == 'yes')\n",
    "\n",
    "X_train, X_test, y_train, y_test = train_test_split(X, y, test_size=0.2, random_state=777, stratify=y)"
   ]
  },
  {
   "cell_type": "markdown",
   "metadata": {},
   "source": [
    "Как вы помните, в данных много категориальных признаков (сейчас давайте интерпретировать возраст как числовой). Давайте закодируем их с помощью one-hot кодирования. Исходные колонки с категориальными признаками можно удалить. Сколько признаков мы получили?"
   ]
  },
  {
   "cell_type": "code",
   "execution_count": 72,
   "metadata": {},
   "outputs": [],
   "source": [
    "cat_features = [\n",
    "    'job', 'marital', 'education', 'default', 'housing', 'loan', 'contact',\n",
    "    'month', 'day_of_week', 'poutcome'\n",
    "]\n",
    "num_features = [\n",
    "    'age', 'campaign', 'pdays', 'previous', 'emp.var.rate', 'cons.price.idx',\n",
    "    'cons.conf.idx', 'euribor3m', 'nr.employed'\n",
    "]"
   ]
  },
  {
   "cell_type": "code",
   "execution_count": 73,
   "metadata": {},
   "outputs": [],
   "source": [
    "X_train_hot = X_train.drop(cat_features, axis=1)\n",
    "X_test_hot = X_test.drop(cat_features, axis=1)"
   ]
  },
  {
   "cell_type": "code",
   "execution_count": 74,
   "metadata": {},
   "outputs": [],
   "source": [
    "ohe = OneHotEncoder(handle_unknown='ignore', sparse=False).fit(X_train[cat_features])\n",
    "names = ohe.get_feature_names_out()\n",
    "X_train_hot = pd.concat(\n",
    "    [X_train_hot, pd.DataFrame(ohe.transform(X_train[cat_features]),\n",
    "                               index=X_train.index,\n",
    "                               columns=names)],\n",
    "    axis=1)\n",
    "X_test_hot = pd.concat(\n",
    "    [X_test_hot, pd.DataFrame(ohe.transform(X_test[cat_features]),\n",
    "                              index=X_test.index,\n",
    "                              columns=names)],\n",
    "    axis=1)"
   ]
  },
  {
   "cell_type": "markdown",
   "metadata": {},
   "source": [
    "В качестве основной модели будем использовать логистическую регрессию, а целевой метрики — `AUC-PR`. Обучите модель и посчитайте качество на тестовой выборке. Давайте запомним полученное значение."
   ]
  },
  {
   "cell_type": "code",
   "execution_count": 75,
   "metadata": {},
   "outputs": [
    {
     "name": "stdout",
     "output_type": "stream",
     "text": [
      "Train AUC-PR score: 0.445264\n",
      "Test AUC-PR score: 0.441870\n"
     ]
    }
   ],
   "source": [
    "lr = LogisticRegression(max_iter=100000).fit(X_train_hot, y_train)\n",
    "\n",
    "y_train_pred = lr.decision_function(X_train_hot)\n",
    "y_test_pred = lr.decision_function(X_test_hot)\n",
    "\n",
    "print(f'Train AUC-PR score: {pr_auc_score(y_train, y_train_pred):6f}')\n",
    "print(f'Test AUC-PR score: {pr_auc_score(y_test, y_test_pred):6f}')"
   ]
  },
  {
   "cell_type": "markdown",
   "metadata": {},
   "source": [
    "### Встроенные методы"
   ]
  },
  {
   "cell_type": "markdown",
   "metadata": {},
   "source": [
    "Допустим, мы хотим оставить только 40 лучших признаков. Попробуем сделать это несколькими способами.\n",
    "\n",
    "Начнём с отборам признаков с помощью линейной модели. Как известно, веса линейной модели означают вклад каждого признака в предсказание модели, а значит, модуль этого вклада можно интерпретировать как важность признаков. Такой метод отбора называются встроенным или embedded method, так как он заложен в особенности модели.\n",
    "\n",
    "__Задание 8 (0.5 балла).__ Оставьте 40 признаков с наибольшим модулем соответствующего параметра линейной модели. Обучите модели заново и оцените её качество. Замерьте скорость такого отбора признаков.\n",
    "\n",
    "Изменилось ли качество? Как?\n",
    "\n"
   ]
  },
  {
   "cell_type": "code",
   "execution_count": 76,
   "metadata": {},
   "outputs": [],
   "source": [
    "# Выбор признаков с наибольшим вкладом\n",
    "best_number_columns = np.argsort(-np.abs(lr.coef_[0]))[:40]"
   ]
  },
  {
   "cell_type": "code",
   "execution_count": 77,
   "metadata": {},
   "outputs": [],
   "source": [
    "X_train_best = X_train_hot.iloc[:, best_number_columns]\n",
    "X_test_best = X_test_hot.iloc[:, best_number_columns]"
   ]
  },
  {
   "cell_type": "code",
   "execution_count": 78,
   "metadata": {},
   "outputs": [
    {
     "data": {
      "text/plain": [
       "(32950, 62)"
      ]
     },
     "execution_count": 78,
     "metadata": {},
     "output_type": "execute_result"
    }
   ],
   "source": [
    "X_train_hot.shape"
   ]
  },
  {
   "cell_type": "code",
   "execution_count": 79,
   "metadata": {},
   "outputs": [
    {
     "name": "stdout",
     "output_type": "stream",
     "text": [
      "Train AUC-PR score: 0.441740\n",
      "Test AUC-PR score: 0.445259\n"
     ]
    }
   ],
   "source": [
    "lr = LogisticRegression(max_iter=100000).fit(X_train_best, y_train)\n",
    "\n",
    "y_train_pred = lr.decision_function(X_train_best)\n",
    "y_test_pred = lr.decision_function(X_test_best)\n",
    "\n",
    "print(f'Train AUC-PR score: {pr_auc_score(y_train, y_train_pred):6f}')\n",
    "print(f'Test AUC-PR score: {pr_auc_score(y_test, y_test_pred):6f}')"
   ]
  },
  {
   "cell_type": "markdown",
   "metadata": {},
   "source": [
    "Не наблюдам большого влияния, причиной служит то, что у нас не настолько большая разница масштабов между признаками. Но в любом случае, этот подход не правильный!"
   ]
  },
  {
   "cell_type": "markdown",
   "metadata": {},
   "source": [
    "А теперь давайте подумаем, что мы не учли. Мы предположили, что признаки вносят вклад равномерно, но не учли их масштаба. Если мы умножим один из признаков в 100 раз, то без учёта регуляризации его вес уменьшится в эти же 100 раз. А мы на основе этого отбираем признаки! Давайте сначала отмасштабируем признаки одним из способов, а только потом будем удалять признаки. \n",
    "\n",
    "Кстати, в таком случае надо пересчитать качество на всех признаках (сделайте это ниже). Если вы сделали нормирование признаков в самом начале, то попробуйте отобрать признаки на неотмасштабированных данных.\n",
    "\n",
    "Что получилось?"
   ]
  },
  {
   "cell_type": "code",
   "execution_count": 80,
   "metadata": {},
   "outputs": [],
   "source": [
    "col_transformer = ColumnTransformer([\n",
    "    ('StandardScaler', StandardScaler(), num_features)],\n",
    "    remainder='passthrough')\n",
    "\n",
    "lr_pipeline = Pipeline([\n",
    "    ('ColumnTransformer', col_transformer),\n",
    "    ('LogisticRegression', LogisticRegression(max_iter=100000))\n",
    "])"
   ]
  },
  {
   "cell_type": "code",
   "execution_count": 81,
   "metadata": {},
   "outputs": [
    {
     "name": "stdout",
     "output_type": "stream",
     "text": [
      "Train AUC-PR score: 0.458609\n",
      "Test AUC-PR score: 0.447419\n"
     ]
    }
   ],
   "source": [
    "lr = lr_pipeline.fit(X_train_hot, y_train)\n",
    "\n",
    "y_train_pred = lr.decision_function(X_train_hot)\n",
    "y_test_pred = lr.decision_function(X_test_hot)\n",
    "\n",
    "print(f'Train AUC-PR score: {pr_auc_score(y_train, y_train_pred):6f}')\n",
    "print(f'Test AUC-PR score: {pr_auc_score(y_test, y_test_pred):6f}')"
   ]
  },
  {
   "cell_type": "markdown",
   "metadata": {},
   "source": [
    "StandardScaler увеличил качество. Поэтому оценить вклад станет сложнее. При этом, отбор топ 40 признаков не оказал большого влияния, что ещё усложняет оценку."
   ]
  },
  {
   "cell_type": "code",
   "execution_count": 82,
   "metadata": {},
   "outputs": [],
   "source": [
    "lr_coef = lr_pipeline.get_params()['steps'][-1][-1].coef_[0]"
   ]
  },
  {
   "cell_type": "code",
   "execution_count": 83,
   "metadata": {},
   "outputs": [],
   "source": [
    "# Выбор признаков с наибольшим вкладом\n",
    "best_number_columnss = np.argsort(-np.abs(lr_coef))[:40]"
   ]
  },
  {
   "cell_type": "code",
   "execution_count": 84,
   "metadata": {},
   "outputs": [],
   "source": [
    "X_train_best = X_train_hot.iloc[:, best_number_columns]\n",
    "X_test_best = X_test_hot.iloc[:, best_number_columns]"
   ]
  },
  {
   "cell_type": "code",
   "execution_count": 85,
   "metadata": {},
   "outputs": [
    {
     "name": "stdout",
     "output_type": "stream",
     "text": [
      "Train AUC-PR score: 0.441740\n",
      "Test AUC-PR score: 0.445259\n"
     ]
    }
   ],
   "source": [
    "lr = LogisticRegression(max_iter=100000).fit(X_train_best, y_train)\n",
    "\n",
    "y_train_pred = lr.decision_function(X_train_best)\n",
    "y_test_pred = lr.decision_function(X_test_best)\n",
    "\n",
    "print(f'Train AUC-PR score: {pr_auc_score(y_train, y_train_pred):6f}')\n",
    "print(f'Test AUC-PR score: {pr_auc_score(y_test, y_test_pred):6f}')"
   ]
  },
  {
   "cell_type": "markdown",
   "metadata": {},
   "source": [
    "Не наблюдаем большого влияния, можно сдлетать выводы о том, что мы отбросили малозначимые признаки. Скорее всего, при должной настройки и подборе гиперпараметров мы бы получили лучший уровень обобщающей способности. Либо использование другой модели могло привести вообще к другому результату. \n",
    "\n",
    "На удивление, мы получили практически аналогичный результат первому отборе топ 40 признаков. Думаю, это связано с масштабами, он не слишком сильно отличается."
   ]
  },
  {
   "cell_type": "markdown",
   "metadata": {},
   "source": [
    "Вопрос на засыпку: one-hot кодирование возвращает нам единичные признаки-индикаторы. Попробуйте также отскалировать их, как и обычные числовые, и снова выбрать 40 главных по вкладу признаков. Изменился ли их список? Изменится ли качество?"
   ]
  },
  {
   "cell_type": "code",
   "execution_count": 86,
   "metadata": {},
   "outputs": [
    {
     "name": "stdout",
     "output_type": "stream",
     "text": [
      "62\n",
      "62\n"
     ]
    }
   ],
   "source": [
    "print(len(ohe.get_feature_names_out()) + len(num_features))\n",
    "print(X_train_hot.shape[1])"
   ]
  },
  {
   "cell_type": "code",
   "execution_count": 87,
   "metadata": {},
   "outputs": [],
   "source": [
    "col_transformer = ColumnTransformer([\n",
    "    ('StandardScaler', StandardScaler(), X_train_hot.columns)],\n",
    "    remainder='passthrough')\n",
    "\n",
    "lr_pipeline = Pipeline([\n",
    "    ('ColumnTransformer', col_transformer),\n",
    "    ('LogisticRegression', LogisticRegression(max_iter=100000))\n",
    "])"
   ]
  },
  {
   "cell_type": "code",
   "execution_count": 88,
   "metadata": {},
   "outputs": [
    {
     "name": "stdout",
     "output_type": "stream",
     "text": [
      "Train AUC-PR score: 0.458689\n",
      "Test AUC-PR score: 0.447260\n"
     ]
    }
   ],
   "source": [
    "lr = lr_pipeline.fit(X_train_hot, y_train)\n",
    "\n",
    "y_train_pred = lr.decision_function(X_train_hot)\n",
    "y_test_pred = lr.decision_function(X_test_hot)\n",
    "\n",
    "print(f'Train AUC-PR score: {pr_auc_score(y_train, y_train_pred):6f}')\n",
    "print(f'Test AUC-PR score: {pr_auc_score(y_test, y_test_pred):6f}')"
   ]
  },
  {
   "cell_type": "markdown",
   "metadata": {},
   "source": [
    "На качество данный трюк не оказывает особо воздейсвия, что логично. Попробуем выплнить отбор топ 40 признаков."
   ]
  },
  {
   "cell_type": "code",
   "execution_count": 89,
   "metadata": {},
   "outputs": [],
   "source": [
    "lr_coef = lr_pipeline.get_params()['steps'][-1][-1].coef_[0]"
   ]
  },
  {
   "cell_type": "code",
   "execution_count": 90,
   "metadata": {},
   "outputs": [],
   "source": [
    "# Выбор признаков с наибольшим вкладом\n",
    "best_number_columnss = np.argsort(-np.abs(lr_coef))[:40]"
   ]
  },
  {
   "cell_type": "code",
   "execution_count": 91,
   "metadata": {},
   "outputs": [],
   "source": [
    "X_train_best = X_train_hot.iloc[:, best_number_columns]\n",
    "X_test_best = X_test_hot.iloc[:, best_number_columns]"
   ]
  },
  {
   "cell_type": "code",
   "execution_count": 92,
   "metadata": {},
   "outputs": [
    {
     "name": "stdout",
     "output_type": "stream",
     "text": [
      "Train AUC-PR score: 0.441740\n",
      "Test AUC-PR score: 0.445259\n"
     ]
    }
   ],
   "source": [
    "lr = LogisticRegression(max_iter=100000).fit(X_train_best, y_train)\n",
    "\n",
    "y_train_pred = lr.decision_function(X_train_best)\n",
    "y_test_pred = lr.decision_function(X_test_best)\n",
    "\n",
    "print(f'Train AUC-PR score: {pr_auc_score(y_train, y_train_pred):6f}')\n",
    "print(f'Test AUC-PR score: {pr_auc_score(y_test, y_test_pred):6f}')"
   ]
  },
  {
   "cell_type": "markdown",
   "metadata": {},
   "source": [
    "Ничего не изменилось, так собственно и должно быть)"
   ]
  },
  {
   "cell_type": "markdown",
   "metadata": {},
   "source": [
    "### Методы фильтрации\n",
    "\n",
    "\n",
    "Давайте отбирать признаки умнее, а именно через подсчёт некоторой функции для каждого признака. На основании значений этой функции будем оставлять наиболее важные признаки. Методы этого семейства называют фильтрующими или  filter methods. \n",
    "\n",
    "В качестве такой функции будем считать t-статистику:\n",
    "\n",
    "$$t(j) = \\frac{|\\mu_+ - \\mu_-|}{\\sqrt{\\frac{n_+ \\sigma^2_+ + n_- \\sigma^2_-}{n_+ + n_-}}},$$\n",
    "\n",
    "где $\\mu$, $\\sigma$, $n$ соответственно среднее, стандартное отклонение и количество объектов каждого из классов.\n",
    "\n",
    "__Задание 9 (0.5 балла).__ Оставьте 40 признаков с наибольшим значением $t$ и замерьте качество. Не забудьте замерить скорость отбора признаков в этом случае.\n",
    "\n"
   ]
  },
  {
   "cell_type": "markdown",
   "metadata": {},
   "source": [
    "**Скалирование признаков** Воспользуемся данным способом, это позволит выполнять отбор признаков. Так как после применения ColumnTransformer возникают сложности с наименованием столбцов."
   ]
  },
  {
   "cell_type": "code",
   "execution_count": 93,
   "metadata": {},
   "outputs": [],
   "source": [
    "# lr.steps[0][1].named_transformers_['OneHotEncoder'].get_feature_names_out()"
   ]
  },
  {
   "cell_type": "code",
   "execution_count": 94,
   "metadata": {},
   "outputs": [
    {
     "name": "stdout",
     "output_type": "stream",
     "text": [
      "Train AUC-PR score: 0.458609\n",
      "Test AUC-PR score: 0.447419\n"
     ]
    }
   ],
   "source": [
    "col_transformer = ColumnTransformer([\n",
    "    ('StandardScaler', StandardScaler(), num_features)],\n",
    "    remainder='passthrough')\n",
    "\n",
    "lr_pipeline = Pipeline([\n",
    "    ('ColumnTransformer', col_transformer),\n",
    "    ('LogisticRegression', LogisticRegression(max_iter=100000, C=1.0))\n",
    "])\n",
    "\n",
    "lr = lr_pipeline.fit(X_train_hot, y_train)\n",
    "\n",
    "y_train_pred = lr.decision_function(X_train_hot)\n",
    "y_test_pred = lr.decision_function(X_test_hot)\n",
    "\n",
    "print(f'Train AUC-PR score: {pr_auc_score(y_train, y_train_pred):6f}')\n",
    "print(f'Test AUC-PR score: {pr_auc_score(y_test, y_test_pred):6f}')"
   ]
  },
  {
   "cell_type": "code",
   "execution_count": 95,
   "metadata": {},
   "outputs": [],
   "source": [
    "def t_stat_count(feature, y):\n",
    "    y_mask = (y > 0)\n",
    "    \n",
    "    n_plus = y_mask.sum()\n",
    "    n_neg = y.shape - n_plus\n",
    "    mu_plus = np.mean(feature[y_mask])\n",
    "    mu_neg = np.mean(feature[~y_mask])\n",
    "    std_plus = np.std(feature[y_mask])\n",
    "    std_neg = np.std(feature[~y_mask])\n",
    "    \n",
    "    return np.abs(mu_plus - mu_neg) / np.sqrt((n_plus * std_plus**2 + n_neg * std_neg**2) / (n_plus + n_neg))"
   ]
  },
  {
   "cell_type": "code",
   "execution_count": 96,
   "metadata": {},
   "outputs": [
    {
     "name": "stdout",
     "output_type": "stream",
     "text": [
      "Wall time: 121 ms\n"
     ]
    }
   ],
   "source": [
    "%%time\n",
    "t_statistic = {}\n",
    "for col_name in X_train_hot.columns:\n",
    "    t_statistic[col_name] = t_stat_count(X_train_hot[col_name], y_train)\n",
    "\n",
    "sorted_keys = sorted(t_statistic, key=t_statistic.get, reverse=True)"
   ]
  },
  {
   "cell_type": "code",
   "execution_count": 97,
   "metadata": {},
   "outputs": [],
   "source": [
    "X_train_best = X_train_hot[sorted_keys[:40]]\n",
    "X_test_best = X_test_hot[sorted_keys[:40]]"
   ]
  },
  {
   "cell_type": "code",
   "execution_count": 98,
   "metadata": {},
   "outputs": [
    {
     "name": "stdout",
     "output_type": "stream",
     "text": [
      "Train AUC-PR score: 0.454199\n",
      "Test AUC-PR score: 0.451194\n"
     ]
    }
   ],
   "source": [
    "col_transformer = ColumnTransformer([\n",
    "    ('StandardScaler', StandardScaler(), num_features)],\n",
    "    remainder='passthrough')\n",
    "\n",
    "lr_pipeline = Pipeline([\n",
    "    ('ColumnTransformer', col_transformer),\n",
    "    ('LogisticRegression', LogisticRegression(max_iter=100000))\n",
    "])\n",
    "\n",
    "lr = lr_pipeline.fit(X_train_best, y_train)\n",
    "\n",
    "y_train_pred = lr.decision_function(X_train_best)\n",
    "y_test_pred = lr.decision_function(X_test_best)\n",
    "\n",
    "print(f'Train AUC-PR score: {pr_auc_score(y_train, y_train_pred):6f}')\n",
    "print(f'Test AUC-PR score: {pr_auc_score(y_test, y_test_pred):6f}')"
   ]
  },
  {
   "cell_type": "markdown",
   "metadata": {},
   "source": [
    "Качество после отбора стало выше по сравнению с прошлыми методами. Делаем выводы о том, что Методы фильтрации способны отбирать более значимые признаки."
   ]
  },
  {
   "cell_type": "markdown",
   "metadata": {},
   "source": [
    "### Методы-обёртки\n",
    "\n",
    "__Задание 10 (1 балл).__ \n",
    "\n",
    "Третий из рассматриваемых нами методов работает следующим образом: мы исключаем по очереди один из признаков и смотрим, как это влияет на качество. Удаляем признаки таким жадным способом, пока не окажется выполненым некоторое условие (количество признаков или ухудшение качества).\n",
    "\n",
    "Заметим, что нельзя оценивать качество по тестовой выборке, иначе мы можем переобучиться, как, например, при настройке гиперпараметров. Разделите обучающую выборку на 2 части, на одной из них обучайте модель без одного из признаков,  на второй части оценивайте качество. Исходную тестовую выборку стоит использовать только для финальной оценки качества.\n",
    "\n",
    "Снова оставьте только 40 признаков и оцените качество на тестовой выборке. Сколько времени занял такой отбор признаков?"
   ]
  },
  {
   "cell_type": "markdown",
   "metadata": {},
   "source": [
    "**Преобразование данных**"
   ]
  },
  {
   "cell_type": "code",
   "execution_count": 99,
   "metadata": {},
   "outputs": [],
   "source": [
    "col_transformer = ColumnTransformer([\n",
    "    ('OneHotEncoder', OneHotEncoder(handle_unknown='ignore', sparse=False), cat_features),\n",
    "    ('StandardScaler', StandardScaler(), num_features)],\n",
    "    remainder='passthrough')\n",
    "\n",
    "X_train_CT = col_transformer.fit_transform(X_train)\n",
    "X_test_CT = col_transformer.transform(X_test)"
   ]
  },
  {
   "cell_type": "markdown",
   "metadata": {},
   "source": [
    "**Получаем колноки после преобразования**"
   ]
  },
  {
   "cell_type": "code",
   "execution_count": 100,
   "metadata": {},
   "outputs": [],
   "source": [
    "columns_onehot = col_transformer.named_transformers_['OneHotEncoder'].get_feature_names_out()\n",
    "columns_scaler = col_transformer.named_transformers_['StandardScaler'].get_feature_names_out()"
   ]
  },
  {
   "cell_type": "code",
   "execution_count": 101,
   "metadata": {},
   "outputs": [],
   "source": [
    "all_columns = np.append(columns_onehot,  columns_scaler)"
   ]
  },
  {
   "cell_type": "markdown",
   "metadata": {},
   "source": [
    "**Приведение данных после преобразования к DataFrame**"
   ]
  },
  {
   "cell_type": "code",
   "execution_count": 102,
   "metadata": {},
   "outputs": [],
   "source": [
    "X_train_CT = pd.DataFrame(X_train_CT, columns=all_columns)\n",
    "X_test_CT = pd.DataFrame(X_test_CT, columns=all_columns)"
   ]
  },
  {
   "cell_type": "markdown",
   "metadata": {},
   "source": [
    "**Подготовка данных к отбору признаков**"
   ]
  },
  {
   "cell_type": "code",
   "execution_count": 103,
   "metadata": {},
   "outputs": [],
   "source": [
    "X_train_wrapper, X_valid, y_train_wrapper, y_valid = train_test_split(X_train_CT, \n",
    "                                                                      y_train, \n",
    "                                                                      test_size=0.5, \n",
    "                                                                      random_state=777, \n",
    "                                                                      stratify=y_train)"
   ]
  },
  {
   "cell_type": "markdown",
   "metadata": {},
   "source": [
    "**Отбор признаков**"
   ]
  },
  {
   "cell_type": "code",
   "execution_count": 104,
   "metadata": {},
   "outputs": [
    {
     "name": "stdout",
     "output_type": "stream",
     "text": [
      "Train AUC-PR score: 0.463541\n",
      "Valid AUC-PR score: 0.445463\n"
     ]
    }
   ],
   "source": [
    "lr = LogisticRegression(max_iter=100000).fit(X_train_wrapper, y_train_wrapper)\n",
    "\n",
    "y_train_pred = lr.decision_function(X_train_wrapper)\n",
    "y_valid_pred = lr.decision_function(X_valid)\n",
    "\n",
    "print(f'Train AUC-PR score: {pr_auc_score(y_train_wrapper, y_train_pred):6f}')\n",
    "print(f'Valid AUC-PR score: {pr_auc_score(y_valid, y_valid_pred):6f}')\n",
    "\n",
    "# Сохраним качетсво без удаления признаков\n",
    "base_valid_score = pr_auc_score(y_valid, y_valid_pred)"
   ]
  },
  {
   "cell_type": "code",
   "execution_count": 105,
   "metadata": {},
   "outputs": [
    {
     "name": "stdout",
     "output_type": "stream",
     "text": [
      "Wall time: 16.5 s\n"
     ]
    }
   ],
   "source": [
    "%%time\n",
    "\n",
    "columns_score = {}\n",
    "\n",
    "for column in all_columns:\n",
    "    # Удаление признака\n",
    "    X_train_fit = X_train_wrapper.drop([column], axis=1)\n",
    "    X_valid_fit = X_valid.drop([column], axis=1)\n",
    "    \n",
    "    # Обучение модели\n",
    "    lr = LogisticRegression(max_iter=100000).fit(X_train_fit, y_train_wrapper)\n",
    "    \n",
    "    # Сохранение результатов\n",
    "    y_valid_pred = lr.decision_function(X_valid_fit)\n",
    "    new_valid_score = pr_auc_score(y_valid, y_valid_pred)\n",
    "    \n",
    "    columns_score[column] = new_valid_score - base_valid_score"
   ]
  },
  {
   "cell_type": "code",
   "execution_count": 106,
   "metadata": {},
   "outputs": [],
   "source": [
    "sorted_columns = sorted(columns_score, key=columns_score.get, reverse=False)"
   ]
  },
  {
   "cell_type": "code",
   "execution_count": 107,
   "metadata": {},
   "outputs": [
    {
     "name": "stdout",
     "output_type": "stream",
     "text": [
      "-0.006682995318618101\n",
      "0.0013402452890699523\n"
     ]
    }
   ],
   "source": [
    "print(columns_score['cons.price.idx'])\n",
    "print(columns_score['previous'])"
   ]
  },
  {
   "cell_type": "markdown",
   "metadata": {},
   "source": [
    "При удалении `cons.price.idx`, качество упало, а при удалении `previous` качество стало выше. Можно ещё было смотреть изменение по модулю и выбирать столбцы с наибольшим влиянием.\n",
    "\n",
    "**Обучим модель без использования отобранных признаков**"
   ]
  },
  {
   "cell_type": "code",
   "execution_count": 108,
   "metadata": {},
   "outputs": [
    {
     "name": "stdout",
     "output_type": "stream",
     "text": [
      "Train AUC-PR score: 0.458623\n",
      "Test AUC-PR score: 0.447272\n"
     ]
    }
   ],
   "source": [
    "lr = LogisticRegression(max_iter=100000).fit(X_train_CT, y_train)\n",
    "\n",
    "y_train_pred = lr.decision_function(X_train_CT)\n",
    "y_test_pred = lr.decision_function(X_test_CT)\n",
    "\n",
    "print(f'Train AUC-PR score: {pr_auc_score(y_train, y_train_pred):6f}')\n",
    "print(f'Test AUC-PR score: {pr_auc_score(y_test, y_test_pred):6f}')"
   ]
  },
  {
   "cell_type": "markdown",
   "metadata": {},
   "source": [
    "**Обучим модель на отобранных признаках**"
   ]
  },
  {
   "cell_type": "code",
   "execution_count": 109,
   "metadata": {},
   "outputs": [
    {
     "name": "stdout",
     "output_type": "stream",
     "text": [
      "Train AUC-PR score: 0.446892\n",
      "Test AUC-PR score: 0.450311\n"
     ]
    }
   ],
   "source": [
    "lr = LogisticRegression(max_iter=100000).fit(X_train_CT[sorted_columns[:40]], y_train)\n",
    "\n",
    "y_train_pred = lr.decision_function(X_train_CT[sorted_columns[:40]])\n",
    "y_test_pred = lr.decision_function(X_test_CT[sorted_columns[:40]])\n",
    "\n",
    "print(f'Train AUC-PR score: {pr_auc_score(y_train, y_train_pred):6f}')\n",
    "print(f'Test AUC-PR score: {pr_auc_score(y_test, y_test_pred):6f}')"
   ]
  },
  {
   "cell_type": "markdown",
   "metadata": {},
   "source": [
    "**Вывод:** Методы фильтрации дают результат немного лучше и требует меньше времени на обучение. Проблема текущего метода-обёртки заключается в том, что он не учитывает взаимодействие признаков."
   ]
  },
  {
   "cell_type": "markdown",
   "metadata": {},
   "source": [
    "Стоит отметить, что с помощью такого метода можно пойти и в обратную сторону. Попробуйте _добавлять_ по одному самому полезному признаку в выборку до тех пор, пока не наберется 40 штук. Найдется ли порог, при котором добавление следующих признаков будет только ухудшать качество модели?"
   ]
  },
  {
   "cell_type": "code",
   "execution_count": 110,
   "metadata": {},
   "outputs": [],
   "source": [
    "# set('one two'.split()) == set('two one'.split())"
   ]
  },
  {
   "cell_type": "code",
   "execution_count": 111,
   "metadata": {},
   "outputs": [],
   "source": [
    "# %%time\n",
    "# def get_score(fit_columns):\n",
    "#     lr = LogisticRegression(max_iter=100000).fit(X_train_wrapper[fit_columns], y_train_wrapper)\n",
    "#     y_valid_pred = lr.decision_function(X_valid[fit_columns])\n",
    "#     return pr_auc_score(y_valid, y_valid_pred)\n",
    "\n",
    "\n",
    "# # Комбинации всех скоров - можем считать это технологией cash\n",
    "# # combination_score = {}\n",
    "\n",
    "# # Лучшие комбинации признаков\n",
    "# best_combination = {}\n",
    "\n",
    "# for column in all_columns:\n",
    "#     fit_columns = [column]\n",
    "#     start_score = get_score(fit_columns)\n",
    "\n",
    "#     other_columns = np.setdiff1d(all_columns, [column])  # Остальные столбцы, которые необходимо обойти\n",
    "\n",
    "#     while len(other_columns):\n",
    "#         columns_score = {}\n",
    "\n",
    "#         for add_column in other_columns:\n",
    "#             score = start_score - get_score(fit_columns + [add_column])\n",
    "#             columns_score[add_column] = score\n",
    "\n",
    "#         sorted_columns = sorted(columns_score, key=columns_score.get, reverse=True)\n",
    "#         if columns_score.get(sorted_columns[0]) < 0:\n",
    "#             break\n",
    "#         fit_columns.append(sorted_columns[0])  # Добавляем столбец с лучшим вкладом\n",
    "#         other_columns = np.setdiff1d(other_columns, [sorted_columns[0]])  # Удаляем столбец из обхода\n",
    "\n",
    "#     best_combination[get_score(fit_columns)] = fit_columns"
   ]
  },
  {
   "cell_type": "markdown",
   "metadata": {},
   "source": [
    "Реализация выше выполняет полный перебор, что достаточно долго. Просто тест)"
   ]
  },
  {
   "cell_type": "markdown",
   "metadata": {},
   "source": [
    "Давайте подведём итоги по отбору признаков. Назовите преимущества и недостатки каждого из методов. Какой метод привёл к наилучшему качеству?\n",
    "\n",
    "**Ответ:** В данной моделе t-статистика была лучшей, и заняла очень мало времени."
   ]
  },
  {
   "cell_type": "markdown",
   "metadata": {},
   "source": [
    "# Часть 3. Оценка экономического эффекта модели\n",
    "\n",
    "В данной части мы займемся тем, что от вас скорее всего потребуется на реальной работе (помимо перекладки `json`, разумеется). А именно: мы соберем несколько специализированных метрик качества, попытаемся настроить модель на максимизацию _прибыли_ и оценим, сколько вообще получится заработать на этом. Разумеется, здесь будет сделано множество упрощающих жизнь допущений, но обо всем по порядку. \n",
    "\n",
    "__Задание 11 (1 балл).__ Допустим, работники вашего колл-центра получают за один звонок клиенту 1 доллар. При согласии клиента на предлагаемые условия он принесет в банк 10 долларов.\n",
    "\n",
    "Если вы всё прослушали на экономике, то напомним, что выручка — это сколько денег нам принесли клиенты, а прибыль — выручка за вычетом расходов на зарплату и прочее.\n",
    "\n",
    "Загрузите данные о телемаркетинге из предыдущего блока заданий. В этой части не нужно делить выборку - мы будем использовать кросс-валидацию. Используйте 5 фолдов, сделайте `shuffle=True, random_state=500`. По кросс-валидации у вас получится 5 вариантов обучающей и тестовой выборки. Обучите логистическую регрессию на каждой обучающей выборке (воспользуйтесь one-hot для категориальных признаков, гиперпараметры оставьте со значениями по умолчанию) и сделайте предсказания для соответствующих тестовых выборок. Допустим, всем положительным прогнозам ваши сотрудники решили позвонить. Посчитайте на всех тестовых выборках выручку и усредните. Сколько денег вы в среднем заработаете? Также вычислите стандартное отклонение.\n",
    "\n",
    "Сколько из заработанных денег придётся отдать операторам вашего колл-центра?"
   ]
  },
  {
   "cell_type": "code",
   "execution_count": 112,
   "metadata": {},
   "outputs": [],
   "source": [
    "df = pd.read_csv('input/04_bank-additional/bank-additional-full.csv', sep=';')\n",
    "\n",
    "X = df.drop(columns=['duration', 'y'])\n",
    "y = (df.y == 'yes')"
   ]
  },
  {
   "cell_type": "code",
   "execution_count": 113,
   "metadata": {},
   "outputs": [],
   "source": [
    "def cross_validated_profit(X, rand_low=10, rand_high=11, C=1.0):\n",
    "    cross_validation = KFold(n_splits=5, shuffle=True, random_state=500)\n",
    "\n",
    "    column_transformer = ColumnTransformer([\n",
    "        ('ohe', OneHotEncoder(handle_unknown='ignore'), cat_features),\n",
    "        ('scaling', StandardScaler(), num_features),\n",
    "    ])\n",
    "    pipeline = Pipeline(steps=[\n",
    "        ('enc_and_scaling', column_transformer),\n",
    "        ('classifier', LogisticRegression(max_iter=100000, C=C))\n",
    "    ])\n",
    "\n",
    "    profits = []\n",
    "    for train_index, test_index in cross_validation.split(X):\n",
    "        X_train, X_test = X.iloc[train_index, :], X.iloc[test_index, :]\n",
    "        y_train, y_test = y.iloc[train_index], y.iloc[test_index]\n",
    "\n",
    "        model = pipeline.fit(X_train, y_train)\n",
    "        result = model.predict(X_test)\n",
    "\n",
    "        dollar_10 = sum(y_test[result]) * np.random.randint(rand_low, rand_high)\n",
    "        dollar_1 = sum(result)\n",
    "\n",
    "        profits.append(dollar_10 - dollar_1)\n",
    "\n",
    "    return np.mean(profits), np.std(profits)"
   ]
  },
  {
   "cell_type": "code",
   "execution_count": 114,
   "metadata": {},
   "outputs": [
    {
     "name": "stdout",
     "output_type": "stream",
     "text": [
      "Mean profit: 1805.8\n",
      "Std profit: 108.67640038205167\n"
     ]
    }
   ],
   "source": [
    "mean, std = cross_validated_profit(X)\n",
    "\n",
    "print('Mean profit:', mean)\n",
    "print('Std profit:', std)"
   ]
  },
  {
   "cell_type": "markdown",
   "metadata": {},
   "source": [
    "Внесем некоторую долю случайности. Пусть теперь согласный на условия клиент будет приносить не 10 долларов, а случайную величину, равномерно распределенную в интервале $[0;20)$. Проделайте все те же самые действия. Для имитации реальной ситуации **НЕ** фиксируйте `random_seed` при подсчете выручки с клиента. Что получилось?"
   ]
  },
  {
   "cell_type": "code",
   "execution_count": 115,
   "metadata": {},
   "outputs": [
    {
     "name": "stdout",
     "output_type": "stream",
     "text": [
      "Mean profit: 939.0\n",
      "Std profit: 1080.0729604985027\n"
     ]
    }
   ],
   "source": [
    "mean, std = cross_validated_profit(X, rand_low=0, rand_high=20)\n",
    "\n",
    "print('Mean profit:', mean)\n",
    "print('Std profit:', std)"
   ]
  },
  {
   "cell_type": "markdown",
   "metadata": {},
   "source": [
    "Настройте по кросс-валидации коэффициент регуляризации модели для максимизации прибыли (считайте как случайную величину выше). Удалось ли получить какой-то выигрыш? При каком коэффициенте регуляризациии прибыль максимальна? Постройте график зависимости ожидаемой прибыли от коэффициента, также укажите стандартные отклонения (вам поможет `plt.errorbar`)."
   ]
  },
  {
   "cell_type": "code",
   "execution_count": 116,
   "metadata": {},
   "outputs": [
    {
     "name": "stdout",
     "output_type": "stream",
     "text": [
      "Maximal profit: 2918.6\n",
      "Best C for profit: 7.78\n",
      "Std on that C: 1116.352023333142\n"
     ]
    }
   ],
   "source": [
    "c_space = np.linspace(0.01, 10, 10)\n",
    "\n",
    "profits = []\n",
    "errors = []\n",
    "for c_value in c_space:\n",
    "    mean, std = cross_validated_profit(X, rand_low=0, rand_high=20, C=c_value)\n",
    "\n",
    "    profits.append(mean)\n",
    "    errors.append(std)\n",
    "\n",
    "best_profit = max(profits)\n",
    "best_c = c_space[profits.index(best_profit)]\n",
    "best_error = errors[profits.index(best_profit)]\n",
    "\n",
    "print('Maximal profit:', best_profit)\n",
    "print('Best C for profit:', best_c)\n",
    "print('Std on that C:', best_error)"
   ]
  },
  {
   "cell_type": "code",
   "execution_count": 117,
   "metadata": {},
   "outputs": [
    {
     "data": {
      "image/png": "[encoded data removed]",
      "text/plain": [
       "<Figure size 1080x504 with 1 Axes>"
      ]
     },
     "metadata": {},
     "output_type": "display_data"
    }
   ],
   "source": [
    "plt.figure(figsize=(15, 7))\n",
    "plt.errorbar(c_space, profits, errors, marker='s', mfc='red', mec='green', ms=8, mew=1)\n",
    "\n",
    "plt.xlabel('Значения параметра C')\n",
    "plt.ylabel('Средняя прибыль')\n",
    "plt.title('Подбор наилучшего C')\n",
    "plt.show()"
   ]
  },
  {
   "cell_type": "markdown",
   "metadata": {},
   "source": [
    "Попробуйте запустить перебор несколько раз. Находится ли каждый раз один и тот же \"лучший\" коэффициент? Присутствует ли какая-то закономерность? Какие вы можете сделать из этого выводы?"
   ]
  },
  {
   "cell_type": "code",
   "execution_count": 118,
   "metadata": {},
   "outputs": [],
   "source": [
    "n = 10\n",
    "\n",
    "best_profits = []\n",
    "best_cs = []\n",
    "for i in range(n):\n",
    "    c_space = np.linspace(0.01, 10, 10)\n",
    "\n",
    "    profits = []\n",
    "    errors = []\n",
    "    for c_value in c_space:\n",
    "        mean, std = cross_validated_profit(X, rand_low=0, rand_high=20, C=c_value)\n",
    "\n",
    "        profits.append(mean)\n",
    "        errors.append(std)\n",
    "\n",
    "    best_profit = max(profits)\n",
    "    best_c = c_space[profits.index(best_profit)]\n",
    "\n",
    "    best_profits.append(best_profit)\n",
    "    best_cs.append(best_c)"
   ]
  },
  {
   "cell_type": "code",
   "execution_count": 119,
   "metadata": {},
   "outputs": [],
   "source": [
    "maxbest_profit = max(best_profits)\n",
    "maxbest_c = best_cs[best_profits.index(maxbest_profit)]"
   ]
  },
  {
   "cell_type": "code",
   "execution_count": 120,
   "metadata": {},
   "outputs": [
    {
     "data": {
      "image/png": "[encoded data removed]",
      "text/plain": [
       "<Figure size 1080x504 with 1 Axes>"
      ]
     },
     "metadata": {},
     "output_type": "display_data"
    }
   ],
   "source": [
    "plt.figure(figsize=(15, 7))\n",
    "x_space = np.arange(10)\n",
    "\n",
    "plt.plot(x_space, best_profits, label='profits')\n",
    "plt.plot(x_space, best_cs, label='c')\n",
    "\n",
    "plt.title('График продвижений по прибыли и значению C')\n",
    "\n",
    "plt.legend()\n",
    "plt.xlabel('Iteration')\n",
    "plt.ylabel('Profit')\n",
    "plt.show()"
   ]
  },
  {
   "cell_type": "markdown",
   "metadata": {},
   "source": [
    "Закономерности нет."
   ]
  },
  {
   "cell_type": "code",
   "execution_count": 121,
   "metadata": {},
   "outputs": [
    {
     "data": {
      "text/plain": [
       "[7.78, 10.0, 1.12, 1.12, 2.23, 3.34, 6.67, 8.89, 3.34, 10.0]"
      ]
     },
     "execution_count": 121,
     "metadata": {},
     "output_type": "execute_result"
    }
   ],
   "source": [
    "best_cs"
   ]
  },
  {
   "cell_type": "markdown",
   "metadata": {},
   "source": [
    "__Задание 12 (1 балл).__ Выше мы уже описали примерную экономическую модель вашей задачи. Как вы считаете, что для вашего бизнеса важнее — хороший precision или recall модели? Почему?\n",
    "\n",
    "__Ответ:__ Мы бы предпочли precision, если бы потери при неправильно предсказанном клиенте (true-negative) были высокие. Но нет, в таком случае мы просто отдадим  работнику и потери будут незначительные. Но при этом нам не хочется пропускать людей, готовых взять кредит (false-positive), поэтому предпочтительнее использовать recall."
   ]
  },
  {
   "cell_type": "markdown",
   "metadata": {},
   "source": [
    "Вспомним, что на самом деле логистическая регрессия предсказывает нам вероятности положительного класса для объекта. Возможно, путем настройки порога бинаризации этих вероятностей мы сможем получить какой-то выигрыш? Проверьте ваши рассуждения выше с помощью настройки порога бинаризации на кросс-валидации для максимизации прибыли. Воспользуйтесь сеткой от 0 до 1 с шагом 0.01. Напомним, что снижение порога дает нам более высокий recall и более низкий precision, и наоборот."
   ]
  },
  {
   "cell_type": "code",
   "execution_count": 123,
   "metadata": {},
   "outputs": [],
   "source": [
    "from sklearn.metrics import precision_score, recall_score"
   ]
  },
  {
   "cell_type": "code",
   "execution_count": 124,
   "metadata": {},
   "outputs": [],
   "source": [
    "cross_validation = KFold(n_splits=5, shuffle=True, random_state=500)\n",
    "\n",
    "column_transformer = ColumnTransformer([\n",
    "    ('ohe', OneHotEncoder(handle_unknown='ignore'), cat_features),\n",
    "    ('scaling', StandardScaler(), num_features),\n",
    "])\n",
    "pipeline = Pipeline(steps=[\n",
    "    ('enc_and_scaling', column_transformer),\n",
    "    ('classifier', LogisticRegression(max_iter=100000, C=maxbest_c))\n",
    "])\n",
    "\n",
    "folds_profits, folds_recalls, folds_precision = {}, {}, {}\n",
    "\n",
    "for train_index, test_index in cross_validation.split(X):\n",
    "    X_train, X_test = X.iloc[train_index, :], X.iloc[test_index, :]\n",
    "    y_train, y_test = y.iloc[train_index], y.iloc[test_index]\n",
    "\n",
    "    model = pipeline.fit(X_train, y_train)\n",
    "\n",
    "    for threshold in np.arange(0, 1.01, 0.01):\n",
    "        result = model.predict_proba(X_test)[:, 1] > threshold\n",
    "\n",
    "        dollar_10 = sum(y_test[result]) * np.random.randint(0, 20)\n",
    "        dollar_1 = sum(result)\n",
    "\n",
    "        folds_profits[threshold] = folds_profits.get(threshold, []) + [dollar_10 - dollar_1]\n",
    "        folds_recalls[threshold] = folds_recalls.get(threshold, []) + [recall_score(y_test, result, zero_division=0)]\n",
    "        folds_precision[threshold] = folds_precision.get(threshold, []) + [precision_score(y_test, result, zero_division=1)]\n",
    "            \n",
    "mean_profit, mean_recall, mean_precision = {}, {}, {}  \n",
    "\n",
    "for threshold in folds_profits:\n",
    "    mean_profit[threshold] = np.mean(folds_profits[threshold])\n",
    "    mean_recall[threshold] = np.mean(folds_recalls[threshold])\n",
    "    mean_precision[threshold] = np.mean(folds_precision[threshold])"
   ]
  },
  {
   "cell_type": "code",
   "execution_count": 125,
   "metadata": {},
   "outputs": [
    {
     "data": {
      "text/plain": [
       "0.07"
      ]
     },
     "execution_count": 125,
     "metadata": {},
     "output_type": "execute_result"
    }
   ],
   "source": [
    "best_threshold = sorted(mean_profit.items(), key=lambda x: x[1])[-1][0]\n",
    "\n",
    "best_threshold"
   ]
  },
  {
   "cell_type": "markdown",
   "metadata": {},
   "source": [
    "Постройте график зависимости прибыли от порога бинаризации, также отметьте на нем стандартные отклонения. Выделите наилучший порог. \n",
    "\n",
    "\n",
    "__Вопрос:__ Замечаете ли вы какую-то закономерность? Для правильного ответа на этот вопрос попробуйте запустить несколько раз и задумайтесь, почему порог получается в какой-то конкретной области?"
   ]
  },
  {
   "cell_type": "code",
   "execution_count": 126,
   "metadata": {},
   "outputs": [
    {
     "data": {
      "image/png": "[encoded data removed]",
      "text/plain": [
       "<Figure size 1440x720 with 1 Axes>"
      ]
     },
     "metadata": {},
     "output_type": "display_data"
    }
   ],
   "source": [
    "plt.figure(figsize=(20, 10))\n",
    "errors_per_fold = [np.std(value) for key, value in folds_profits.items()]\n",
    "\n",
    "plt.errorbar(mean_profit.keys(), mean_profit.values(), errors_per_fold, mfc='red', mec='green', ms=20, mew=4)\n",
    "\n",
    "plt.xlabel('Порог')\n",
    "plt.ylabel('Средняя прибыль')\n",
    "plt.title('Подбор наилучшего порога')\n",
    "plt.show()"
   ]
  },
  {
   "cell_type": "markdown",
   "metadata": {},
   "source": [
    "Каковы значения precision и recall на выбранном пороге? Оцените по кросс-валидации. Также вычислите стандартное отклонение."
   ]
  },
  {
   "cell_type": "code",
   "execution_count": 127,
   "metadata": {},
   "outputs": [
    {
     "name": "stdout",
     "output_type": "stream",
     "text": [
      "Precision: 0.2307788420097292\n",
      "Recall: 0.7422621382842355\n",
      "Precision std: 0.0087212582421047\n",
      "Recall std: 0.011929900700379801\n"
     ]
    }
   ],
   "source": [
    "precisions = []\n",
    "recalls = []\n",
    "for train_index, test_index in cross_validation.split(X):\n",
    "    X_train, X_test = X.iloc[train_index, :], X.iloc[test_index, :]\n",
    "    y_train, y_test = y.iloc[train_index], y.iloc[test_index]\n",
    "\n",
    "    model = pipeline.fit(X_train, y_train)\n",
    "\n",
    "    result = model.predict_proba(X_test)[:, 1] > best_threshold\n",
    "\n",
    "    precisions.append(precision_score(y_test, result, zero_division=1))\n",
    "    recalls.append(recall_score(y_test, result, zero_division=0))\n",
    "\n",
    "print('Precision:', np.mean(precisions))\n",
    "print('Recall:', np.mean(recalls))\n",
    "print('Precision std:', np.std(precisions))\n",
    "print('Recall std:', np.std(recalls))"
   ]
  },
  {
   "cell_type": "markdown",
   "metadata": {},
   "source": [
    "Как вы, вероятно, уже поняли, ваша модель склоняется к более высокому recall. Попробуйте оценить качество модели с помощью `PR-AUC` в зоне recall $\\geq$ 0.5. Сделайте это следующим образом - выберите только те пороги, на которых достигается необходимый recall, затем интерпретируйте отсеченный в единичном квадрате прямоугольник как новый единичный квадрат и посчитайте площадь под отсеченной кривой. "
   ]
  },
  {
   "cell_type": "markdown",
   "metadata": {},
   "source": [
    "Сомнительно! Скорее всего не правильно"
   ]
  },
  {
   "cell_type": "code",
   "execution_count": 128,
   "metadata": {},
   "outputs": [],
   "source": [
    "# Получим пороги, которые подходят под условие\n",
    "good_thresholds_recall = {thr:recall for thr, recall in mean_recall.items() if recall >= 0.5}\n",
    "# Получим все значения точности по выбранным порогам\n",
    "good_thresholds_precision = {thr:precision for thr,precision in mean_precision.items() if thr in good_thresholds_recall.keys()}"
   ]
  },
  {
   "cell_type": "code",
   "execution_count": 129,
   "metadata": {},
   "outputs": [
    {
     "data": {
      "image/png": "[encoded data removed]",
      "text/plain": [
       "<Figure size 1440x720 with 1 Axes>"
      ]
     },
     "metadata": {},
     "output_type": "display_data"
    }
   ],
   "source": [
    "plt.figure(figsize=(20, 10))\n",
    "plt.plot(good_thresholds_recall.values(), good_thresholds_precision.values())\n",
    "\n",
    "plt.title('PR кривая')\n",
    "plt.xlabel(\"Recall\")\n",
    "plt.ylabel('Precision')\n",
    "plt.grid()"
   ]
  },
  {
   "cell_type": "code",
   "execution_count": 130,
   "metadata": {},
   "outputs": [],
   "source": [
    "test = list(map(lambda x: x + 0.5, good_thresholds_precision.values()))"
   ]
  },
  {
   "cell_type": "code",
   "execution_count": 131,
   "metadata": {},
   "outputs": [
    {
     "name": "stdout",
     "output_type": "stream",
     "text": [
      "Площадь под кривой в зоне recall >= 0.5 равна: 0.12297926751539978\n"
     ]
    }
   ],
   "source": [
    "print('Площадь под кривой в зоне recall >= 0.5 равна:', auc(list(good_thresholds_recall.values()), list(good_thresholds_precision.values())))"
   ]
  }
 ],
 "metadata": {
  "kernelspec": {
   "display_name": "Python 3 (ipykernel)",
   "language": "python",
   "name": "python3"
  },
  "language_info": {
   "codemirror_mode": {
    "name": "ipython",
    "version": 3
   },
   "file_extension": ".py",
   "mimetype": "text/x-python",
   "name": "python",
   "nbconvert_exporter": "python",
   "pygments_lexer": "ipython3",
   "version": "3.9.7"
  },
  "varInspector": {
   "cols": {
    "lenName": 16,
    "lenType": 16,
    "lenVar": 40
   },
   "kernels_config": {
    "python": {
     "delete_cmd_postfix": "",
     "delete_cmd_prefix": "del ",
     "library": "var_list.py",
     "varRefreshCmd": "print(var_dic_list())"
    },
    "r": {
     "delete_cmd_postfix": ") ",
     "delete_cmd_prefix": "rm(",
     "library": "var_list.r",
     "varRefreshCmd": "cat(var_dic_list()) "
    }
   },
   "types_to_exclude": [
    "module",
    "function",
    "builtin_function_or_method",
    "instance",
    "_Feature"
   ],
   "window_display": false
  }
 },
 "nbformat": 4,
 "nbformat_minor": 4
}
