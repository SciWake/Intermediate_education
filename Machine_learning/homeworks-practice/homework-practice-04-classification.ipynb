{
 "cells": [
  {
   "cell_type": "markdown",
   "metadata": {},
   "source": [
    "# Машинное обучение, ФКН ВШЭ\n",
    "\n",
    "## Практическое задание 4. Классификация. \n",
    "\n",
    "### Общая информация\n",
    "Дата выдачи: 29.10.2021\n",
    "\n",
    "Мягкий дедлайн: 23:59MSK 10.11.2021 (за каждый день просрочки снимается 1 балл)\n",
    "\n",
    "Жесткий дедлайн: 23:59MSK 13.11.2021"
   ]
  },
  {
   "cell_type": "markdown",
   "metadata": {},
   "source": [
    "### О задании\n",
    "\n",
    "В этом задании вы:\n",
    "- ознакомитесь с тем, что происходит \"внутри\" метода опорных векторов и логистической регрессии\n",
    "- познакомитесь с калибровкой вероятности\n",
    "- изучите методы трансформации переменных и методы отбора признаков\n",
    "- попробуете оценить экономический эффект модели\n",
    "\n",
    "\n",
    "### Оценивание и штрафы\n",
    "Каждая из задач имеет определенную «стоимость» (указана в скобках около задачи). Максимально допустимая оценка за работу — 10 баллов.\n",
    "\n",
    "Сдавать задание после указанного срока сдачи нельзя. При выставлении неполного балла за задание в связи с наличием ошибок на усмотрение проверяющего предусмотрена возможность исправить работу на указанных в ответном письме условиях.\n",
    "\n",
    "Задание выполняется самостоятельно. «Похожие» решения считаются плагиатом и все задействованные студенты (в том числе те, у кого списали) не могут получить за него больше 0 баллов (подробнее о плагиате см. на странице курса). Если вы нашли решение какого-то из заданий (или его часть) в открытом источнике, необходимо указать ссылку на этот источник в отдельном блоке в конце вашей работы (скорее всего вы будете не единственным, кто это нашел, поэтому чтобы исключить подозрение в плагиате, необходима ссылка на источник).\n",
    "\n",
    "Неэффективная реализация кода может негативно отразиться на оценке.\n",
    "\n",
    "\n",
    "### Формат сдачи\n",
    "Для сдачи задания переименуйте получившийся файл *.ipynb в соответствии со следующим форматом: homework-practice-04-classification-Username.ipynb, где Username — ваша фамилия и имя на латинице именно в таком порядке (например, homework-practice-04-classification-IvanovIvan.ipynb).\n",
    "\n",
    "Для удобства проверки самостоятельно посчитайте свою максимальную оценку (исходя из набора решенных задач) и укажите ниже.\n",
    "\n",
    "**Оценка**: "
   ]
  },
  {
   "cell_type": "code",
   "execution_count": 174,
   "metadata": {},
   "outputs": [],
   "source": [
    "import numpy as np\n",
    "import pandas as pd\n",
    "import matplotlib.pyplot as plt\n",
    "import seaborn as sns\n",
    "%matplotlib inline\n",
    "\n",
    "sns.set_style('whitegrid')\n",
    "plt.rcParams.update({'font.size': 14})\n",
    "\n",
    "pd.set_option('display.max_rows', 100)\n",
    "pd.set_option('display.max_columns', 100)"
   ]
  },
  {
   "cell_type": "markdown",
   "metadata": {},
   "source": [
    "# Часть 0. SVM, LR и калибровка вероятностей. "
   ]
  },
  {
   "cell_type": "markdown",
   "metadata": {},
   "source": [
    "Сгенерируем синтетические данные."
   ]
  },
  {
   "cell_type": "code",
   "execution_count": 227,
   "metadata": {},
   "outputs": [],
   "source": [
    "from sklearn.datasets import make_classification\n",
    "from sklearn.model_selection import train_test_split\n",
    "\n",
    "X, y = make_classification(\n",
    "    n_samples=10000, n_features=10, n_informative=5, n_redundant=5,\n",
    "    random_state=42)\n",
    "\n",
    "X_train, X_test, y_train, y_test = train_test_split(\n",
    "    X, y, test_size=0.3, random_state=42)"
   ]
  },
  {
   "cell_type": "markdown",
   "metadata": {},
   "source": [
    "__Задание 1.__ Обучение и применение метода опорных векторов и логистической регрессии.\n",
    "\n",
    "__(1 балл)__\n",
    "\n",
    "Обучите метод опорных векторов. На занятиях мы проходили линейный вариант без ядрового перехода, что соответствует линейному ядру (`LinearSVC` или же `SVC(kernel='linear')` в `sklearn.svm`). Подберите параметр регуляризации `C` (можете воспользоваться кросс-валидацией или отделить валидационную выборку от обучающей). __Здесь и далее, если не сказано иначе, подбирайте оптимальные гиперпараметры с точки зрения AUC-PR.__"
   ]
  },
  {
   "cell_type": "code",
   "execution_count": 405,
   "metadata": {},
   "outputs": [],
   "source": [
    "from sklearn.preprocessing import StandardScaler\n",
    "from sklearn.svm import LinearSVC\n",
    "from sklearn.model_selection import cross_val_score, KFold\n",
    "from sklearn.metrics import precision_recall_curve, auc, roc_curve, roc_auc_score\n",
    "from sklearn.metrics import make_scorer"
   ]
  },
  {
   "cell_type": "code",
   "execution_count": 230,
   "metadata": {},
   "outputs": [],
   "source": [
    "scaler = StandardScaler().fit(X_train, y_train)\n",
    "X_train = scaler.transform(X_train)\n",
    "X_test = scaler.transform(X_test)"
   ]
  },
  {
   "cell_type": "code",
   "execution_count": 406,
   "metadata": {},
   "outputs": [],
   "source": [
    "def pr_auc_score(y_true, y_pred):\n",
    "    precision, recall, thr = precision_recall_curve(y_true, y_pred)\n",
    "    return auc(recall, precision)\n",
    "\n",
    "# Создадим скор функции, чтобы использовать ее в подборе параметра\n",
    "pr_auc_scorer = make_scorer(pr_auc_score, greater_is_better=True)"
   ]
  },
  {
   "cell_type": "code",
   "execution_count": 231,
   "metadata": {},
   "outputs": [
    {
     "name": "stdout",
     "output_type": "stream",
     "text": [
      "0) C=0.000001,        AUC-PR=0.807107\n",
      "1) C=0.000005,        AUC-PR=0.808695\n",
      "2) C=0.000022,        AUC-PR=0.816538\n",
      "3) C=0.000100,        AUC-PR=0.827679\n",
      "4) C=0.000464,        AUC-PR=0.831716\n",
      "5) C=0.002154,        AUC-PR=0.832197\n",
      "6) C=0.010000,        AUC-PR=0.832838\n",
      "7) C=0.046416,        AUC-PR=0.832619\n",
      "8) C=0.215443,        AUC-PR=0.832626\n",
      "9) C=1.000000,        AUC-PR=0.832626\n"
     ]
    }
   ],
   "source": [
    "for i, c_ in enumerate(np.logspace(-6, 0, 10)):\n",
    "    svc = LinearSVC(max_iter=100000, C=c_) #.fit(X_train, y_train)\n",
    "    \n",
    "    result = np.mean(cross_val_score(svc,\n",
    "                                     X=X_train,\n",
    "                                     y=y_train,\n",
    "                                     cv=KFold(n_splits=5),\n",
    "                                     scoring=pr_auc_scorer))\n",
    "    \n",
    "    print(f'{i}) C={c_:6f},        AUC-PR={result:6f}')"
   ]
  },
  {
   "cell_type": "markdown",
   "metadata": {},
   "source": [
    "На тестовой части постройте ROC и PR кривые, а также посчитайте AUC-ROC, AUC-PR с точностью до 5 знаков. Сравните AUC-ROC и AUC-PR для вашей модели с этими же метриками для случайного классификатора (который на каждом объекте выдаёт один из двух классов с равными вероятностями)."
   ]
  },
  {
   "cell_type": "code",
   "execution_count": 232,
   "metadata": {},
   "outputs": [],
   "source": [
    "svc = LinearSVC(max_iter=100000, C=0.215443).fit(X_train, y_train)\n",
    "\n",
    "y_test_pred_svc = svc.decision_function(X_test)"
   ]
  },
  {
   "cell_type": "markdown",
   "metadata": {},
   "source": [
    "#### Визуализация графиков"
   ]
  },
  {
   "cell_type": "code",
   "execution_count": 240,
   "metadata": {},
   "outputs": [
    {
     "data": {
      "image/png": "[encoded data removed]",
      "text/plain": [
       "<Figure size 720x504 with 1 Axes>"
      ]
     },
     "metadata": {},
     "output_type": "display_data"
    }
   ],
   "source": [
    "precision, recall, thr = precision_recall_curve(y_test, y_test_pred_svc)\n",
    "\n",
    "plt.figure(figsize=(10, 7))\n",
    "plt.plot(recall, precision, label=f'{pr_auc_score(y_test, y_test_pred_svc):.5f}')\n",
    "\n",
    "# plt.ylim(0, 1)\n",
    "\n",
    "plt.title('Precision-Recall Curce')\n",
    "plt.ylabel('Precision')\n",
    "plt.xlabel('Recall')\n",
    "plt.legend(title='AUC-ROC')\n",
    "\n",
    "plt.show()"
   ]
  },
  {
   "cell_type": "code",
   "execution_count": 244,
   "metadata": {},
   "outputs": [
    {
     "data": {
      "image/png": "[encoded data removed]",
      "text/plain": [
       "<Figure size 720x504 with 1 Axes>"
      ]
     },
     "metadata": {},
     "output_type": "display_data"
    }
   ],
   "source": [
    "fpr, tpr, thr_roc = roc_curve(y_test, y_test_pred_svc)\n",
    "\n",
    "plt.figure(figsize=(10, 7))\n",
    "plt.plot(fpr, tpr, label=f'{roc_auc_score(y_test, y_test_pred_svc):.5f}')\n",
    "plt.plot([0, 1], label='BaseLine', ls='--', c='g')\n",
    "\n",
    "plt.title('Receiver Operating Characteristic')\n",
    "plt.ylabel('TPR')\n",
    "plt.xlabel('FPR')\n",
    "plt.legend(title='AUC-ROC')\n",
    "\n",
    "plt.show()"
   ]
  },
  {
   "cell_type": "markdown",
   "metadata": {},
   "source": [
    "А теперь проделайте все то же самое для логистической регрессии (LR) — обучение, подбор параметра регуляризации (используйте L2-регуляризацию), вычисление всех метрик и построение кривых. Сравните результаты LR и SVM с точки зрения всех вычисленных критериев качества, объясните различия (если они есть)."
   ]
  },
  {
   "cell_type": "code",
   "execution_count": 235,
   "metadata": {},
   "outputs": [],
   "source": [
    "from sklearn.linear_model import LogisticRegression"
   ]
  },
  {
   "cell_type": "code",
   "execution_count": 236,
   "metadata": {},
   "outputs": [
    {
     "name": "stdout",
     "output_type": "stream",
     "text": [
      "0) C=0.000001,        AUC-PR=0.748048\n",
      "1) C=0.000005,        AUC-PR=0.767183\n",
      "2) C=0.000022,        AUC-PR=0.807377\n",
      "3) C=0.000100,        AUC-PR=0.816872\n",
      "4) C=0.000464,        AUC-PR=0.827216\n",
      "5) C=0.002154,        AUC-PR=0.831298\n",
      "6) C=0.010000,        AUC-PR=0.833259\n",
      "7) C=0.046416,        AUC-PR=0.833989\n",
      "8) C=0.215443,        AUC-PR=0.834107\n",
      "9) C=1.000000,        AUC-PR=0.834107\n"
     ]
    }
   ],
   "source": [
    "for i, c_ in enumerate(np.logspace(-6, 0, 10)):\n",
    "    log_lr = LogisticRegression(max_iter=100000, C=c_) #.fit(X_train, y_train)\n",
    "    \n",
    "    result = np.mean(cross_val_score(log_lr,\n",
    "                                     X=X_train,\n",
    "                                     y=y_train,\n",
    "                                     cv=KFold(n_splits=5),\n",
    "                                     scoring=pr_auc_scorer))\n",
    "    \n",
    "    print(f'{i}) C={c_:6f},        AUC-PR={result:6f}')"
   ]
  },
  {
   "cell_type": "code",
   "execution_count": 237,
   "metadata": {},
   "outputs": [],
   "source": [
    "log_lr = LogisticRegression(max_iter=100000, C=0.215443).fit(X_train, y_train)\n",
    "\n",
    "y_test_pred_log_lr = log_lr.decision_function(X_test)"
   ]
  },
  {
   "cell_type": "markdown",
   "metadata": {},
   "source": [
    "#### Визуализация графиков"
   ]
  },
  {
   "cell_type": "code",
   "execution_count": 245,
   "metadata": {},
   "outputs": [
    {
     "data": {
      "image/png": "[encoded data removed]",
      "text/plain": [
       "<Figure size 1080x504 with 2 Axes>"
      ]
     },
     "metadata": {},
     "output_type": "display_data"
    }
   ],
   "source": [
    "fig, axs = plt.subplots(1, 2, figsize=(15, 7))\n",
    "\n",
    "# PR curve\n",
    "precision, recall, thr = precision_recall_curve(y_test, y_test_pred_svc)\n",
    "axs[0].plot(recall, precision, label=f'SVC {pr_auc_score(y_test, y_test_pred_svc):.5f}')\n",
    "\n",
    "precision, recall, thr = precision_recall_curve(y_test, y_test_pred_log_lr)\n",
    "axs[0].plot(recall, precision, label=f'log {pr_auc_score(y_test, y_test_pred_svc):.5f}')\n",
    "\n",
    "axs[0].set_xlabel('Recall')\n",
    "axs[0].set_ylabel('Presision')\n",
    "axs[0].set_title('PR curve')\n",
    "axs[0].legend(title='AUC-PR')\n",
    "\n",
    "\n",
    "# ROC curve\n",
    "fpr, tpr, thr_roc = roc_curve(y_test, y_test_pred_svc)\n",
    "axs[1].plot(fpr, tpr, label=f'SVC {roc_auc_score(y_test, y_test_pred_svc):.5f}')\n",
    "\n",
    "fpr, tpr, thr_roc = roc_curve(y_test, y_test_pred_log_lr)\n",
    "axs[1].plot(fpr, tpr, label=f'log {roc_auc_score(y_test, y_test_pred_svc):.5f}')\n",
    "\n",
    "axs[1].plot([0, 1], label='BaseLine', ls='--', c='g')\n",
    "\n",
    "axs[1].set_xlabel('FPR')\n",
    "axs[1].set_ylabel('TPR')\n",
    "axs[1].set_title('ROC curve')\n",
    "axs[1].legend(title='AUC-ROC')\n",
    "\n",
    "plt.show()"
   ]
  },
  {
   "cell_type": "markdown",
   "metadata": {},
   "source": [
    "Различий нет."
   ]
  },
  {
   "cell_type": "markdown",
   "metadata": {},
   "source": [
    "В названии метода опорных векторов присутствуют некоторые \"опорные векторы\". Сгенерируйте синтетические данные с помощью `make_classification` с 2 признаками, обучите на нём метод опорных векторов. Визуализируйте разделяющую прямую, все объекты и выделите опорные векторы (атрибут `support_vectors_`). В этот раз, если необходимо, вместо `LinearSVC` воспользуйтесь `SVC(kernel='linear')`, так как только в нём есть информация об опорных векторах."
   ]
  },
  {
   "cell_type": "code",
   "execution_count": 239,
   "metadata": {},
   "outputs": [],
   "source": [
    "from sklearn.svm import SVC"
   ]
  },
  {
   "cell_type": "code",
   "execution_count": 394,
   "metadata": {},
   "outputs": [],
   "source": [
    "X, y = make_classification(\n",
    "    n_samples=200, n_features=2, n_redundant=0, n_clusters_per_class=2,\n",
    "    class_sep=3, random_state=42)"
   ]
  },
  {
   "cell_type": "code",
   "execution_count": 395,
   "metadata": {},
   "outputs": [
    {
     "data": {
      "image/png": "[encoded data removed]",
      "text/plain": [
       "<Figure size 432x288 with 1 Axes>"
      ]
     },
     "metadata": {},
     "output_type": "display_data"
    }
   ],
   "source": [
    "clf = SVC(kernel=\"linear\", C=1000)\n",
    "clf.fit(X, y)\n",
    "\n",
    "plt.scatter(X[:, 0], X[:, 1], c=y, s=30, cmap=plt.cm.Paired)\n",
    "\n",
    "ax = plt.gca()\n",
    "xlim = ax.get_xlim()\n",
    "ylim = ax.get_ylim()\n",
    "\n",
    "xx = np.linspace(xlim[0], xlim[1], 30)\n",
    "yy = np.linspace(ylim[0], ylim[1], 30)\n",
    "YY, XX = np.meshgrid(yy, xx)\n",
    "xy = np.vstack([XX.ravel(), YY.ravel()]).T\n",
    "Z = clf.decision_function(xy).reshape(XX.shape)\n",
    "\n",
    "ax.contour(\n",
    "    XX, YY, Z, colors=\"k\", levels=[-1, 0, 1], alpha=0.5, linestyles=[\"--\", \"-\", \"--\"]\n",
    ")\n",
    "ax.scatter(\n",
    "    clf.support_vectors_[:, 0],\n",
    "    clf.support_vectors_[:, 1],\n",
    "    s=100,\n",
    "    linewidth=1,\n",
    "    facecolors=\"none\",\n",
    "    edgecolors=\"k\",\n",
    ")\n",
    "plt.title('Разделяющая прямая с опорными векторами')\n",
    "plt.show()"
   ]
  },
  {
   "cell_type": "markdown",
   "metadata": {},
   "source": [
    "В отличие от метода опорных векторов, логистическая регрессия не пытается построить разделяющую гиперплоскость с максимальным отступом, а приближает в каждой точке пространства объектов вероятность положительных ответов $p(y=+1|x)$. Попробуйте нарисовать это распределение на плоскости, не забудьте отметить на ней все объекты. Вам может помочь функция `plt.pcolor`."
   ]
  },
  {
   "cell_type": "markdown",
   "metadata": {},
   "source": [
    "https://thedatafrog.com/en/articles/logistic-regression-neural-network/\n",
    "\n",
    "https://scikit-learn.org/stable/auto_examples/linear_model/plot_iris_logistic.html#sphx-glr-auto-examples-linear-model-plot-iris-logistic-py"
   ]
  },
  {
   "cell_type": "code",
   "execution_count": 400,
   "metadata": {},
   "outputs": [
    {
     "name": "stderr",
     "output_type": "stream",
     "text": [
      "C:\\Users\\bimas\\AppData\\Local\\Temp/ipykernel_21656/2005040878.py:11: MatplotlibDeprecationWarning: shading='flat' when X and Y have the same dimensions as C is deprecated since 3.3.  Either specify the corners of the quadrilaterals with X and Y, or pass shading='auto', 'nearest' or 'gouraud', or set rcParams['pcolor.shading'].  This will become an error two minor releases later.\n",
      "  plt.pcolormesh(xx, yy, Z, cmap=plt.cm.Paired)\n"
     ]
    },
    {
     "data": {
      "image/png": "[encoded data removed]",
      "text/plain": [
       "<Figure size 432x288 with 1 Axes>"
      ]
     },
     "metadata": {},
     "output_type": "display_data"
    }
   ],
   "source": [
    "lr = LogisticRegression(max_iter=100000, C=1000)\n",
    "lr.fit(X, y)\n",
    "\n",
    "x_min, x_max = X[:, 0].min() - 0.5, X[:, 0].max() + 0.5\n",
    "y_min, y_max = X[:, 1].min() - 0.5, X[:, 1].max() + 0.5\n",
    "h = 0.02\n",
    "xx, yy = np.meshgrid(np.arange(x_min, x_max, h), np.arange(y_min, y_max, h))\n",
    "Z = lr.predict(np.c_[xx.ravel(), yy.ravel()])\n",
    "\n",
    "Z = Z.reshape(xx.shape)\n",
    "plt.pcolormesh(xx, yy, Z, cmap=plt.cm.Paired)\n",
    "\n",
    "plt.scatter(X[:, 0], X[:, 1], c=y, edgecolors=\"k\", cmap=plt.cm.Paired)\n",
    "plt.xlabel(\"Sepal length\")\n",
    "plt.ylabel(\"Sepal width\")\n",
    "\n",
    "plt.xlim(xx.min(), xx.max())\n",
    "plt.ylim(yy.min(), yy.max())\n",
    "plt.xticks(())\n",
    "plt.yticks(())\n",
    "\n",
    "plt.show()"
   ]
  },
  {
   "cell_type": "markdown",
   "metadata": {},
   "source": [
    "__Задание 2.__ Калибровка вероятностей.\n",
    "\n",
    "__(1 балл)__\n",
    "\n",
    "Перейдём к оценке качества выдаваемых алгоритмами вероятностей. Начнём с калибровочных кривых. \n",
    "\n",
    "Допустим, алгоритм возвращает некоторые числа от нуля до единицы. Хорошо ли они оценивают вероятность? Для этого разобьем отрезок $[0, 1]$ на несколько маленьких отрезков одинаковой длины. Рассмотрим $i$-й отрезок с границами $[a_i, b_i]$ и предсказания $p_1, p_2, \\dots, p_k$, которые попали в него. Пусть им соответствуют истинные ответы $y_1, y_2, \\dots, y_k$. Если алгоритм выдает корректные вероятности, то среди этих истинных ответов должно быть примерно $(a_i + b_i) / 2$ единиц. Иными словами, если нарисовать кривую, у которой по оси X отложены центры отрезков, а по оси Y — доли единичных ответов этих в отрезках, то она должна оказаться диагональной. Ниже приведена функция, которая должна рисовать такие кривые. В ней допущено две ошибки — найдите и исправьте их."
   ]
  },
  {
   "cell_type": "code",
   "execution_count": 479,
   "metadata": {},
   "outputs": [],
   "source": [
    "def plot_calibration_curve(y_test, preds):\n",
    "    bin_middle_points = []\n",
    "    bin_real_ratios = []\n",
    "    n_bins = 10\n",
    "    for i in range(n_bins):\n",
    "        l = 1.0 / n_bins * i\n",
    "        r = 1.0 / n_bins * (i + 1)\n",
    "        bin_middle_points.append((l + r) / 2) \n",
    "        bin_real_ratios.append(np.mean(y_test[(preds >= l) & (preds < r)] == 1)) \n",
    "    \n",
    "    plt.figure(figsize=(6,6))\n",
    "    plt.plot([0, 1], [0, 1], label='Perfect', linestyle='--', color='green')\n",
    "    plt.plot(bin_middle_points, bin_real_ratios)\n",
    "    plt.ylim([-0.05, 1.05])\n",
    "    plt.legend()\n",
    "    plt.grid()"
   ]
  },
  {
   "cell_type": "markdown",
   "metadata": {},
   "source": [
    "Сгенерируйте синтетические данные аналогично использованным в самом первом задании. Постройте калибровочные кривые на тестовой части для логистической регрессии и метода опорных векторов (не забудьте перевести его предсказания в $[0;1]$). Изучите распределение ответов классификаторов (постройте гистограммы с помощью `plt.hist`). Чем они различаются? Чем вы можете объяснить это?"
   ]
  },
  {
   "cell_type": "markdown",
   "metadata": {},
   "source": [
    "#### Подготовка данных"
   ]
  },
  {
   "cell_type": "code",
   "execution_count": 455,
   "metadata": {},
   "outputs": [],
   "source": [
    "X, y = make_classification(\n",
    "    n_samples=10000, n_features=10, n_informative=5, n_redundant=5,\n",
    "    random_state=42)\n",
    "\n",
    "X_train, X_test, y_train, y_test = train_test_split(\n",
    "    X, y, test_size=0.3, random_state=42)\n",
    "\n",
    "scaler = StandardScaler().fit(X_train, y_train)\n",
    "X_train = scaler.transform(X_train)\n",
    "X_test = scaler.transform(X_test)"
   ]
  },
  {
   "cell_type": "markdown",
   "metadata": {},
   "source": [
    "#### Обучение моделей"
   ]
  },
  {
   "cell_type": "code",
   "execution_count": 472,
   "metadata": {},
   "outputs": [],
   "source": [
    "svc = LinearSVC(max_iter=100000, C=0.215443).fit(X_train, y_train)\n",
    "lr = LogisticRegression(max_iter=100000, C=0.215443).fit(X_train, y_train)"
   ]
  },
  {
   "cell_type": "markdown",
   "metadata": {},
   "source": [
    "#### Визуализация "
   ]
  },
  {
   "cell_type": "code",
   "execution_count": 473,
   "metadata": {},
   "outputs": [
    {
     "data": {
      "image/png": "[encoded data removed]",
      "text/plain": [
       "<Figure size 432x432 with 1 Axes>"
      ]
     },
     "metadata": {},
     "output_type": "display_data"
    }
   ],
   "source": [
    "svc_pred = svc.decision_function(X_test)\n",
    "svc_pred = (svc_pred - svc_pred.min()) / (svc_pred.max() - svc_pred.min())\n",
    "\n",
    "plot_calibration_curve(y_test, svc_pred)\n",
    "plt.title('Калибровочная кривая для LogisticRegression модели')\n",
    "plt.show()"
   ]
  },
  {
   "cell_type": "markdown",
   "metadata": {},
   "source": [
    "SVM плохо предсказал вероятности (как и ожидалось), так что предсказания необходимо откалибровать."
   ]
  },
  {
   "cell_type": "code",
   "execution_count": 474,
   "metadata": {},
   "outputs": [
    {
     "data": {
      "image/png": "[encoded data removed]",
      "text/plain": [
       "<Figure size 432x432 with 1 Axes>"
      ]
     },
     "metadata": {},
     "output_type": "display_data"
    }
   ],
   "source": [
    "lr_pred = lr.predict_proba(X_test)[:, 1]\n",
    "\n",
    "plot_calibration_curve(y_test, lr_pred)\n",
    "plt.title('Калибровочная кривая для LinearSVC модели')\n",
    "plt.show()"
   ]
  },
  {
   "cell_type": "markdown",
   "metadata": {},
   "source": [
    "Калибровочная кривая у логистической регрессии получилась очень близкой к идеальной."
   ]
  },
  {
   "cell_type": "markdown",
   "metadata": {},
   "source": [
    "Воспользуйтесь `CalibratedClassifierCV` из `sklearn` для калибровки вероятностей метода опорных векторов на обучении и постройте с его помощью предсказания для тестовой выборки. Нарисуйте для них калибровочную кривую. Улучшилась ли она?"
   ]
  },
  {
   "cell_type": "code",
   "execution_count": 466,
   "metadata": {},
   "outputs": [],
   "source": [
    "from sklearn.calibration import CalibratedClassifierCV, calibration_curve"
   ]
  },
  {
   "cell_type": "code",
   "execution_count": 467,
   "metadata": {},
   "outputs": [
    {
     "name": "stdout",
     "output_type": "stream",
     "text": [
      "SVC ROC-AUC: 0.8477488886350291\n"
     ]
    }
   ],
   "source": [
    "sigmoid_svc = CalibratedClassifierCV(svc, cv=3, method='sigmoid').fit(X_train, y_train)\n",
    "sigmoid_svc_pred = sigmoid_svc.predict_proba(X_test)[:, 1]\n",
    "print('SVC ROC-AUC:', roc_auc_score(y_test, sigmoid_svc_pred))"
   ]
  },
  {
   "cell_type": "code",
   "execution_count": 468,
   "metadata": {},
   "outputs": [
    {
     "name": "stdout",
     "output_type": "stream",
     "text": [
      "SVC ROC-AUC: 0.8475050795413278\n"
     ]
    }
   ],
   "source": [
    "isotonic_svc = CalibratedClassifierCV(svc, cv=3, method='isotonic').fit(X_train, y_train)\n",
    "isotonic_svc_pred = isotonic_svc.predict_proba(X_test)[:, 1]\n",
    "print('SVC ROC-AUC:', roc_auc_score(y_test, isotonic_svc_pred))"
   ]
  },
  {
   "cell_type": "code",
   "execution_count": 469,
   "metadata": {},
   "outputs": [
    {
     "name": "stdout",
     "output_type": "stream",
     "text": [
      "Logistic regression ROC-AUC: 0.8479009081610926\n"
     ]
    }
   ],
   "source": [
    "sigmoid_lr = CalibratedClassifierCV(lr, cv=3, method='sigmoid').fit(X_train, y_train)\n",
    "sigmoid_lr_pred = sigmoid_lr.predict_proba(X_test)[:, 1]\n",
    "print('Logistic regression ROC-AUC:', roc_auc_score(y_test, sigmoid_lr_pred))"
   ]
  },
  {
   "cell_type": "code",
   "execution_count": 470,
   "metadata": {},
   "outputs": [
    {
     "name": "stdout",
     "output_type": "stream",
     "text": [
      "Logistic regression ROC-AUC: 0.84723326685072\n"
     ]
    }
   ],
   "source": [
    "isotonic_lr = CalibratedClassifierCV(lr, cv=3, method='isotonic').fit(X_train, y_train)\n",
    "isotonic_lr_pred = isotonic_lr.predict_proba(X_test)[:, 1]\n",
    "print('Logistic regression ROC-AUC:', roc_auc_score(y_test, isotonic_lr_pred))"
   ]
  },
  {
   "cell_type": "code",
   "execution_count": 471,
   "metadata": {},
   "outputs": [
    {
     "data": {
      "image/png": "[encoded data removed]",
      "text/plain": [
       "<Figure size 1152x360 with 3 Axes>"
      ]
     },
     "metadata": {},
     "output_type": "display_data"
    }
   ],
   "source": [
    "fig, axs = plt.subplots(1, 3, figsize=(16, 5))\n",
    "\n",
    "svc_true_prob, svc_pred_prob = calibration_curve(y_test, svc_pred, n_bins=15)\n",
    "lr_true_prob, lr_pred_prob = calibration_curve(y_test, lr_pred, n_bins=15)\n",
    "\n",
    "axs[0].plot(svc_pred_prob, svc_true_prob, label='SVC', color='blue')\n",
    "axs[0].plot(lr_pred_prob, lr_true_prob, label='LR', color='orange')\n",
    "axs[0].plot([0, 1], [0, 1], label='Perfect', linestyle='--', color='green')\n",
    "axs[0].set_title('Non-calibrated')\n",
    "\n",
    "svc_true_prob, svc_pred_prob = calibration_curve(y_test, sigmoid_svc_pred, n_bins=15)\n",
    "lr_true_prob, lr_pred_prob = calibration_curve(y_test, sigmoid_lr_pred, n_bins=15)\n",
    "\n",
    "axs[1].plot(svc_pred_prob, svc_true_prob, label='SVC', color='blue')\n",
    "axs[1].plot(lr_pred_prob, lr_true_prob, label='LR', color='orange')\n",
    "axs[1].plot([0, 1], [0, 1], label='Perfect', linestyle='--', color='green')\n",
    "axs[1].set_title('Sigmoid calibration')\n",
    "\n",
    "svc_true_prob, svc_pred_prob = calibration_curve(y_test, isotonic_svc_pred, n_bins=15)\n",
    "lr_true_prob, lr_pred_prob = calibration_curve(y_test, isotonic_lr_pred, n_bins=15)\n",
    "\n",
    "axs[2].plot(svc_pred_prob, svc_true_prob, label='SVC', color='blue')\n",
    "axs[2].plot(lr_pred_prob, lr_true_prob, label='LR', color='orange')\n",
    "axs[2].plot([0, 1], [0, 1], label='Perfect', linestyle='--', color='green')\n",
    "axs[2].set_title('Isotonic calibration')\n",
    "\n",
    "for ax in axs:\n",
    "    ax.set_xlabel('Mean predicted probability')\n",
    "    ax.set_ylabel('Fraction of positives')\n",
    "    ax.legend()\n",
    "\n",
    "plt.show()"
   ]
  },
  {
   "cell_type": "code",
   "execution_count": 476,
   "metadata": {},
   "outputs": [
    {
     "data": {
      "image/png": "[encoded data removed]",
      "text/plain": [
       "<Figure size 432x432 with 1 Axes>"
      ]
     },
     "metadata": {},
     "output_type": "display_data"
    }
   ],
   "source": [
    "plot_calibration_curve(y_test, sigmoid_svc_pred)\n",
    "plt.title('Калибровочная кривая для LogisticRegression модели')\n",
    "plt.show()"
   ]
  },
  {
   "cell_type": "code",
   "execution_count": 478,
   "metadata": {},
   "outputs": [
    {
     "data": {
      "image/png": "[encoded data removed]",
      "text/plain": [
       "<Figure size 432x432 with 1 Axes>"
      ]
     },
     "metadata": {},
     "output_type": "display_data"
    }
   ],
   "source": [
    "plot_calibration_curve(y_test, sigmoid_lr_pred)\n",
    "plt.title('Калибровочная кривая для LinearSVC модели')\n",
    "plt.show()"
   ]
  },
  {
   "cell_type": "markdown",
   "metadata": {},
   "source": [
    "__Бонусное задание (0.5 балла).__ Реализуйте свою функцию для калибровки вероятностей. Опишите ваш подход и продемонстрируйте результаты. Ключевые слова для вдохновения: `Platt`, `Isotonic`."
   ]
  },
  {
   "cell_type": "code",
   "execution_count": null,
   "metadata": {},
   "outputs": [],
   "source": []
  },
  {
   "cell_type": "markdown",
   "metadata": {},
   "source": [
    "# Часть 1. Работа с переменными."
   ]
  },
  {
   "cell_type": "markdown",
   "metadata": {},
   "source": [
    "В этой части мы научимся обрабатывать категориальные переменные, так как закодировать их в виде чисел недостаточно (это задаёт некоторый порядок, которого на категориальных переменных может и не быть). Существует два основных способа обработки категориальных значений:\n",
    "- One-hot-кодирование\n",
    "- Счётчики (CTR, mean-target кодирование, ...) — каждый категориальный признак заменяется на среднее значение целевой переменной по всем объектам, имеющим одинаковое значение в этом признаке.\n",
    "\n",
    "Начнём с one-hot-кодирования. Допустим наш категориальный признак $f_j(x)$ принимает значения из множества $C=\\{c_1, \\dots, c_m\\}$. Заменим его на $m$ бинарных признаков $b_1(x), \\dots, b_m(x)$, каждый из которых является индикатором одного из возможных категориальных значений:\n",
    "$$\n",
    "b_i(x) = [f_j(x) = c_i]\n",
    "$$"
   ]
  },
  {
   "cell_type": "markdown",
   "metadata": {},
   "source": [
    "__Подготовка данных.__\n",
    "\n",
    "Загрузим данные [UCI Bank Marketing Dataset](https://archive.ics.uci.edu/ml/datasets/bank+marketing). Этот датасет содержит информацию о банковском телефонном маркетинге, объектом в нем является телефонный звонок потенциальному клиенту с предложением некоторой услуги (утверждается, что это краткосрочный депозит), целевой переменной - ответ клиента (согласился ли он открыть депозит?). В качестве признакового описания используются характеристики клиента (образование, брак и т.д.), данные о звонке и различные экономические индикаторы - более подробная информация представлена в файле `bank-additional-names.txt`."
   ]
  },
  {
   "cell_type": "code",
   "execution_count": 480,
   "metadata": {},
   "outputs": [],
   "source": [
    "# !wget https://archive.ics.uci.edu/ml/machine-learning-databases/00222/bank-additional.zip\n",
    "# !unzip bank-additional.zip\n",
    "df = pd.read_csv('input/04_bank-additional/bank-additional-full.csv', sep=';')"
   ]
  },
  {
   "cell_type": "code",
   "execution_count": 481,
   "metadata": {},
   "outputs": [
    {
     "data": {
      "text/html": [
       "<div>\n",
       "<style scoped>\n",
       "    .dataframe tbody tr th:only-of-type {\n",
       "        vertical-align: middle;\n",
       "    }\n",
       "\n",
       "    .dataframe tbody tr th {\n",
       "        vertical-align: top;\n",
       "    }\n",
       "\n",
       "    .dataframe thead th {\n",
       "        text-align: right;\n",
       "    }\n",
       "</style>\n",
       "<table border=\"1\" class=\"dataframe\">\n",
       "  <thead>\n",
       "    <tr style=\"text-align: right;\">\n",
       "      <th></th>\n",
       "      <th>age</th>\n",
       "      <th>job</th>\n",
       "      <th>marital</th>\n",
       "      <th>education</th>\n",
       "      <th>default</th>\n",
       "      <th>housing</th>\n",
       "      <th>loan</th>\n",
       "      <th>contact</th>\n",
       "      <th>month</th>\n",
       "      <th>day_of_week</th>\n",
       "      <th>duration</th>\n",
       "      <th>campaign</th>\n",
       "      <th>pdays</th>\n",
       "      <th>previous</th>\n",
       "      <th>poutcome</th>\n",
       "      <th>emp.var.rate</th>\n",
       "      <th>cons.price.idx</th>\n",
       "      <th>cons.conf.idx</th>\n",
       "      <th>euribor3m</th>\n",
       "      <th>nr.employed</th>\n",
       "      <th>y</th>\n",
       "    </tr>\n",
       "  </thead>\n",
       "  <tbody>\n",
       "    <tr>\n",
       "      <th>0</th>\n",
       "      <td>56</td>\n",
       "      <td>housemaid</td>\n",
       "      <td>married</td>\n",
       "      <td>basic.4y</td>\n",
       "      <td>no</td>\n",
       "      <td>no</td>\n",
       "      <td>no</td>\n",
       "      <td>telephone</td>\n",
       "      <td>may</td>\n",
       "      <td>mon</td>\n",
       "      <td>261</td>\n",
       "      <td>1</td>\n",
       "      <td>999</td>\n",
       "      <td>0</td>\n",
       "      <td>nonexistent</td>\n",
       "      <td>1.1</td>\n",
       "      <td>93.994</td>\n",
       "      <td>-36.4</td>\n",
       "      <td>4.857</td>\n",
       "      <td>5191.0</td>\n",
       "      <td>no</td>\n",
       "    </tr>\n",
       "    <tr>\n",
       "      <th>1</th>\n",
       "      <td>57</td>\n",
       "      <td>services</td>\n",
       "      <td>married</td>\n",
       "      <td>high.school</td>\n",
       "      <td>unknown</td>\n",
       "      <td>no</td>\n",
       "      <td>no</td>\n",
       "      <td>telephone</td>\n",
       "      <td>may</td>\n",
       "      <td>mon</td>\n",
       "      <td>149</td>\n",
       "      <td>1</td>\n",
       "      <td>999</td>\n",
       "      <td>0</td>\n",
       "      <td>nonexistent</td>\n",
       "      <td>1.1</td>\n",
       "      <td>93.994</td>\n",
       "      <td>-36.4</td>\n",
       "      <td>4.857</td>\n",
       "      <td>5191.0</td>\n",
       "      <td>no</td>\n",
       "    </tr>\n",
       "    <tr>\n",
       "      <th>2</th>\n",
       "      <td>37</td>\n",
       "      <td>services</td>\n",
       "      <td>married</td>\n",
       "      <td>high.school</td>\n",
       "      <td>no</td>\n",
       "      <td>yes</td>\n",
       "      <td>no</td>\n",
       "      <td>telephone</td>\n",
       "      <td>may</td>\n",
       "      <td>mon</td>\n",
       "      <td>226</td>\n",
       "      <td>1</td>\n",
       "      <td>999</td>\n",
       "      <td>0</td>\n",
       "      <td>nonexistent</td>\n",
       "      <td>1.1</td>\n",
       "      <td>93.994</td>\n",
       "      <td>-36.4</td>\n",
       "      <td>4.857</td>\n",
       "      <td>5191.0</td>\n",
       "      <td>no</td>\n",
       "    </tr>\n",
       "    <tr>\n",
       "      <th>3</th>\n",
       "      <td>40</td>\n",
       "      <td>admin.</td>\n",
       "      <td>married</td>\n",
       "      <td>basic.6y</td>\n",
       "      <td>no</td>\n",
       "      <td>no</td>\n",
       "      <td>no</td>\n",
       "      <td>telephone</td>\n",
       "      <td>may</td>\n",
       "      <td>mon</td>\n",
       "      <td>151</td>\n",
       "      <td>1</td>\n",
       "      <td>999</td>\n",
       "      <td>0</td>\n",
       "      <td>nonexistent</td>\n",
       "      <td>1.1</td>\n",
       "      <td>93.994</td>\n",
       "      <td>-36.4</td>\n",
       "      <td>4.857</td>\n",
       "      <td>5191.0</td>\n",
       "      <td>no</td>\n",
       "    </tr>\n",
       "    <tr>\n",
       "      <th>4</th>\n",
       "      <td>56</td>\n",
       "      <td>services</td>\n",
       "      <td>married</td>\n",
       "      <td>high.school</td>\n",
       "      <td>no</td>\n",
       "      <td>no</td>\n",
       "      <td>yes</td>\n",
       "      <td>telephone</td>\n",
       "      <td>may</td>\n",
       "      <td>mon</td>\n",
       "      <td>307</td>\n",
       "      <td>1</td>\n",
       "      <td>999</td>\n",
       "      <td>0</td>\n",
       "      <td>nonexistent</td>\n",
       "      <td>1.1</td>\n",
       "      <td>93.994</td>\n",
       "      <td>-36.4</td>\n",
       "      <td>4.857</td>\n",
       "      <td>5191.0</td>\n",
       "      <td>no</td>\n",
       "    </tr>\n",
       "  </tbody>\n",
       "</table>\n",
       "</div>"
      ],
      "text/plain": [
       "   age        job  marital    education  default housing loan    contact  \\\n",
       "0   56  housemaid  married     basic.4y       no      no   no  telephone   \n",
       "1   57   services  married  high.school  unknown      no   no  telephone   \n",
       "2   37   services  married  high.school       no     yes   no  telephone   \n",
       "3   40     admin.  married     basic.6y       no      no   no  telephone   \n",
       "4   56   services  married  high.school       no      no  yes  telephone   \n",
       "\n",
       "  month day_of_week  duration  campaign  pdays  previous     poutcome  \\\n",
       "0   may         mon       261         1    999         0  nonexistent   \n",
       "1   may         mon       149         1    999         0  nonexistent   \n",
       "2   may         mon       226         1    999         0  nonexistent   \n",
       "3   may         mon       151         1    999         0  nonexistent   \n",
       "4   may         mon       307         1    999         0  nonexistent   \n",
       "\n",
       "   emp.var.rate  cons.price.idx  cons.conf.idx  euribor3m  nr.employed   y  \n",
       "0           1.1          93.994          -36.4      4.857       5191.0  no  \n",
       "1           1.1          93.994          -36.4      4.857       5191.0  no  \n",
       "2           1.1          93.994          -36.4      4.857       5191.0  no  \n",
       "3           1.1          93.994          -36.4      4.857       5191.0  no  \n",
       "4           1.1          93.994          -36.4      4.857       5191.0  no  "
      ]
     },
     "execution_count": 481,
     "metadata": {},
     "output_type": "execute_result"
    }
   ],
   "source": [
    "df.head()"
   ]
  },
  {
   "cell_type": "markdown",
   "metadata": {},
   "source": [
    "__Задание 3 (0.5 балла).__ Разделите выборку на обучающую и тестовую в соотношении 3:1. Зафиксируйте `random_state=777`, также используйте `stratify`. Один из столбцов в данных не несет информации для решения задачи — какой? Отбросьте его. \n",
    "\n"
   ]
  },
  {
   "cell_type": "code",
   "execution_count": 484,
   "metadata": {},
   "outputs": [],
   "source": [
    "X_train, X_test, y_train, y_test = train_test_split(df.loc[:, 'age':'nr.employed'],\n",
    "                                                    df['y'],\n",
    "                                                    test_size=0.25,\n",
    "                                                    random_state=777,\n",
    "                                                    stratify=df['y'])"
   ]
  },
  {
   "cell_type": "markdown",
   "metadata": {},
   "source": [
    "Столбец `duration` не несёт информации для решения, так как мы не можем знать продолжительность звонка до того как совершить этот звонок. Кроме того, елси длительность звонка будет нулевой, то ответ сразу нет, поэтому этот столбец содержит информацию о целевой переменной напрямую, что плохо. Удалю этот столбец (это так же советуют делать в описании датасета на сайте)."
   ]
  },
  {
   "cell_type": "code",
   "execution_count": 485,
   "metadata": {},
   "outputs": [],
   "source": [
    "X_train = X_train.drop('duration', axis=1)\n",
    "X_test = X_test.drop('duration', axis=1)"
   ]
  },
  {
   "cell_type": "markdown",
   "metadata": {},
   "source": [
    "Закодируйте категориальные признаки с помощью `OrdinalEncoder`. Посчитайте качество (в этом задании будем работать c `AUC-PR`) при применении логистической регрессии. Замерьте время, потребовавшееся на обучение модели (с учетом кодирования признаков).\n",
    "\n",
    "__Вопрос__: почему в данном задании мы выбрали метрикой именно `AUC-PR`, а не, к примеру, `AUC-ROC`?\n",
    "\n",
    "__Ваш ответ__: `AUC-ROC` чуствительна к балансу классов. А в нашей задаче как раз баланса нет, ниже я подсчитал, что всего 11.27% положительных ответов во всём датасете. То есть если сделать константную модель, которая будет всегда выдавать 'no', тогда мы получим хороший показатель `AUC-ROC`, в то время как `AUC-PR` позволяет избавиться от этой проблемы."
   ]
  },
  {
   "cell_type": "code",
   "execution_count": 486,
   "metadata": {},
   "outputs": [],
   "source": [
    "from sklearn.preprocessing import OrdinalEncoder, StandardScaler, OneHotEncoder\n",
    "from sklearn.pipeline import Pipeline\n",
    "from sklearn.compose import ColumnTransformer"
   ]
  },
  {
   "cell_type": "code",
   "execution_count": 1167,
   "metadata": {},
   "outputs": [],
   "source": [
    "cat_features = ['job', 'marital', 'education', 'default', 'housing', 'loan',\n",
    "                'contact', 'month', 'day_of_week', 'poutcome']\n",
    "num_features = ['age', 'campaign', 'pdays', 'previous', 'emp.var.rate',\n",
    "                'cons.price.idx', 'cons.conf.idx', 'euribor3m', 'nr.employed']"
   ]
  },
  {
   "cell_type": "code",
   "execution_count": 499,
   "metadata": {},
   "outputs": [],
   "source": [
    "y_train = (y_train == 'yes')\n",
    "y_test = (y_test == 'yes')"
   ]
  },
  {
   "cell_type": "code",
   "execution_count": 500,
   "metadata": {},
   "outputs": [],
   "source": [
    "col_transformer = ColumnTransformer([\n",
    "    ('OrdinalEncoder', OrdinalEncoder(), cat_features),\n",
    "    ('StandardScaler', StandardScaler(), num_features)\n",
    "])\n",
    "\n",
    "lr_pipeline = Pipeline([\n",
    "    ('ColumnTransformer', col_transformer),\n",
    "    ('LogisticRegression', LogisticRegression(max_iter=100000, C=1.0))\n",
    "])"
   ]
  },
  {
   "cell_type": "code",
   "execution_count": 501,
   "metadata": {},
   "outputs": [
    {
     "name": "stdout",
     "output_type": "stream",
     "text": [
      "Wall time: 241 ms\n"
     ]
    }
   ],
   "source": [
    "%%time\n",
    "lr = lr_pipeline.fit(X_train, y_train)"
   ]
  },
  {
   "cell_type": "code",
   "execution_count": 502,
   "metadata": {},
   "outputs": [
    {
     "name": "stdout",
     "output_type": "stream",
     "text": [
      "Train AUC-PR score: 0.443283\n",
      "Test AUC-PR score: 0.441875\n"
     ]
    }
   ],
   "source": [
    "y_train_pred = lr.decision_function(X_train)\n",
    "y_test_pred = lr.decision_function(X_test)\n",
    "\n",
    "print(f'Train AUC-PR score: {pr_auc_score(y_train, y_train_pred):6f}')\n",
    "print(f'Test AUC-PR score: {pr_auc_score(y_test, y_test_pred):6f}')"
   ]
  },
  {
   "cell_type": "markdown",
   "metadata": {},
   "source": [
    "__Задание 4 (0.5 балла).__ Закодируйте все категориальные признаки с помощью one-hot-кодирования. Обучите логистическую регрессию и посмотрите, как изменилось качество модели (с тем, что было до кодирования). Измерьте время, потребовавшееся на кодирование категориальных признаков и обучение модели.\n",
    "\n"
   ]
  },
  {
   "cell_type": "code",
   "execution_count": 503,
   "metadata": {},
   "outputs": [],
   "source": [
    "col_transformer = ColumnTransformer([\n",
    "    ('OrdinalEncoder', OneHotEncoder(), cat_features),\n",
    "    ('StandardScaler', StandardScaler(), num_features)\n",
    "])\n",
    "\n",
    "lr_pipeline = Pipeline([\n",
    "    ('ColumnTransformer', col_transformer),\n",
    "    ('LogisticRegression', LogisticRegression(max_iter=100000, C=1.0))\n",
    "])"
   ]
  },
  {
   "cell_type": "code",
   "execution_count": 504,
   "metadata": {},
   "outputs": [
    {
     "name": "stdout",
     "output_type": "stream",
     "text": [
      "Wall time: 669 ms\n"
     ]
    }
   ],
   "source": [
    "%%time\n",
    "lr = lr_pipeline.fit(X_train, y_train)"
   ]
  },
  {
   "cell_type": "code",
   "execution_count": 505,
   "metadata": {},
   "outputs": [
    {
     "name": "stdout",
     "output_type": "stream",
     "text": [
      "Train AUC-PR score: 0.459050\n",
      "Test AUC-PR score: 0.449215\n"
     ]
    }
   ],
   "source": [
    "y_train_pred = lr.decision_function(X_train)\n",
    "y_test_pred = lr.decision_function(X_test)\n",
    "\n",
    "print(f'Train AUC-PR score: {pr_auc_score(y_train, y_train_pred):6f}')\n",
    "print(f'Test AUC-PR score: {pr_auc_score(y_test, y_test_pred):6f}')"
   ]
  },
  {
   "cell_type": "markdown",
   "metadata": {},
   "source": [
    "Качество выдаваемое моделью на тестовой выборке улучшилось, при использовании OneHotEncoder, но при этом на обучение ушло в три раза больше времени. Это связано с тем, что при использовании OneHotEncoder колличество признаков после кодирования сильно возрастает и обуение модели усложняется."
   ]
  },
  {
   "cell_type": "markdown",
   "metadata": {},
   "source": [
    "Как можно было заменить, one-hot-кодирование может сильно увеличивать количество признаков, что сказывается на памяти, особенно, если некоторый признак имеет большое количество значений. Эту проблему решает другой способ кодирования категориальных признаков — mean-target encoding (для простоты будем называть это счётчиками). Основная идея в том, что нам важны не сами категории, а значения целевой переменной, которые имеют объекты этой категории. Каждый категориальный признак мы заменим средним значением целевой переменной по всем объектам этой же категории:\n",
    "$$\n",
    "g_j(x, X) = \\frac{\\sum_{i=1}^{l} [f_j(x) = f_j(x_i)][y_i = +1]}{\\sum_{i=1}^{l} [f_j(x) = f_j(x_i)]}\n",
    "$$\n",
    "\n",
    "__Задание 5 (1 балл).__ Закодируйте категориальные переменные с помощью счётчиков (ровно так, как описано выше без каких-либо хитростей). Обучите логистическую регрессию и посмотрите на качество модели на тестовом множестве. Сравните время обучения с предыдущими экспериментами (с учетом кодирования признаков). Заметили ли вы что-то интересное?\n",
    "\n",
    "\n",
    "__Бонус (1 балл)__: Здесь и далее реализуйте вычисление счетчиков с помощью трансформера (наследуйтесь от классов `BaseEstimator, TransformerMixin` из `sklearn.base`). Обратите внимание, что все вычисления должны быть векторизованными, трансформер не должен модифицировать передаваемую ему выборку inplace, а все необходимые статистики нужно считать только по обучающей выборке в методе `fit`. Ваш трансформер должен принимать при инициализации список из категориальных признаков и изменять только их. \n"
   ]
  },
  {
   "cell_type": "code",
   "execution_count": 1065,
   "metadata": {},
   "outputs": [],
   "source": [
    "from sklearn.base import BaseEstimator, TransformerMixin\n",
    "\n",
    "class MeanTargetEncoding(BaseEstimator, TransformerMixin):\n",
    "    def __init__(self):\n",
    "        self.encodings = {}\n",
    "    \n",
    "    def fit(self, X, y):\n",
    "        X_ = X.copy()\n",
    "        X_['target'] = y.copy()\n",
    "        \n",
    "        for column in X:\n",
    "            self.encodings[column] = X_.groupby(by=column).mean()['target'].copy()\n",
    "        return self\n",
    "    \n",
    "    def transform(self, X):\n",
    "        return X.replace(self.encodings)"
   ]
  },
  {
   "cell_type": "code",
   "execution_count": 1066,
   "metadata": {},
   "outputs": [
    {
     "data": {
      "text/html": [
       "<div>\n",
       "<style scoped>\n",
       "    .dataframe tbody tr th:only-of-type {\n",
       "        vertical-align: middle;\n",
       "    }\n",
       "\n",
       "    .dataframe tbody tr th {\n",
       "        vertical-align: top;\n",
       "    }\n",
       "\n",
       "    .dataframe thead th {\n",
       "        text-align: right;\n",
       "    }\n",
       "</style>\n",
       "<table border=\"1\" class=\"dataframe\">\n",
       "  <thead>\n",
       "    <tr style=\"text-align: right;\">\n",
       "      <th></th>\n",
       "      <th>age</th>\n",
       "      <th>job</th>\n",
       "      <th>marital</th>\n",
       "      <th>education</th>\n",
       "      <th>default</th>\n",
       "      <th>housing</th>\n",
       "      <th>loan</th>\n",
       "      <th>contact</th>\n",
       "      <th>month</th>\n",
       "      <th>day_of_week</th>\n",
       "      <th>campaign</th>\n",
       "      <th>pdays</th>\n",
       "      <th>previous</th>\n",
       "      <th>poutcome</th>\n",
       "      <th>emp.var.rate</th>\n",
       "      <th>cons.price.idx</th>\n",
       "      <th>cons.conf.idx</th>\n",
       "      <th>euribor3m</th>\n",
       "      <th>nr.employed</th>\n",
       "    </tr>\n",
       "  </thead>\n",
       "  <tbody>\n",
       "    <tr>\n",
       "      <th>23424</th>\n",
       "      <td>33</td>\n",
       "      <td>0.109551</td>\n",
       "      <td>0.101269</td>\n",
       "      <td>0.102727</td>\n",
       "      <td>0.128569</td>\n",
       "      <td>0.110367</td>\n",
       "      <td>0.113835</td>\n",
       "      <td>0.147733</td>\n",
       "      <td>0.107735</td>\n",
       "      <td>0.116111</td>\n",
       "      <td>7</td>\n",
       "      <td>999</td>\n",
       "      <td>0</td>\n",
       "      <td>0.088848</td>\n",
       "      <td>1.4</td>\n",
       "      <td>93.444</td>\n",
       "      <td>-36.1</td>\n",
       "      <td>4.964</td>\n",
       "      <td>5228.1</td>\n",
       "    </tr>\n",
       "    <tr>\n",
       "      <th>39990</th>\n",
       "      <td>32</td>\n",
       "      <td>0.067515</td>\n",
       "      <td>0.101269</td>\n",
       "      <td>0.102727</td>\n",
       "      <td>0.128569</td>\n",
       "      <td>0.115024</td>\n",
       "      <td>0.113835</td>\n",
       "      <td>0.051505</td>\n",
       "      <td>0.104400</td>\n",
       "      <td>0.116210</td>\n",
       "      <td>1</td>\n",
       "      <td>999</td>\n",
       "      <td>1</td>\n",
       "      <td>0.142140</td>\n",
       "      <td>-1.7</td>\n",
       "      <td>94.055</td>\n",
       "      <td>-39.8</td>\n",
       "      <td>0.761</td>\n",
       "      <td>4991.6</td>\n",
       "    </tr>\n",
       "    <tr>\n",
       "      <th>9340</th>\n",
       "      <td>27</td>\n",
       "      <td>0.315133</td>\n",
       "      <td>0.139834</td>\n",
       "      <td>0.104057</td>\n",
       "      <td>0.051851</td>\n",
       "      <td>0.110367</td>\n",
       "      <td>0.113835</td>\n",
       "      <td>0.051505</td>\n",
       "      <td>0.104400</td>\n",
       "      <td>0.110226</td>\n",
       "      <td>1</td>\n",
       "      <td>999</td>\n",
       "      <td>0</td>\n",
       "      <td>0.088848</td>\n",
       "      <td>1.4</td>\n",
       "      <td>94.465</td>\n",
       "      <td>-41.8</td>\n",
       "      <td>4.967</td>\n",
       "      <td>5228.1</td>\n",
       "    </tr>\n",
       "    <tr>\n",
       "      <th>5365</th>\n",
       "      <td>34</td>\n",
       "      <td>0.067515</td>\n",
       "      <td>0.101269</td>\n",
       "      <td>0.081501</td>\n",
       "      <td>0.128569</td>\n",
       "      <td>0.115024</td>\n",
       "      <td>0.113835</td>\n",
       "      <td>0.051505</td>\n",
       "      <td>0.063396</td>\n",
       "      <td>0.110226</td>\n",
       "      <td>1</td>\n",
       "      <td>999</td>\n",
       "      <td>0</td>\n",
       "      <td>0.088848</td>\n",
       "      <td>1.1</td>\n",
       "      <td>93.994</td>\n",
       "      <td>-36.4</td>\n",
       "      <td>4.857</td>\n",
       "      <td>5191.0</td>\n",
       "    </tr>\n",
       "    <tr>\n",
       "      <th>2797</th>\n",
       "      <td>41</td>\n",
       "      <td>0.109059</td>\n",
       "      <td>0.101269</td>\n",
       "      <td>0.081501</td>\n",
       "      <td>0.128569</td>\n",
       "      <td>0.110367</td>\n",
       "      <td>0.113835</td>\n",
       "      <td>0.051505</td>\n",
       "      <td>0.063396</td>\n",
       "      <td>0.116111</td>\n",
       "      <td>1</td>\n",
       "      <td>999</td>\n",
       "      <td>0</td>\n",
       "      <td>0.088848</td>\n",
       "      <td>1.1</td>\n",
       "      <td>93.994</td>\n",
       "      <td>-36.4</td>\n",
       "      <td>4.859</td>\n",
       "      <td>5191.0</td>\n",
       "    </tr>\n",
       "  </tbody>\n",
       "</table>\n",
       "</div>"
      ],
      "text/plain": [
       "       age       job   marital  education   default   housing      loan  \\\n",
       "23424   33  0.109551  0.101269   0.102727  0.128569  0.110367  0.113835   \n",
       "39990   32  0.067515  0.101269   0.102727  0.128569  0.115024  0.113835   \n",
       "9340    27  0.315133  0.139834   0.104057  0.051851  0.110367  0.113835   \n",
       "5365    34  0.067515  0.101269   0.081501  0.128569  0.115024  0.113835   \n",
       "2797    41  0.109059  0.101269   0.081501  0.128569  0.110367  0.113835   \n",
       "\n",
       "        contact     month  day_of_week  campaign  pdays  previous  poutcome  \\\n",
       "23424  0.147733  0.107735     0.116111         7    999         0  0.088848   \n",
       "39990  0.051505  0.104400     0.116210         1    999         1  0.142140   \n",
       "9340   0.051505  0.104400     0.110226         1    999         0  0.088848   \n",
       "5365   0.051505  0.063396     0.110226         1    999         0  0.088848   \n",
       "2797   0.051505  0.063396     0.116111         1    999         0  0.088848   \n",
       "\n",
       "       emp.var.rate  cons.price.idx  cons.conf.idx  euribor3m  nr.employed  \n",
       "23424           1.4          93.444          -36.1      4.964       5228.1  \n",
       "39990          -1.7          94.055          -39.8      0.761       4991.6  \n",
       "9340            1.4          94.465          -41.8      4.967       5228.1  \n",
       "5365            1.1          93.994          -36.4      4.857       5191.0  \n",
       "2797            1.1          93.994          -36.4      4.859       5191.0  "
      ]
     },
     "execution_count": 1066,
     "metadata": {},
     "output_type": "execute_result"
    }
   ],
   "source": [
    "my_transformer = MeanTargetEncoding()\n",
    "my_transformer.fit(X_train[cat_features], y_train)\n",
    "X_trans = my_transformer.transform(X_train)\n",
    "\n",
    "X_trans.head()"
   ]
  },
  {
   "cell_type": "code",
   "execution_count": 1067,
   "metadata": {},
   "outputs": [],
   "source": [
    "col_transformer = ColumnTransformer([\n",
    "    ('MeanTargetEncoding', MeanTargetEncoding(), cat_features),\n",
    "    ('StandardScaler', StandardScaler(), num_features)\n",
    "])\n",
    "\n",
    "lr_pipeline = Pipeline([\n",
    "    ('ColumnTransformer', col_transformer),\n",
    "    ('LogisticRegression', LogisticRegression(max_iter=100000, C=1.0))\n",
    "])"
   ]
  },
  {
   "cell_type": "markdown",
   "metadata": {},
   "source": [
    "**Мое замечание:** После mean-target encoding, есть смысл применять StandardScaler, так как переменные будут вещественными и могут принимать разный размер. Стоит проверить эту идею, если вдруг буду этим заниматься."
   ]
  },
  {
   "cell_type": "code",
   "execution_count": 1068,
   "metadata": {},
   "outputs": [
    {
     "name": "stdout",
     "output_type": "stream",
     "text": [
      "Wall time: 379 ms\n"
     ]
    }
   ],
   "source": [
    "%%time\n",
    "lr = lr_pipeline.fit(X_train, y_train)"
   ]
  },
  {
   "cell_type": "code",
   "execution_count": 1069,
   "metadata": {},
   "outputs": [
    {
     "name": "stdout",
     "output_type": "stream",
     "text": [
      "Train AUC-PR score: 0.438485\n",
      "Test AUC-PR score: 0.442335\n"
     ]
    }
   ],
   "source": [
    "y_train_pred = lr.decision_function(X_train)\n",
    "y_test_pred = lr.decision_function(X_test)\n",
    "\n",
    "print(f'Train AUC-PR score: {pr_auc_score(y_train, y_train_pred):6f}')\n",
    "print(f'Test AUC-PR score: {pr_auc_score(y_test, y_test_pred):6f}')"
   ]
  },
  {
   "cell_type": "markdown",
   "metadata": {},
   "source": [
    "Несмотря на то, что mean-target encoding реализован самостоятельно (не факт, что наиболее эффективным способом), на кодирование признаков и обучение модели ушло в два раза меньше времени, чем на то же самое с использованием OneHotEncoder. Хотя с OrdinalEncoder всё отработало быстрее, возможно с более эффективной реализацией алгоритма, время могло быть практически равным.\n",
    "\n",
    "Результат на тестовой выборке при использовании mean-target encoding получился примерно таким же как при использовании OrdinalEncoder и уступает результату с OneHotEncoder."
   ]
  },
  {
   "cell_type": "markdown",
   "metadata": {},
   "source": [
    "Отметим, что такие признаки сами по себе являются классификаторами и, обучаясь на них, мы допускаем \"утечку\" целевой переменной в признаки. Это ведёт к переобучению, поэтому считать такие признаки необходимо таким образом, чтобы при вычислении для конкретного объекта его целевая метка не использовалась. Это можно делать следующими способами:\n",
    "1. Вычислять значение счётчика по всем объектам расположенным выше в датасете (например, если у нас выборка отсортирована по времени).\n",
    "2. Вычислять по фолдам, то есть делить выборку на некоторое количество частей и подсчитывать значение признаков по всем фолдам кроме текущего (как делается в кросс-валидации).\n",
    "3. Внесение некоторого шума в посчитанные признаки. \n",
    "\n",
    "__Задание 6.__ Реализуйте корректное вычисление счётчиков самым простым способом — добавление шума к значениям (постарайтесь найти баланс между борьбой с переобучением и сохранением полезности признаков). Снова обучите логистическую регрессию, оцените качество. Сделайте выводы.\n",
    "\n",
    "__(0.5 балла)__"
   ]
  },
  {
   "cell_type": "code",
   "execution_count": 1049,
   "metadata": {},
   "outputs": [],
   "source": [
    "class MeanTargetEncoding(BaseEstimator, TransformerMixin):\n",
    "    def __init__(self, noise=0):\n",
    "        self.noise = noise\n",
    "        self.encodings = {}\n",
    "    \n",
    "    def fit(self, X, y):\n",
    "        X_ = X.copy()\n",
    "        X_['target'] = y.copy()\n",
    "        \n",
    "        for column in X:\n",
    "            self.encodings[column] = X_.groupby(by=column).mean()['target'].copy()\n",
    "            # Добавление шума - Вариант 1\n",
    "            self.encodings[column] += np.random.normal(scale=self.noise, size=self.encodings[column].shape[0])\n",
    "        return self\n",
    "    \n",
    "    def transform(self, X):\n",
    "        return X.replace(self.encodings)"
   ]
  },
  {
   "cell_type": "markdown",
   "metadata": {},
   "source": [
    "**Моя идея шума** - Если добавить шум после применения трансформации, тогда у нас не будет повторяющихся объектов, что сделает эти признкаи не категориальными. Считаю, что этот подход неправильным."
   ]
  },
  {
   "cell_type": "code",
   "execution_count": 1050,
   "metadata": {},
   "outputs": [],
   "source": [
    "col_transformer = ColumnTransformer([\n",
    "    ('MeanTargetEncoding', MeanTargetEncoding(1), cat_features),\n",
    "    ('StandardScaler', StandardScaler(), num_features)\n",
    "])\n",
    "\n",
    "lr_pipeline = Pipeline([\n",
    "    ('ColumnTransformer', col_transformer),\n",
    "#     ('StandardScaler', StandardScaler(), num_features),\n",
    "    ('LogisticRegression', LogisticRegression(max_iter=100000, C=1.0))\n",
    "])"
   ]
  },
  {
   "cell_type": "code",
   "execution_count": 1051,
   "metadata": {},
   "outputs": [
    {
     "name": "stdout",
     "output_type": "stream",
     "text": [
      "Wall time: 205 ms\n"
     ]
    }
   ],
   "source": [
    "%%time\n",
    "lr = lr_pipeline.fit(X_train, y_train)"
   ]
  },
  {
   "cell_type": "code",
   "execution_count": 1052,
   "metadata": {},
   "outputs": [
    {
     "name": "stdout",
     "output_type": "stream",
     "text": [
      "Train AUC-PR score: 0.445036\n",
      "Test AUC-PR score: 0.442517\n"
     ]
    }
   ],
   "source": [
    "y_train_pred = lr.decision_function(X_train)\n",
    "y_test_pred = lr.decision_function(X_test)\n",
    "\n",
    "print(f'Train AUC-PR score: {pr_auc_score(y_train, y_train_pred):6f}')\n",
    "print(f'Test AUC-PR score: {pr_auc_score(y_test, y_test_pred):6f}')"
   ]
  },
  {
   "cell_type": "markdown",
   "metadata": {},
   "source": [
    "### Подбор шума"
   ]
  },
  {
   "cell_type": "code",
   "execution_count": 939,
   "metadata": {},
   "outputs": [
    {
     "name": "stdout",
     "output_type": "stream",
     "text": [
      "noise = 0.1\n",
      "Train AUC-PR score: 0.425744\n",
      "Test AUC-PR score: 0.427888\n",
      "abs_score = 0.0021442567483928587\n",
      "\n",
      "noise = 0.12742749857031338\n",
      "Train AUC-PR score: 0.435090\n",
      "Test AUC-PR score: 0.436796\n",
      "abs_score = 0.0017059421424734933\n",
      "\n",
      "noise = 0.16237767391887217\n",
      "Train AUC-PR score: 0.437459\n",
      "Test AUC-PR score: 0.446397\n",
      "abs_score = 0.008938129905427528\n",
      "\n",
      "noise = 0.20691380811147897\n",
      "Train AUC-PR score: 0.441130\n",
      "Test AUC-PR score: 0.437684\n",
      "abs_score = 0.0034457443414673272\n",
      "\n",
      "noise = 0.26366508987303583\n",
      "Train AUC-PR score: 0.436600\n",
      "Test AUC-PR score: 0.434956\n",
      "abs_score = 0.0016441918278724543\n",
      "\n",
      "noise = 0.33598182862837817\n",
      "Train AUC-PR score: 0.442584\n",
      "Test AUC-PR score: 0.438394\n",
      "abs_score = 0.004189604849969331\n",
      "\n",
      "noise = 0.42813323987193935\n",
      "Train AUC-PR score: 0.433196\n",
      "Test AUC-PR score: 0.432034\n",
      "abs_score = 0.0011617982525830017\n",
      "\n",
      "noise = 0.5455594781168519\n",
      "Train AUC-PR score: 0.441575\n",
      "Test AUC-PR score: 0.439442\n",
      "abs_score = 0.002132903868223679\n",
      "\n",
      "noise = 0.6951927961775606\n",
      "Train AUC-PR score: 0.441485\n",
      "Test AUC-PR score: 0.438131\n",
      "abs_score = 0.00335336556256266\n",
      "\n",
      "noise = 0.8858667904100825\n",
      "Train AUC-PR score: 0.439816\n",
      "Test AUC-PR score: 0.438974\n",
      "abs_score = 0.0008426119140135246\n",
      "\n",
      "noise = 1.1288378916846888\n",
      "Train AUC-PR score: 0.441000\n",
      "Test AUC-PR score: 0.439517\n",
      "abs_score = 0.0014829067399408369\n",
      "\n",
      "noise = 1.438449888287663\n",
      "Train AUC-PR score: 0.441778\n",
      "Test AUC-PR score: 0.434669\n",
      "abs_score = 0.007109082579514148\n",
      "\n",
      "noise = 1.8329807108324356\n",
      "Train AUC-PR score: 0.439224\n",
      "Test AUC-PR score: 0.436260\n",
      "abs_score = 0.0029639614577959272\n",
      "\n",
      "noise = 2.3357214690901213\n",
      "Train AUC-PR score: 0.438097\n",
      "Test AUC-PR score: 0.435949\n",
      "abs_score = 0.002148206553374332\n",
      "\n",
      "noise = 2.9763514416313175\n",
      "Train AUC-PR score: 0.437872\n",
      "Test AUC-PR score: 0.437140\n",
      "abs_score = 0.0007317984538575684\n",
      "\n",
      "noise = 3.79269019073225\n",
      "Train AUC-PR score: 0.436802\n",
      "Test AUC-PR score: 0.438169\n",
      "abs_score = 0.0013663653266348663\n",
      "\n",
      "noise = 4.832930238571752\n",
      "Train AUC-PR score: 0.437388\n",
      "Test AUC-PR score: 0.441550\n",
      "abs_score = 0.004161736616831724\n",
      "\n",
      "noise = 6.158482110660261\n",
      "Train AUC-PR score: 0.440002\n",
      "Test AUC-PR score: 0.439008\n",
      "abs_score = 0.0009939113038626157\n",
      "\n",
      "noise = 7.847599703514611\n",
      "Train AUC-PR score: 0.444537\n",
      "Test AUC-PR score: 0.431530\n",
      "abs_score = 0.013007169446031586\n",
      "\n",
      "noise = 10.0\n",
      "Train AUC-PR score: 0.441673\n",
      "Test AUC-PR score: 0.437832\n",
      "abs_score = 0.0038418170795518902\n",
      "\n"
     ]
    }
   ],
   "source": [
    "for noise in np.logspace(-1, 1, 20):\n",
    "    col_transformer = ColumnTransformer([\n",
    "        ('MeanTargetEncoding', MeanTargetEncoding(noise), cat_features),\n",
    "        ('StandardScaler', StandardScaler(), num_features)\n",
    "    ])\n",
    "\n",
    "    lr_pipeline = Pipeline([\n",
    "        ('ColumnTransformer', col_transformer),\n",
    "    #     ('StandardScaler', StandardScaler(), num_features),\n",
    "        ('LogisticRegression', LogisticRegression(max_iter=100000, C=1.0))\n",
    "    ])\n",
    "    \n",
    "    lr = lr_pipeline.fit(X_train, y_train)\n",
    "    \n",
    "    y_train_pred = lr.decision_function(X_train)\n",
    "    y_test_pred = lr.decision_function(X_test)\n",
    "    \n",
    "    print(f'noise = {noise}')\n",
    "    print(f'Train AUC-PR score: {pr_auc_score(y_train, y_train_pred):6f}')\n",
    "    print(f'Test AUC-PR score: {pr_auc_score(y_test, y_test_pred):6f}')\n",
    "    abs_score = np.abs(pr_auc_score(y_train, y_train_pred) - pr_auc_score(y_test, y_test_pred))\n",
    "    print(f'abs_score = {abs_score}\\n')"
   ]
  },
  {
   "cell_type": "markdown",
   "metadata": {},
   "source": [
    "**Вывод:** Практически нет никаких изменений, это связано с тем, что признаки изначально имели малую значимость. Поэтому тяжело подобрать оптимальные параметры относительно регулированяи уровян шума.\n",
    "\n",
    "Выбрать хороший шум можно балансирую между качеством и уровнем переобучения. Наблюдаем, что с ростом шума переобучение становится ниже, так как значимость признака становится низкой."
   ]
  },
  {
   "cell_type": "markdown",
   "metadata": {},
   "source": [
    "__(Бонусная часть, 0.5 балла)__ Посчитайте корректные счётчики первым или вторым способов из описанных выше (не забудьте добавить и шум). \n",
    "\n"
   ]
  },
  {
   "cell_type": "code",
   "execution_count": null,
   "metadata": {},
   "outputs": [],
   "source": [
    "#your code here"
   ]
  },
  {
   "cell_type": "markdown",
   "metadata": {},
   "source": [
    "А теперь ответьте на следующий вопрос: что будет, если некоторая категория встречается в выборке всего несколько раз? По этой причине производится сглаживание счётчиков. Например, на практике хорошие результаты показывает использование сглаживания средним по всей выборке:\n",
    "$$\n",
    "g_j(x, X) = \\frac{\\sum_{i=1}^{\\ell} [f_j(x) = f_j(x_i)][y_i = +1] + C \\times global\\_mean}{\\sum_{i=1}^{\\ell} [f_j(x) = f_j(x_i)] + C}\n",
    "$$\n",
    "где $global\\_mean$ — доля объектов положительного класса в выборке, $C$ — параметр, определяющий степень сглаживания (например, можно использовать 10 или подобрать для каждого признака свой). Основная идея в том, что мы \"разбавляем\" среднее значение по некоторой категории глобальным средним значением. И тем меньше, чем большее количество объектов этой категории встречается в выборке. \n",
    "\n",
    "Однако для сглаживания вместо среднего значения целевой переменной можно использовать любое другое значение от 0 до 1 (этот параметр иногда называют $prior$). Можно сделать несколько признаков с разными значениями параметра. На практике в задачах бинарной классификации полезными бывают даже отрицательные значения!\n"
   ]
  },
  {
   "cell_type": "markdown",
   "metadata": {},
   "source": [
    "__Задание 7 (1 балл).__ Добавьте сглаживание, описанное выше и повторите эксперименты."
   ]
  },
  {
   "cell_type": "code",
   "execution_count": 1159,
   "metadata": {},
   "outputs": [],
   "source": [
    "class MeanTargetEncoding(BaseEstimator, TransformerMixin):\n",
    "    def __init__(self, noise=0, C=10):\n",
    "        self.noise = noise\n",
    "        self.encodings = {}\n",
    "        self.C = C\n",
    "    \n",
    "    def smoothing(self, x):  # Сглаживание\n",
    "        positive_count = x.sum() + self.C * self.global_mean\n",
    "        count = x.shape[0] + self.C\n",
    "        return positive_count / count\n",
    "    \n",
    "    def fit(self, X, y):\n",
    "        self.global_mean = y.mean()\n",
    "        X_ = X.copy()\n",
    "        X_['target'] = y.copy()\n",
    "        \n",
    "        for column in X:\n",
    "            # Использование сглаживания - Вариант 1\n",
    "#             numerator = X_.groupby(by=column).sum()['target'] + self.C * y.mean()\n",
    "#             denominator = X_.groupby(by=column).size() + self.C\n",
    "#             self.encodings[column] = numerator / denominator\n",
    "            \n",
    "            # Использование сглаживания - Вариант 2\n",
    "            self.encodings[column] = X_['target'].groupby(X_[column]).agg([self.smoothing])['smoothing']\n",
    "            # Добавление шума - Вариант 1\n",
    "            self.encodings[column] += np.random.normal(scale=self.noise, size=self.encodings[column].shape[0])\n",
    "        return self\n",
    "    \n",
    "    def transform(self, X):\n",
    "        return X.replace(self.encodings)"
   ]
  },
  {
   "cell_type": "code",
   "execution_count": 1160,
   "metadata": {},
   "outputs": [],
   "source": [
    "col_transformer = ColumnTransformer([\n",
    "    ('MeanTargetEncoding', MeanTargetEncoding(), cat_features),\n",
    "    ('StandardScaler', StandardScaler(), num_features)\n",
    "])\n",
    "\n",
    "lr_pipeline = Pipeline([\n",
    "    ('ColumnTransformer', col_transformer),\n",
    "    ('LogisticRegression', LogisticRegression(max_iter=100000, C=1.0))\n",
    "])"
   ]
  },
  {
   "cell_type": "code",
   "execution_count": 1161,
   "metadata": {},
   "outputs": [
    {
     "name": "stdout",
     "output_type": "stream",
     "text": [
      "Wall time: 356 ms\n"
     ]
    }
   ],
   "source": [
    "%%time\n",
    "lr = lr_pipeline.fit(X_train, y_train)"
   ]
  },
  {
   "cell_type": "code",
   "execution_count": 1162,
   "metadata": {},
   "outputs": [
    {
     "name": "stdout",
     "output_type": "stream",
     "text": [
      "Train AUC-PR score: 0.438479\n",
      "Test AUC-PR score: 0.442399\n"
     ]
    }
   ],
   "source": [
    "y_train_pred = lr.decision_function(X_train)\n",
    "y_test_pred = lr.decision_function(X_test)\n",
    "\n",
    "print(f'Train AUC-PR score: {pr_auc_score(y_train, y_train_pred):6f}')\n",
    "print(f'Test AUC-PR score: {pr_auc_score(y_test, y_test_pred):6f}')"
   ]
  },
  {
   "cell_type": "markdown",
   "metadata": {},
   "source": [
    "Результаты без использования сглаживани и шума:\n",
    "\n",
    "Train AUC-PR score: 0.438485\n",
    "\n",
    "Test AUC-PR score: 0.442335\n",
    "\n",
    "Результаты при использовани сглаживани и без шума:\n",
    "\n",
    "Train AUC-PR score: 0.438479\n",
    "\n",
    "Test AUC-PR score: 0.442399"
   ]
  },
  {
   "cell_type": "markdown",
   "metadata": {},
   "source": [
    "__Задание 8 (0.5 балла).__ В данных имеется признак \"возраст клиента\". Сейчас мы интерпретируем его как числовой, что в общем случае для линейной модели может быть неверной гипотезой. Тем не менее, у этого признака есть довольно много уникальных значений (сколько?), поэтому применять к нему one-hot кодирование может оказаться излишним. Попробуйте закодировать возраст с помощью счетчиков. Стало ли лучше?\n",
    "\n"
   ]
  },
  {
   "cell_type": "code",
   "execution_count": 1157,
   "metadata": {},
   "outputs": [
    {
     "data": {
      "text/plain": [
       "76"
      ]
     },
     "execution_count": 1157,
     "metadata": {},
     "output_type": "execute_result"
    }
   ],
   "source": [
    "len(X_train['age'].unique())"
   ]
  },
  {
   "cell_type": "markdown",
   "metadata": {},
   "source": [
    "Всегод 76 уничальных значений возраста."
   ]
  },
  {
   "cell_type": "code",
   "execution_count": 1163,
   "metadata": {},
   "outputs": [
    {
     "data": {
      "text/html": [
       "<div>\n",
       "<style scoped>\n",
       "    .dataframe tbody tr th:only-of-type {\n",
       "        vertical-align: middle;\n",
       "    }\n",
       "\n",
       "    .dataframe tbody tr th {\n",
       "        vertical-align: top;\n",
       "    }\n",
       "\n",
       "    .dataframe thead th {\n",
       "        text-align: right;\n",
       "    }\n",
       "</style>\n",
       "<table border=\"1\" class=\"dataframe\">\n",
       "  <thead>\n",
       "    <tr style=\"text-align: right;\">\n",
       "      <th></th>\n",
       "      <th>age</th>\n",
       "      <th>job</th>\n",
       "      <th>marital</th>\n",
       "      <th>education</th>\n",
       "      <th>default</th>\n",
       "      <th>housing</th>\n",
       "      <th>loan</th>\n",
       "      <th>contact</th>\n",
       "      <th>month</th>\n",
       "      <th>day_of_week</th>\n",
       "      <th>campaign</th>\n",
       "      <th>pdays</th>\n",
       "      <th>previous</th>\n",
       "      <th>poutcome</th>\n",
       "      <th>emp.var.rate</th>\n",
       "      <th>cons.price.idx</th>\n",
       "      <th>cons.conf.idx</th>\n",
       "      <th>euribor3m</th>\n",
       "      <th>nr.employed</th>\n",
       "    </tr>\n",
       "  </thead>\n",
       "  <tbody>\n",
       "    <tr>\n",
       "      <th>38452</th>\n",
       "      <td>98</td>\n",
       "      <td>retired</td>\n",
       "      <td>married</td>\n",
       "      <td>basic.4y</td>\n",
       "      <td>unknown</td>\n",
       "      <td>yes</td>\n",
       "      <td>no</td>\n",
       "      <td>cellular</td>\n",
       "      <td>oct</td>\n",
       "      <td>fri</td>\n",
       "      <td>1</td>\n",
       "      <td>2</td>\n",
       "      <td>2</td>\n",
       "      <td>success</td>\n",
       "      <td>-3.4</td>\n",
       "      <td>92.431</td>\n",
       "      <td>-26.9</td>\n",
       "      <td>0.730</td>\n",
       "      <td>5017.5</td>\n",
       "    </tr>\n",
       "    <tr>\n",
       "      <th>38455</th>\n",
       "      <td>98</td>\n",
       "      <td>retired</td>\n",
       "      <td>married</td>\n",
       "      <td>basic.4y</td>\n",
       "      <td>unknown</td>\n",
       "      <td>yes</td>\n",
       "      <td>no</td>\n",
       "      <td>cellular</td>\n",
       "      <td>oct</td>\n",
       "      <td>fri</td>\n",
       "      <td>2</td>\n",
       "      <td>999</td>\n",
       "      <td>0</td>\n",
       "      <td>nonexistent</td>\n",
       "      <td>-3.4</td>\n",
       "      <td>92.431</td>\n",
       "      <td>-26.9</td>\n",
       "      <td>0.730</td>\n",
       "      <td>5017.5</td>\n",
       "    </tr>\n",
       "    <tr>\n",
       "      <th>37743</th>\n",
       "      <td>87</td>\n",
       "      <td>retired</td>\n",
       "      <td>divorced</td>\n",
       "      <td>basic.4y</td>\n",
       "      <td>no</td>\n",
       "      <td>no</td>\n",
       "      <td>no</td>\n",
       "      <td>cellular</td>\n",
       "      <td>aug</td>\n",
       "      <td>fri</td>\n",
       "      <td>1</td>\n",
       "      <td>999</td>\n",
       "      <td>0</td>\n",
       "      <td>nonexistent</td>\n",
       "      <td>-2.9</td>\n",
       "      <td>92.201</td>\n",
       "      <td>-31.4</td>\n",
       "      <td>0.849</td>\n",
       "      <td>5076.2</td>\n",
       "    </tr>\n",
       "  </tbody>\n",
       "</table>\n",
       "</div>"
      ],
      "text/plain": [
       "       age      job   marital education  default housing loan   contact month  \\\n",
       "38452   98  retired   married  basic.4y  unknown     yes   no  cellular   oct   \n",
       "38455   98  retired   married  basic.4y  unknown     yes   no  cellular   oct   \n",
       "37743   87  retired  divorced  basic.4y       no      no   no  cellular   aug   \n",
       "\n",
       "      day_of_week  campaign  pdays  previous     poutcome  emp.var.rate  \\\n",
       "38452         fri         1      2         2      success          -3.4   \n",
       "38455         fri         2    999         0  nonexistent          -3.4   \n",
       "37743         fri         1    999         0  nonexistent          -2.9   \n",
       "\n",
       "       cons.price.idx  cons.conf.idx  euribor3m  nr.employed  \n",
       "38452          92.431          -26.9      0.730       5017.5  \n",
       "38455          92.431          -26.9      0.730       5017.5  \n",
       "37743          92.201          -31.4      0.849       5076.2  "
      ]
     },
     "execution_count": 1163,
     "metadata": {},
     "output_type": "execute_result"
    }
   ],
   "source": [
    "age_train_unique = set(X_train['age'].unique())\n",
    "age_test_unique = set(X_test['age'].unique())\n",
    "age_test_unique.difference(age_train_unique)\n",
    "X_test[X_test['age'].isin([87, 98])]"
   ]
  },
  {
   "cell_type": "markdown",
   "metadata": {},
   "source": [
    "Таких уникальных в тесте значений всего трое, поэтому можно их безболезненно удалить, чтобы не усложнять слишком сильно трансформер. (Тем более, что не совсмем понятно, как это можно было бы доработать, так как в ohe, например, неизвестные на трейне значений просто игнорируются при обработке теста, а тут игнорировать не получится, нужно присваивать таким элементам тоже какое-то значение, а вот какое, непонятно)."
   ]
  },
  {
   "cell_type": "code",
   "execution_count": null,
   "metadata": {},
   "outputs": [],
   "source": [
    "mask = (~X_test['age'].isin([87, 98]))\n",
    "X_test = X_test.loc[mask]\n",
    "y_test = y_test.loc[mask]"
   ]
  },
  {
   "cell_type": "code",
   "execution_count": 1183,
   "metadata": {},
   "outputs": [],
   "source": [
    "cat_features_new = cat_features + ['age']\n",
    "num_features_new = num_features.copy()\n",
    "num_features_new.remove('age')"
   ]
  },
  {
   "cell_type": "code",
   "execution_count": 1169,
   "metadata": {},
   "outputs": [],
   "source": [
    "col_transformer = ColumnTransformer([\n",
    "    ('MeanTargetEncoding', MeanTargetEncoding(), cat_features_new),\n",
    "    ('StandardScaler', StandardScaler(), num_features_new)\n",
    "])\n",
    "\n",
    "lr_pipeline = Pipeline([\n",
    "    ('ColumnTransformer', col_transformer),\n",
    "    ('LogisticRegression', LogisticRegression(max_iter=100000, C=1.0))\n",
    "])"
   ]
  },
  {
   "cell_type": "code",
   "execution_count": 1170,
   "metadata": {},
   "outputs": [
    {
     "name": "stdout",
     "output_type": "stream",
     "text": [
      "Wall time: 386 ms\n"
     ]
    }
   ],
   "source": [
    "%%time\n",
    "lr = lr_pipeline.fit(X_train, y_train)"
   ]
  },
  {
   "cell_type": "code",
   "execution_count": 1172,
   "metadata": {},
   "outputs": [
    {
     "name": "stdout",
     "output_type": "stream",
     "text": [
      "Train AUC-PR score: 0.441338\n",
      "Test AUC-PR score: 0.440495\n"
     ]
    }
   ],
   "source": [
    "y_train_pred = lr.decision_function(X_train)\n",
    "y_test_pred = lr.decision_function(X_test)\n",
    "\n",
    "print(f'Train AUC-PR score: {pr_auc_score(y_train, y_train_pred):6f}')\n",
    "print(f'Test AUC-PR score: {pr_auc_score(y_test, y_test_pred):6f}')"
   ]
  },
  {
   "cell_type": "markdown",
   "metadata": {},
   "source": [
    "Кодирование `age` MeanTargetEncoding\n",
    "\n",
    "Train AUC-PR score: 0.441338\n",
    "\n",
    "Test AUC-PR score: 0.440495\n",
    "\n",
    "Без использование MeanTargetEncoding:\n",
    "\n",
    "Train AUC-PR score: 0.438479\n",
    "\n",
    "Test AUC-PR score: 0.442399"
   ]
  },
  {
   "cell_type": "markdown",
   "metadata": {},
   "source": [
    "Можно пойти и в обратную сторону. У нас есть признаки \"месяц и день недели\" для звонка. Попробуйте интерпретировать их как числовые (месяц от 0 до 12, дни недели от 0 до 4). Стало ли лучше в этот раз?"
   ]
  },
  {
   "cell_type": "markdown",
   "metadata": {},
   "source": [
    "#### Кодирование"
   ]
  },
  {
   "cell_type": "code",
   "execution_count": 1174,
   "metadata": {},
   "outputs": [],
   "source": [
    "day_code = {'mon' : 0, 'tue' : 1, 'wed' : 2, 'thu' : 3, 'fri' : 4}\n",
    "month_code = {'mar' : 0, 'apr' : 1, 'may' : 2, 'jun' : 3, 'jul' : 5, 'aug' : 6,\n",
    "              'sep' : 7, 'oct' : 8, 'nov' : 9, 'dec' : 10}"
   ]
  },
  {
   "cell_type": "code",
   "execution_count": 1175,
   "metadata": {},
   "outputs": [],
   "source": [
    "X_train['month'] = X_train['month'].map(month_code)\n",
    "X_train['day_of_week'] = X_train['day_of_week'].map(day_code)"
   ]
  },
  {
   "cell_type": "code",
   "execution_count": 1176,
   "metadata": {},
   "outputs": [],
   "source": [
    "X_test['month'] = X_test['month'].map(month_code)\n",
    "X_test['day_of_week'] = X_test['day_of_week'].map(day_code)"
   ]
  },
  {
   "cell_type": "markdown",
   "metadata": {},
   "source": [
    "#### Новые колонки"
   ]
  },
  {
   "cell_type": "code",
   "execution_count": 1184,
   "metadata": {},
   "outputs": [],
   "source": [
    "num_features_new += ['month', 'day_of_week']\n",
    "cat_features_new.remove('month')\n",
    "cat_features_new.remove('day_of_week')"
   ]
  },
  {
   "cell_type": "markdown",
   "metadata": {},
   "source": [
    "#### Обучение"
   ]
  },
  {
   "cell_type": "code",
   "execution_count": 1187,
   "metadata": {},
   "outputs": [
    {
     "name": "stdout",
     "output_type": "stream",
     "text": [
      "Train AUC-PR score: 0.442868\n",
      "Test AUC-PR score: 0.434569\n"
     ]
    }
   ],
   "source": [
    "col_transformer = ColumnTransformer([\n",
    "    ('MeanTargetEncoding', MeanTargetEncoding(), cat_features_new),\n",
    "    ('StandardScaler', StandardScaler(), num_features_new)\n",
    "])\n",
    "\n",
    "lr_pipeline = Pipeline([\n",
    "    ('ColumnTransformer', col_transformer),\n",
    "    ('LogisticRegression', LogisticRegression(max_iter=100000, C=1.0))\n",
    "])\n",
    "\n",
    "lr = lr_pipeline.fit(X_train, y_train)\n",
    "\n",
    "y_train_pred = lr.decision_function(X_train)\n",
    "y_test_pred = lr.decision_function(X_test)\n",
    "\n",
    "print(f'Train AUC-PR score: {pr_auc_score(y_train, y_train_pred):6f}')\n",
    "print(f'Test AUC-PR score: {pr_auc_score(y_test, y_test_pred):6f}')"
   ]
  },
  {
   "cell_type": "markdown",
   "metadata": {},
   "source": [
    "Кодирование `month`, `day_of_week` числом:\n",
    "\n",
    "Train AUC-PR score: 0.442868\n",
    "\n",
    "Test AUC-PR score: 0.434569\n",
    "\n",
    "Кодирование `month`, `day_of_week` MeanTargetEncoding:\n",
    "\n",
    "Train AUC-PR score: 0.441338\n",
    "\n",
    "Test AUC-PR score: 0.440495\n",
    "\n",
    "Наблюдаем после кодирования `month`, `day_of_week` числом небольшой эффект переобучения."
   ]
  },
  {
   "cell_type": "markdown",
   "metadata": {},
   "source": [
    "__Замечание.__ Усложнение методов вычисления счётчиков не делают результаты модели гарантированно лучше. Особенно с учётом того, что логистическая регрессия не такая сложная модель, чтобы переобучаться. Поэтому вы необязательно должны были получать на каждом шаге всё лучшие и лучшие результаты (но необходимые результаты у вас должны были получиться).\n",
    "\n",
    "Как вы должны были заметить, счётчики являются хорошей альтернативой one-hot-кодированию. Напишите, какие плюсы и минусы использования счётчиков по сравнению с one-hot-кодированием вы заметили.\n",
    "\n",
    "__Ответ:__ явный плюс использования счётчиков по сравнению с ohe - это более быстрое кодирование признаков и обучение модели, так как счётчики, в отличие от ohe не порождают такое количество новых признаков. Но, тем не менее, ohe показывает лучший результат, чем счётчики. Возможно, что при использовании другой модели, вместо линейной регессии результат был бы другим, но тем не менее, имеем, что имеем.\n",
    "\n",
    "Так же, можно заметить, что использование ohe, например при обучении деревьев было бы крайне плохой идеей, так как дереья будут очень долго обучаться на выборке с большим количеством признаков, порождённым ohe. Но ещё большей проблемой моежт стать то, что деревья очень любят переобучаться, поэтому для этого семейства моделей ohe имеет гораздо больше минусов по сравнению с счётчиками."
   ]
  },
  {
   "cell_type": "markdown",
   "metadata": {},
   "source": [
    "# Часть 2. Отбор признаков"
   ]
  },
  {
   "cell_type": "markdown",
   "metadata": {},
   "source": [
    "Важной частью процесса построения модели является отбор признаков. На практике многие признаки оказывают малое влияние на модель (при этом их расчёт занимает время) или даже негативно сказываются на качестве модели. Попробуем несколько подходов отбора признаков, оценим, как они влияют на качество модели и сколько времени занимают.\n",
    "\n",
    "Обратимся к тем же данным про банковский телефонный маркетинг."
   ]
  },
  {
   "cell_type": "code",
   "execution_count": 1324,
   "metadata": {},
   "outputs": [],
   "source": [
    "df = pd.read_csv('input/04_bank-additional/bank-additional-full.csv', sep=';')\n",
    "\n",
    "X = df.drop(columns=['duration', 'y'])\n",
    "y = (df.y == 'yes')\n",
    "\n",
    "X_train, X_test, y_train, y_test = train_test_split(X, y, test_size=0.2, random_state=777, stratify=y)"
   ]
  },
  {
   "cell_type": "markdown",
   "metadata": {},
   "source": [
    "Как вы помните, в данных много категориальных признаков (сейчас давайте интерпретировать возраст как числовой). Давайте закодируем их с помощью one-hot кодирования. Исходные колонки с категориальными признаками можно удалить. Сколько признаков мы получили?"
   ]
  },
  {
   "cell_type": "code",
   "execution_count": 1325,
   "metadata": {},
   "outputs": [],
   "source": [
    "cat_features = [\n",
    "    'job', 'marital', 'education', 'default', 'housing', 'loan', 'contact',\n",
    "    'month', 'day_of_week', 'poutcome'\n",
    "]\n",
    "num_features = [\n",
    "    'age', 'campaign', 'pdays', 'previous', 'emp.var.rate', 'cons.price.idx',\n",
    "    'cons.conf.idx', 'euribor3m', 'nr.employed'\n",
    "]"
   ]
  },
  {
   "cell_type": "code",
   "execution_count": 1326,
   "metadata": {},
   "outputs": [
    {
     "name": "stdout",
     "output_type": "stream",
     "text": [
      "Was 19 features\n",
      "Now 19 features\n"
     ]
    }
   ],
   "source": [
    "print(f'Was {X.shape[1]} features')\n",
    "\n",
    "column_transformer = ColumnTransformer(\n",
    "    [('ohe', OneHotEncoder(handle_unknown='ignore'), cat_features)],\n",
    "    remainder='passthrough',\n",
    ")\n",
    "\n",
    "X_transform = column_transformer.fit_transform(X)\n",
    "X_train, X_test, y_train, y_test = train_test_split(X_transform, y, test_size=0.2, random_state=777, stratify=y)\n",
    "\n",
    "print(f'Now {X.shape[1]} features')"
   ]
  },
  {
   "cell_type": "markdown",
   "metadata": {},
   "source": [
    "В качестве основной модели будем использовать логистическую регрессию, а целевой метрики — `AUC-PR`. Обучите модель и посчитайте качество на тестовой выборке. Давайте запомним полученное значение."
   ]
  },
  {
   "cell_type": "code",
   "execution_count": 1296,
   "metadata": {},
   "outputs": [
    {
     "name": "stdout",
     "output_type": "stream",
     "text": [
      "Train AUC-PR score: 0.445117\n",
      "Test AUC-PR score: 0.442069\n"
     ]
    }
   ],
   "source": [
    "lr = LogisticRegression(max_iter=100000).fit(X_train_mod, y_train)\n",
    "\n",
    "y_train_pred = lr.decision_function(X_train_mod)\n",
    "y_test_pred = lr.decision_function(X_test_mod)\n",
    "\n",
    "print(f'Train AUC-PR score: {pr_auc_score(y_train, y_train_pred):6f}')\n",
    "print(f'Test AUC-PR score: {pr_auc_score(y_test, y_test_pred):6f}')"
   ]
  },
  {
   "cell_type": "markdown",
   "metadata": {},
   "source": [
    "### Встроенные методы"
   ]
  },
  {
   "cell_type": "markdown",
   "metadata": {},
   "source": [
    "Допустим, мы хотим оставить только 40 лучших признаков. Попробуем сделать это несколькими способами.\n",
    "\n",
    "Начнём с отборам признаков с помощью линейной модели. Как известно, веса линейной модели означают вклад каждого признака в предсказание модели, а значит, модуль этого вклада можно интерпретировать как важность признаков. Такой метод отбора называются встроенным или embedded method, так как он заложен в особенности модели.\n",
    "\n",
    "__Задание 8 (0.5 балла).__ Оставьте 40 признаков с наибольшим модулем соответствующего параметра линейной модели. Обучите модели заново и оцените её качество. Замерьте скорость такого отбора признаков.\n",
    "\n",
    "Изменилось ли качество? Как?\n",
    "\n"
   ]
  },
  {
   "cell_type": "code",
   "execution_count": 1321,
   "metadata": {},
   "outputs": [
    {
     "data": {
      "text/plain": [
       "array([[ 0.0000e+00,  0.0000e+00,  0.0000e+00, ..., -4.2000e+01,\n",
       "         4.1910e+00,  5.1958e+03],\n",
       "       [ 0.0000e+00,  0.0000e+00,  0.0000e+00, ..., -3.6100e+01,\n",
       "         4.9650e+00,  5.2281e+03],\n",
       "       [ 0.0000e+00,  0.0000e+00,  0.0000e+00, ..., -4.6200e+01,\n",
       "         1.2810e+00,  5.0991e+03],\n",
       "       ...,\n",
       "       [ 0.0000e+00,  1.0000e+00,  0.0000e+00, ..., -4.2700e+01,\n",
       "         4.9620e+00,  5.2281e+03],\n",
       "       [ 0.0000e+00,  0.0000e+00,  0.0000e+00, ..., -4.6200e+01,\n",
       "         1.3340e+00,  5.0991e+03],\n",
       "       [ 0.0000e+00,  1.0000e+00,  0.0000e+00, ..., -3.6100e+01,\n",
       "         4.9660e+00,  5.2281e+03]])"
      ]
     },
     "execution_count": 1321,
     "metadata": {},
     "output_type": "execute_result"
    }
   ],
   "source": [
    "X_train_mod"
   ]
  },
  {
   "cell_type": "code",
   "execution_count": 1319,
   "metadata": {},
   "outputs": [
    {
     "ename": "AttributeError",
     "evalue": "'numpy.ndarray' object has no attribute 'columns'",
     "output_type": "error",
     "traceback": [
      "\u001b[1;31m---------------------------------------------------------------------------\u001b[0m",
      "\u001b[1;31mAttributeError\u001b[0m                            Traceback (most recent call last)",
      "\u001b[1;32m<timed exec>\u001b[0m in \u001b[0;36m<module>\u001b[1;34m\u001b[0m\n",
      "\u001b[1;31mAttributeError\u001b[0m: 'numpy.ndarray' object has no attribute 'columns'"
     ]
    }
   ],
   "source": [
    "%%time\n",
    "sorted_coefs = list(np.argsort(-np.abs(lr.coef_))[0][:40])\n",
    "\n",
    "best_columns = []\n",
    "for i, col_name in enumerate(X_train_mod.columns):\n",
    "    if i in sorted_coefs:\n",
    "        best_columns.append(col_name)"
   ]
  },
  {
   "cell_type": "code",
   "execution_count": 1318,
   "metadata": {},
   "outputs": [
    {
     "data": {
      "text/plain": [
       "['age',\n",
       " 'job',\n",
       " 'housing',\n",
       " 'contact',\n",
       " 'month',\n",
       " 'day_of_week',\n",
       " 'poutcome',\n",
       " 'emp.var.rate',\n",
       " 'cons.conf.idx',\n",
       " 'nr.employed']"
      ]
     },
     "execution_count": 1318,
     "metadata": {},
     "output_type": "execute_result"
    }
   ],
   "source": [
    "best_columns"
   ]
  },
  {
   "cell_type": "code",
   "execution_count": 1317,
   "metadata": {},
   "outputs": [
    {
     "name": "stdout",
     "output_type": "stream",
     "text": [
      "Wall time: 451 ms\n"
     ]
    }
   ],
   "source": [
    "%%time\n",
    "_ = X.T[np.argsort(np.abs(lr.coef_[0]))[:40]].T"
   ]
  },
  {
   "cell_type": "markdown",
   "metadata": {},
   "source": [
    "А теперь давайте подумаем, что мы не учли. Мы предположили, что признаки вносят вклад равномерно, но не учли их масштаба. Если мы умножим один из признаков в 100 раз, то без учёта регуляризации его вес уменьшится в эти же 100 раз. А мы на основе этого отбираем признаки! Давайте сначала отмасштабируем признаки одним из способов, а только потом будем удалять признаки. \n",
    "\n",
    "Кстати, в таком случае надо пересчитать качество на всех признаках (сделайте это ниже). Если вы сделали нормирование признаков в самом начале, то попробуйте отобрать признаки на неотмасштабированных данных.\n",
    "\n",
    "Что получилось?"
   ]
  },
  {
   "cell_type": "code",
   "execution_count": 1290,
   "metadata": {},
   "outputs": [],
   "source": [
    "col_transformer = ColumnTransformer([\n",
    "    ('StandardScaler', StandardScaler(), num_features)],\n",
    "    remainder='passthrough')\n",
    "\n",
    "lr_pipeline = Pipeline([\n",
    "    ('ColumnTransformer', col_transformer),\n",
    "    ('LogisticRegression', LogisticRegression(max_iter=100000, C=1.0))\n",
    "])"
   ]
  },
  {
   "cell_type": "code",
   "execution_count": 1291,
   "metadata": {},
   "outputs": [
    {
     "name": "stdout",
     "output_type": "stream",
     "text": [
      "Train AUC-PR score: 0.458609\n",
      "Test AUC-PR score: 0.447419\n"
     ]
    }
   ],
   "source": [
    "lr = lr_pipeline.fit(X_train_mod, y_train)\n",
    "\n",
    "y_train_pred = lr.decision_function(X_train_mod)\n",
    "y_test_pred = lr.decision_function(X_test_mod)\n",
    "\n",
    "print(f'Train AUC-PR score: {pr_auc_score(y_train, y_train_pred):6f}')\n",
    "print(f'Test AUC-PR score: {pr_auc_score(y_test, y_test_pred):6f}')"
   ]
  },
  {
   "cell_type": "code",
   "execution_count": null,
   "metadata": {},
   "outputs": [],
   "source": [
    "#your code here"
   ]
  },
  {
   "cell_type": "markdown",
   "metadata": {},
   "source": [
    "Вопрос на засыпку: one-hot кодирование возвращает нам единичные признаки-индикаторы. Попробуйте также отскалировать их, как и обычные числовые, и снова выбрать 40 главных по вкладу признаков. Изменился ли их список? Изменится ли качество?"
   ]
  },
  {
   "cell_type": "code",
   "execution_count": null,
   "metadata": {},
   "outputs": [],
   "source": [
    "#your code here"
   ]
  },
  {
   "cell_type": "markdown",
   "metadata": {},
   "source": [
    "### Методы фильтрации\n",
    "\n",
    "\n",
    "Давайте отбирать признаки умнее, а именно через подсчёт некоторой функции для каждого признака. На основании значений этой функции будем оставлять наиболее важные признаки. Методы этого семейства называют фильтрующими или  filter methods. \n",
    "\n",
    "В качестве такой функции будем считать t-статистику:\n",
    "\n",
    "$$t(j) = \\frac{|\\mu_+ - \\mu_-|}{\\sqrt{\\frac{n_+ \\sigma^2_+ + n_- \\sigma^2_-}{n_+ + n_-}}},$$\n",
    "\n",
    "где $\\mu$, $\\sigma$, $n$ соответственно среднее, стандартное отклонение и количество объектов каждого из классов.\n",
    "\n",
    "__Задание 9 (0.5 балла).__ Оставьте 40 признаков с наибольшим значением $t$ и замерьте качество. Не забудьте замерить скорость отбора признаков в этом случае.\n",
    "\n"
   ]
  },
  {
   "cell_type": "code",
   "execution_count": null,
   "metadata": {},
   "outputs": [],
   "source": [
    "#your code here"
   ]
  },
  {
   "cell_type": "markdown",
   "metadata": {},
   "source": [
    "### Методы-обёртки\n",
    "\n",
    "__Задание 10 (1 балл).__ \n",
    "\n",
    "Третий из рассматриваемых нами методов работает следующим образом: мы исключаем по очереди один из признаков и смотрим, как это влияет на качество. Удаляем признаки таким жадным способом, пока не окажется выполненым некоторое условие (количество признаков или ухудшение качества).\n",
    "\n",
    "Заметим, что нельзя оценивать качество по тестовой выборке, иначе мы можем переобучиться, как, например, при настройке гиперпараметров. Разделите обучающую выборку на 2 части, на одной из них обучайте модель без одного из признаков,  на второй части оценивайте качество. Исходную тестовую выборку стоит использовать только для финальной оценки качества.\n",
    "\n",
    "Снова оставьте только 40 признаков и оцените качество на тестовой выборке. Сколько времени занял такой отбор признаков?"
   ]
  },
  {
   "cell_type": "code",
   "execution_count": null,
   "metadata": {},
   "outputs": [],
   "source": [
    "#your code here"
   ]
  },
  {
   "cell_type": "markdown",
   "metadata": {},
   "source": [
    "Стоит отметить, что с помощью такого метода можно пойти и в обратную сторону. Попробуйте _добавлять_ по одному самому полезному признаку в выборку до тех пор, пока не наберется 40 штук. Найдется ли порог, при котором добавление следующих признаков будет только ухудшать качество модели?"
   ]
  },
  {
   "cell_type": "code",
   "execution_count": null,
   "metadata": {},
   "outputs": [],
   "source": [
    "#your code here"
   ]
  },
  {
   "cell_type": "markdown",
   "metadata": {},
   "source": [
    "Давайте подведём итоги по отбору признаков. Назовите преимущества и недостатки каждого из методов. Какой метод привёл к наилучшему качеству?\n",
    "\n",
    "**Ответ:** "
   ]
  },
  {
   "cell_type": "markdown",
   "metadata": {},
   "source": [
    "# Часть 3. Оценка экономического эффекта модели\n",
    "\n",
    "В данной части мы займемся тем, что от вас скорее всего потребуется на реальной работе (помимо перекладки `json`, разумеется). А именно: мы соберем несколько специализированных метрик качества, попытаемся настроить модель на максимизацию _прибыли_ и оценим, сколько вообще получится заработать на этом. Разумеется, здесь будет сделано множество упрощающих жизнь допущений, но обо всем по порядку. \n",
    "\n",
    "__Задание 11 (1 балл).__ Допустим, работники вашего колл-центра получают за один звонок клиенту 1 доллар. При согласии клиента на предлагаемые условия он принесет в банк 10 долларов.\n",
    "\n",
    "Если вы всё прослушали на экономике, то напомним, что выручка — это сколько денег нам принесли клиенты, а прибыль — выручка за вычетом расходов на зарплату и прочее.\n",
    "\n",
    "Загрузите данные о телемаркетинге из предыдущего блока заданий. В этой части не нужно делить выборку - мы будем использовать кросс-валидацию. Используйте 5 фолдов, сделайте `shuffle=True, random_state=500`. По кросс-валидации у вас получится 5 вариантов обучающей и тестовой выборки. Обучите логистическую регрессию на каждой обучающей выборке (воспользуйтесь one-hot для категориальных признаков, гиперпараметры оставьте со значениями по умолчанию) и сделайте предсказания для соответствующих тестовых выборок. Допустим, всем положительным прогнозам ваши сотрудники решили позвонить. Посчитайте на всех тестовых выборках выручку и усредните. Сколько денег вы в среднем заработаете? Также вычислите стандартное отклонение.\n",
    "\n",
    "Сколько из заработанных денег придётся отдать операторам вашего колл-центра?"
   ]
  },
  {
   "cell_type": "code",
   "execution_count": null,
   "metadata": {},
   "outputs": [],
   "source": [
    "#your code here"
   ]
  },
  {
   "cell_type": "markdown",
   "metadata": {},
   "source": [
    "Внесем некоторую долю случайности. Пусть теперь согласный на условия клиент будет приносить не 10 долларов, а случайную величину, равномерно распределенную в интервале $[0;20)$. Проделайте все те же самые действия. Для имитации реальной ситуации **НЕ** фиксируйте `random_seed` при подсчете выручки с клиента. Что получилось?"
   ]
  },
  {
   "cell_type": "code",
   "execution_count": null,
   "metadata": {},
   "outputs": [],
   "source": [
    "#your code here"
   ]
  },
  {
   "cell_type": "markdown",
   "metadata": {},
   "source": [
    "Настройте по кросс-валидации коэффициент регуляризации модели для максимизации прибыли (считайте как случайную величину выше). Удалось ли получить какой-то выигрыш? При каком коэффициенте регуляризациии прибыль максимальна? Постройте график зависимости ожидаемой прибыли от коэффициента, также укажите стандартные отклонения (вам поможет `plt.errorbar`)."
   ]
  },
  {
   "cell_type": "code",
   "execution_count": null,
   "metadata": {},
   "outputs": [],
   "source": [
    "#your code here"
   ]
  },
  {
   "cell_type": "markdown",
   "metadata": {},
   "source": [
    "Попробуйте запустить перебор несколько раз. Находится ли каждый раз один и тот же \"лучший\" коэффициент? Присутствует ли какая-то закономерность? Какие вы можете сделать из этого выводы?"
   ]
  },
  {
   "cell_type": "code",
   "execution_count": null,
   "metadata": {},
   "outputs": [],
   "source": [
    "#your code here"
   ]
  },
  {
   "cell_type": "markdown",
   "metadata": {},
   "source": [
    "__Задание 12 (1 балл).__ Выше мы уже описали примерную экономическую модель вашей задачи. Как вы считаете, что для вашего бизнеса важнее — хороший precision или recall модели? Почему?\n",
    "\n",
    "__Ответ:__\n",
    "\n"
   ]
  },
  {
   "cell_type": "markdown",
   "metadata": {},
   "source": [
    "Вспомним, что на самом деле логистическая регрессия предсказывает нам вероятности положительного класса для объекта. Возможно, путем настройки порога бинаризации этих вероятностей мы сможем получить какой-то выигрыш? Проверьте ваши рассуждения выше с помощью настройки порога бинаризации на кросс-валидации для максимизации прибыли. Воспользуйтесь сеткой от 0 до 1 с шагом 0.01. Напомним, что снижение порога дает нам более высокий recall и более низкий precision, и наоборот."
   ]
  },
  {
   "cell_type": "code",
   "execution_count": null,
   "metadata": {},
   "outputs": [],
   "source": [
    "#your code here"
   ]
  },
  {
   "cell_type": "markdown",
   "metadata": {},
   "source": [
    "Постройте график зависимости прибыли от порога бинаризации, также отметьте на нем стандартные отклонения. Выделите наилучший порог. \n",
    "\n",
    "\n",
    "__Вопрос:__ Замечаете ли вы какую-то закономерность? Для правильного ответа на этот вопрос попробуйте запустить несколько раз и задумайтесь, почему порог получается в какой-то конкретной области?"
   ]
  },
  {
   "cell_type": "code",
   "execution_count": null,
   "metadata": {},
   "outputs": [],
   "source": [
    "#your code here"
   ]
  },
  {
   "cell_type": "markdown",
   "metadata": {},
   "source": [
    "Каковы значения precision и recall на выбранном пороге? Оцените по кросс-валидации. Также вычислите стандартное отклонение."
   ]
  },
  {
   "cell_type": "code",
   "execution_count": null,
   "metadata": {},
   "outputs": [],
   "source": [
    "#your code here"
   ]
  },
  {
   "cell_type": "markdown",
   "metadata": {},
   "source": [
    "Как вы, вероятно, уже поняли, ваша модель склоняется к более высокому recall. Попробуйте оценить качество модели с помощью `PR-AUC` в зоне recall $\\geq$ 0.5. Сделайте это следующим образом - выберите только те пороги, на которых достигается необходимый recall, затем интерпретируйте отсеченный в единичном квадрате прямоугольник как новый единичный квадрат и посчитайте площадь под отсеченной кривой. "
   ]
  },
  {
   "cell_type": "code",
   "execution_count": null,
   "metadata": {},
   "outputs": [],
   "source": [
    "#your code here"
   ]
  },
  {
   "cell_type": "markdown",
   "metadata": {},
   "source": [
    "__Бонус (0.01 балла):__ что вы кушали в день сдачи данного ДЗ на завтрак?\n",
    "\n",
    "__Ответ:__"
   ]
  },
  {
   "cell_type": "markdown",
   "metadata": {},
   "source": [
    "__Социализационный бонус (0.1 балл).__\n",
    "Введены новые ограничения, занятия теперь дистанционные. Но это не значит, что не надо общаться с друзьями! Созвонитесь в зуме (или любым другим способом) хотя бы с двумя студентами курса МО-1 этого года, приложите скриншот созвона с включенными камерами и напишите очень кратко, на какие темы были беседы.\n",
    "\n",
    "__Ответ:__"
   ]
  }
 ],
 "metadata": {
  "kernelspec": {
   "display_name": "Python 3 (ipykernel)",
   "language": "python",
   "name": "python3"
  },
  "language_info": {
   "codemirror_mode": {
    "name": "ipython",
    "version": 3
   },
   "file_extension": ".py",
   "mimetype": "text/x-python",
   "name": "python",
   "nbconvert_exporter": "python",
   "pygments_lexer": "ipython3",
   "version": "3.9.7"
  },
  "varInspector": {
   "cols": {
    "lenName": 16,
    "lenType": 16,
    "lenVar": 40
   },
   "kernels_config": {
    "python": {
     "delete_cmd_postfix": "",
     "delete_cmd_prefix": "del ",
     "library": "var_list.py",
     "varRefreshCmd": "print(var_dic_list())"
    },
    "r": {
     "delete_cmd_postfix": ") ",
     "delete_cmd_prefix": "rm(",
     "library": "var_list.r",
     "varRefreshCmd": "cat(var_dic_list()) "
    }
   },
   "types_to_exclude": [
    "module",
    "function",
    "builtin_function_or_method",
    "instance",
    "_Feature"
   ],
   "window_display": false
  }
 },
 "nbformat": 4,
 "nbformat_minor": 4
}
