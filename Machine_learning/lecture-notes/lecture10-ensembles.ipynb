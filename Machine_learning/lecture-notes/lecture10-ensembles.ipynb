{
 "cells": [
  {
   "cell_type": "markdown",
   "id": "b7c68486",
   "metadata": {},
   "source": [
    "<h1 style=\"color:black\" align=\"center\">Градиентный бустинг</h1>\n",
    "\n",
    "Ранее мы изучили бэггинг и случайные леса — подходы к построению композиций, которые независимо обучают каждый базовый алгоритм по некоторому подмножеству обучающих данных. При этом возникает ощущение, что мы используем возможности объединения алгоритмов не в полную силу, и можно было бы строить их так, чтобы каждая следующая модель исправляла ошибки предыдущих. Ниже мы рассмотрим метод, который реализует эту идею — градиентный бустинг, предложенный Фридманом [1]. Он работает для любых дифференцируемых функций потерь и является одним из наиболее мощных и универсальных на сегодняшний день.\n",
    "\n",
    "<h1 style=\"color:#008B8B\">1. Бустинг в задаче регрессии</h1>\n",
    "\n",
    "Рассмотрим задачу минимизации квадратичного функционала:\n",
    "\n",
    "$\\large \\frac{1}{\\ell}\n",
    "\\sum\\limits_{i = 1}^{\\ell}\n",
    "    (a(x_i) - y_i)^2\n",
    "\\to\n",
    "\\underset{a}{\\text{min}}$\n",
    "\n",
    "Будем искать итоговый алгоритм в виде суммы *базовых моделей* (weak learners) $b_n(x)$:\n",
    "\n",
    "$\\large a_N(x)\n",
    "=\n",
    "\\sum\\limits_{n = 1}^{N}\n",
    "    b_n(x)$\n",
    "\n",
    "где базовые алгоритмы $b_n$ принадлежат некоторому семейству $\\mathbb{A}$. Построим первый базовый алгоритм по всем базовым моделям $b \\in \\mathbb{A}$:\n",
    "\n",
    "$\\large a_1(x) = b_1(x)\n",
    ":=\n",
    "\\underset{b \\in \\mathbb{A}}{\\text{argmin}}\n",
    "    \\frac{1}{\\ell}\n",
    "    \\sum\\limits_{i = 1}^{\\ell}\n",
    "        (b(x_i) - y_i)^2$\n",
    "        \n",
    "Посчитаем насколько базовая модель ошибается на каждом объете:\n",
    "\n",
    "$\\large s_i^{(1)} = y_i - a_1(x_i)$ - сдвиги\n",
    "\n",
    "\n",
    "Если прибавить эти остатки к ответам построенного алгоритма, то он не будет допускать ошибок на обучающей выборке. Значит, будет разумно построить второй алгоритм так, чтобы его ответы были как можно ближе к остаткам:\n",
    "\n",
    "$\\large b_2(x)\n",
    ":=\n",
    "\\underset{b \\in \\mathbb{A}}{\\text{argmin}}\n",
    "    \\frac{1}{\\ell}\n",
    "    \\sum\\limits_{i = 1}^{\\ell}\n",
    "        (b(x_i) - s_i^{(1)})^2$\n",
    "        \n",
    "Если $b_2$ идеальна, тогда мы берем копозицию из двух моделей и она будет всюду выдавать правиьный овет $y_i$:\n",
    "\n",
    "$\\large a_2(x_i) = b_1(x_i) + s_i^{(1)} = b_1(x_i) + y_i - a_1(x_i) = y_i$\n",
    "\n",
    "Так как зачастую этого недостаточно, тогда мы посчитаем следующие сдвиги:\n",
    "\n",
    "$\\large s_i^{(2)} = y_i - a_2(x_i)$ - сдвиги\n",
    "\n",
    "Каждый следующий алгоритм тоже будем настраивать на остатки предыдущих:\n",
    "\n",
    "\n",
    "$\\large s_i^{(N)} = \n",
    "y_i - \\sum\\limits_{n = 1}^{N - 1} b_n(x_i)\n",
    "=\n",
    "y_i\n",
    "-\n",
    "a_{N - 1}(x_i)\n",
    "\\qquad\n",
    "i = 1, \\dots, \\ell$\n",
    "\n",
    "$\\large b_N(x)\n",
    ":=\n",
    "\\underset{b \\in \\mathbb{A}}{\\text{argmin}}\n",
    "    \\frac{1}{\\ell}\n",
    "    \\sum\\limits_{i = 1}^{\\ell}\n",
    "        (b(x_i) - s_i^{(N)})^2$"
   ]
  },
  {
   "cell_type": "markdown",
   "id": "dd7353b0",
   "metadata": {},
   "source": [
    "<h1 style=\"color:#008B8B\">2. Градиентный бустинг</h1>"
   ]
  },
  {
   "cell_type": "code",
   "execution_count": null,
   "id": "7117d760",
   "metadata": {},
   "outputs": [],
   "source": []
  }
 ],
 "metadata": {
  "kernelspec": {
   "display_name": "Python 3 (ipykernel)",
   "language": "python",
   "name": "python3"
  },
  "language_info": {
   "codemirror_mode": {
    "name": "ipython",
    "version": 3
   },
   "file_extension": ".py",
   "mimetype": "text/x-python",
   "name": "python",
   "nbconvert_exporter": "python",
   "pygments_lexer": "ipython3",
   "version": "3.9.7"
  },
  "varInspector": {
   "cols": {
    "lenName": 16,
    "lenType": 16,
    "lenVar": 40
   },
   "kernels_config": {
    "python": {
     "delete_cmd_postfix": "",
     "delete_cmd_prefix": "del ",
     "library": "var_list.py",
     "varRefreshCmd": "print(var_dic_list())"
    },
    "r": {
     "delete_cmd_postfix": ") ",
     "delete_cmd_prefix": "rm(",
     "library": "var_list.r",
     "varRefreshCmd": "cat(var_dic_list()) "
    }
   },
   "types_to_exclude": [
    "module",
    "function",
    "builtin_function_or_method",
    "instance",
    "_Feature"
   ],
   "window_display": false
  }
 },
 "nbformat": 4,
 "nbformat_minor": 5
}
