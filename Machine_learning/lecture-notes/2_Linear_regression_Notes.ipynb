{
 "cells": [
  {
   "cell_type": "markdown",
   "metadata": {},
   "source": [
    "<h1 style=\"color:black\" align=\"center\">Линейная регрессия</h1>\n",
    "\n",
    "<h1 style=\"color:#008B8B\">1. Линейные модели</h1>\n",
    "\n",
    "Такие модели сводятся к суммированию значений признаков с некоторыми весами:\n",
    "\n",
    "$\\large a(x) = w_0 + \\sum\\limits_{j=1}^d w_j x_j$\n",
    "\n",
    "Параметрами модели являются веса или коэффициенты $w_j$. Вес $w_0$ также называется\n",
    "свободным коэффициентом или сдвигом (bias).\n",
    "\n",
    "Добавим фиктивный признак равный $1$, тогда запись можно упросить до следующего вида:\n",
    "\n",
    "$\\large a(x) = \\sum\\limits_{j=0}^d w_j x_j$\n",
    "\n",
    "$\\large a(x) = \\langle w, x \\rangle$"
   ]
  },
  {
   "cell_type": "markdown",
   "metadata": {},
   "source": [
    "<h1 style=\"color:#008B8B\">2. Область применимости линейных моедлей</h1>\n",
    "\n",
    "Сформулируем задачу: \n",
    "\n",
    "$x$ - кваритра в Москве;\n",
    "\n",
    "$y$ - рычночная стоимость.\n",
    "\n",
    "$\\large a(x) = w_0 + w_1 \\text{(площадь)} + w_2\\text{(количество комнат)} + w_2 \\text{(расстояние до метро)}$\n",
    "\n",
    "Проблема модели заключается в том, что признаки независимо влияют на стоимость квартиры. Если увеличиваетя площадь квартиры, то цена увеличивается только засчёт площади квартиры в линейном виде, при этом растрояние до метро и все остальные признаки не оказывают влияния.\n",
    "Например, если квартира расположена близко от метро, то цена должна увеличиваться быстрее при росте площади."
   ]
  },
  {
   "cell_type": "markdown",
   "metadata": {},
   "source": [
    "### 1) Категориальные признаки\n",
    "\n",
    "$x_j$ - категориальные признаки\n",
    "\n",
    "$C = \\{c_1, \\ldots, c_m\\}$ - множество значений признака\n",
    "\n",
    "Заменим на $m$ бинарных признаков $b_1(x), \\ldots, b_m(x)$, где $b_i(x) = [x_j = c_i]$.\n",
    "\n",
    "При этом, признаки $b_1(x), \\ldots, b_m(x)$ являются линейно зависимыми: \n",
    "\n",
    "$b_1(x) + \\ldots + b_m(x) = 1$\n",
    "\n",
    "И модель принимает следующий вид:\n",
    "\n",
    "$\\large a(x) = w_0 + w_1 [x_j = c_1] + \\ldots + w_m [x_j = c_m] + \\text{\\{Взаимодействие других признаков\\}}$\n",
    "\n",
    "После этого, для каждого района Москвы будет свой коэффицент, своя добавка."
   ]
  },
  {
   "cell_type": "markdown",
   "metadata": {},
   "source": [
    "### 2) Бинаризация числовых признаков\n",
    "\n",
    "На графике видно, что цена квартиры имеет максимальную стоимость, если расположены на относительном расстоянии от метро. Если же квартира очень близко или далекто от метро, тогда стоимость начинает падать:\n",
    "\n",
    "<img src=\"img/2_1.png\">\n",
    "\n",
    "Если обучать модель линейной регресси, тогда этот признак будет иметь вид $w_3 \\cdot \\text{(расстояние до метро)}$. Тогда модель предпологает, чем дальше расстояние до метро, тем больше цена или если $-w$ отрицателен, тогда чем больше расстояние до метро, тем ниже цена.\n",
    "\n",
    "Но на графике зависимость целевовй переменной совершенно другая. Линейная модель не способна учитывать такую форму распределения.Чтобы это произошло, необходимо применить бинаризацию числовых признаков, а именно, разобъём множество значений признака на бины:\n",
    "\n",
    "<img src=\"img/2_2.png\">\n",
    "\n",
    "Возьмем множество значений признака и разобъем на некоторое количество бинов. Для этого выберем некоторую сетку точек $\\{t_1, \\ldots, t_m\\}$ (пороги). Это может быть равномерная сетка между минимальным и максимальным значением признака или, например, сетка из эмпирических квантилей. Добавим сюда точки $t_0 = -\\infty$ и $t_{m+1} = +\\infty$. Новые признаки зададим как\n",
    "\n",
    "$b_i(x)\n",
    "=\n",
    "[t_{i - 1} < x_j \\leq t_{i}],\n",
    "\\quad\n",
    "i = 1, \\dots, m+1.$\n",
    "\n",
    "\n",
    "Линейная модель над этими признаками будет выглядеть как\n",
    "\n",
    "$a(x)\n",
    "=\n",
    "w_1 [t_{0} < x_j \\leq t_{1}]\n",
    "+\n",
    "\\dots\n",
    "+\n",
    "w_{m+1} [t_{m} < x_j \\leq t_{m+1}]\n",
    "+\n",
    "\\dots$\n",
    "\n",
    "Тогда, для каждого диапозона растояний до метро будет своя прибавка или вычет к общему прогноозу стоимости квартиры. "
   ]
  },
  {
   "cell_type": "markdown",
   "metadata": {},
   "source": [
    "<h1 style=\"color:#008B8B\">3. Измерение ошибки в задачах регрессии</h1>\n",
    "\n",
    "### 1) MSE\n",
    "\n",
    "$\\large L(y, a) = (a - y)^2$\n",
    "\n",
    "$\\large \\text{MSE}(a, X) = \\frac{1}{\\ell} \\sum\\limits_{i=1}^{\\ell} (a(x_i) - y_i)^2$\n",
    "\n",
    "### 2) MAE\n",
    "\n",
    "$\\large L(y, a) = |a - y|$\n",
    "\n",
    "$\\large \\text{MAE}(a, X) = \\frac{1}{\\ell} \\sum\\limits_{i=1}^{\\ell} |a(x_i) - y_i|$\n",
    "\n",
    "**MAE vs MSE**\n",
    "\n",
    "Предположим, у нас имеются фактические значения объекта $y$ и предсказание модеи $a(x)$:\n",
    "\n",
    "|$$y$$     |$$a(x)$$ |$$|a(x) - y|$$ |$$(a(x)-y)^2$$|\n",
    "|:--------:|:-------:|:-------------:|:------------:|\n",
    "|1         |2        |1              |1             |\n",
    "|1000      |2        |998            |996004        |\n",
    "\n",
    "Если изменить веса модели так, чтобы прогноз сталы на еденицу ближе к ответу для каждого объекта:\n",
    "\n",
    "|$$y$$     |$$a(x)$$ |$$|a(x) - y|$$ |$$(a(x)-y)^2$$|\n",
    "|:--------:|:-------:|:-------------:|:------------:|\n",
    "|1         |1        |0              |0             |\n",
    "|1000      |3        |997            |994009        |\n",
    "\n",
    "Изменив прогноз на еденицу, ошибка для $\\text{MSE}$ на втором объекте уменьшилась на $2000$, а для $\\text{MAE}$ ошибка уменьшилась на еденицу. Это говорит о том, что модель для уменьшения функционала ошибки будет подбирать веса так, чтобы минимизировать отклонения на выбросах. Для $MSE$ выгоднее уменьшить ошибку на выборсе и увеличить ошибку на остальных объектах, нежели иначе, это связано с тем, что квадрат сильнее штрафует за большие отклонения.\n",
    "\n",
    "\n",
    "В случае $\\text{MAE}$ ошибка на двух объекта изменилась только на еденицу, что говорит о устойчивости модели к выбросам, так как для $\\text{MAE}$ не важно для каких объектов изменять веса, штраф будет одинаковым.\n",
    "\n",
    "**Градиентный спуск**\n",
    "\n",
    "Для $\\text{MSE}$ производная будет тем меньше, чем ближе мы к нулю, что позволяет делать все меньший шаг и не перескочить минимум. \n",
    "\n",
    "Для $\\text{MAE}$ значение производная одинаково по масштабу, независимо в какой точке мы находимся. Значит шаг будет всюду одинаковый и мы можем прешагнуть минимум функции. Делаем выводы, что производная $\\text{MAE}$ не содержит информации о близости к экстремуму. "
   ]
  },
  {
   "cell_type": "markdown",
   "metadata": {},
   "source": [
    "### 3) MAPE\n",
    "\n",
    "$\\large L(y, a) = \\big| \\frac{y-a}{y} \\big|$\n",
    "\n",
    "Соответствующий функционал называется средней абсолютной процентной ошибкой $\\text{(mean absolute percentage error, MAPE)}$:\n",
    "\n",
    "$\\large \\text{MAPE}(a, X) = \\frac{1}{\\ell} \\sum\\limits_{i=1}^{\\ell} \\bigg|\\frac{y_i - a(x_i)}{y_i} \\bigg|$\n",
    "\n",
    "Это обычно используется при прогназировании запасов товаров. В магазине имеются разные товары, некоторые продаются еденицами в день, а другие тысячами в день. Есили считать средний модуль отклонений, тогда товары, которые продаются больше, будут больший вклад вносить в среднее или сумму. А при использовании $MAPE$, товары будут вносить равный вклад независимо от количество продаваемых едениц.\n",
    "\n",
    "У этой функции потреь имеется проблема несимметричности. Если $y=1$, тогда худший недопрогноз равен $a = 0$. В этом случае значение функции потерь будет равно $L = 1$. Если же сильное завышение прогноза $a = 1000$, тогда функция потерь будет равна $L = 999$. Следовательно, для недопрогноза значение ошибки ограничено снизу 1, а для перепрогноза значение ошибки не ограничено сверху. Это приводит к тому, что модель будет больше штрафовать за перепрогноз.\n",
    "\n",
    "Это исправляется в симметричной модификации $\\text{(symmetric mean absolute percentage error, SMAPE)}$:\n",
    "\n",
    "$\\large L(y, a) = \\frac{|y - a|}{(|y| + |a|) / 2}$\n",
    "\n",
    "Для этой функци потерь можно проверить, что максимум недопрогноза и препрогноза одинаковый."
   ]
  },
  {
   "cell_type": "markdown",
   "metadata": {},
   "source": [
    "### Визуализируем фукнции потерь"
   ]
  },
  {
   "cell_type": "code",
   "execution_count": 278,
   "metadata": {},
   "outputs": [],
   "source": [
    "import matplotlib.pyplot as plt\n",
    "import numpy as np\n",
    "\n",
    "%matplotlib inline\n",
    "%config InlineBackend.figure_format = 'png'"
   ]
  },
  {
   "cell_type": "code",
   "execution_count": 279,
   "metadata": {},
   "outputs": [],
   "source": [
    "def mae(a, y):\n",
    "    return np.abs(y - a)\n",
    "\n",
    "def mape(a, y):\n",
    "    return np.abs((y - a) / y)\n",
    "\n",
    "def smape(a, y):\n",
    "    return np.abs(\n",
    "        (y - a) / ((np.abs(y) + np.abs(a)) / 2)\n",
    "    )"
   ]
  },
  {
   "cell_type": "code",
   "execution_count": 282,
   "metadata": {},
   "outputs": [
    {
     "data": {
      "image/png": "[encoded data removed]",
      "text/plain": [
       "<Figure size 864x576 with 1 Axes>"
      ]
     },
     "metadata": {
      "needs_background": "light"
     },
     "output_type": "display_data"
    }
   ],
   "source": [
    "plt.figure(figsize=(12, 8))\n",
    "plt.tick_params(axis='both', which='major', labelsize=12)\n",
    "\n",
    "y = 2  # Значение целевой переменной\n",
    "\n",
    "# MAE\n",
    "a_data = np.linspace(-4, 6, 1000) # Предсказание модели\n",
    "mae_loss = [mae(a, y) for a in a_data]\n",
    "plt.plot(a_data, mae_loss, label='MAE')\n",
    "\n",
    "# MAPE\n",
    "a_data = np.linspace(0, 6, 1000)\n",
    "mape_loss = [mape(a, y) for a in a_data]\n",
    "plt.plot(a_data, mape_loss, label='MAPE')\n",
    "\n",
    "# SMAPE\n",
    "a_data = np.linspace(-4, 6, 1000)\n",
    "smape_loss = [smape(a, y) for a in a_data]\n",
    "plt.plot(a_data, smape_loss, label='SMAPE')\n",
    "\n",
    "plt.vlines(0, 0, 6, 'black')\n",
    "plt.xlabel('y', fontsize=16)\n",
    "plt.ylabel('Loss', fontsize=16)\n",
    "plt.xlim(-2, 6)\n",
    "plt.ylim(0, 6)\n",
    "plt.legend(fontsize=14)\n",
    "plt.grid()\n",
    "plt.show()"
   ]
  }
 ],
 "metadata": {
  "kernelspec": {
   "display_name": "Python 3 (ipykernel)",
   "language": "python",
   "name": "python3"
  },
  "language_info": {
   "codemirror_mode": {
    "name": "ipython",
    "version": 3
   },
   "file_extension": ".py",
   "mimetype": "text/x-python",
   "name": "python",
   "nbconvert_exporter": "python",
   "pygments_lexer": "ipython3",
   "version": "3.9.7"
  },
  "varInspector": {
   "cols": {
    "lenName": 16,
    "lenType": 16,
    "lenVar": 40
   },
   "kernels_config": {
    "python": {
     "delete_cmd_postfix": "",
     "delete_cmd_prefix": "del ",
     "library": "var_list.py",
     "varRefreshCmd": "print(var_dic_list())"
    },
    "r": {
     "delete_cmd_postfix": ") ",
     "delete_cmd_prefix": "rm(",
     "library": "var_list.r",
     "varRefreshCmd": "cat(var_dic_list()) "
    }
   },
   "types_to_exclude": [
    "module",
    "function",
    "builtin_function_or_method",
    "instance",
    "_Feature"
   ],
   "window_display": false
  }
 },
 "nbformat": 4,
 "nbformat_minor": 4
}
